{
 "cells": [
  {
   "cell_type": "code",
   "execution_count": 1,
   "metadata": {},
   "outputs": [],
   "source": [
    "# magic column V301 id와 묶어서\n",
    "# productCD  transactionamt 묶어서\n",
    "# card4\n",
    "# Transform id_30, id_31¶\n",
    "# addr2 특정 지역 무적권 사기\n",
    "# id 30 id31"
   ]
  },
  {
   "cell_type": "code",
   "execution_count": 2,
   "metadata": {},
   "outputs": [],
   "source": [
    "import numpy as np # linear algebra\n",
    "import pandas as pd # data processing, CSV file I/O (e.g. pd.read_csv)\n",
    "# Preprocessing, modelling and evaluating\n",
    "from sklearn import preprocessing\n",
    "from sklearn.metrics import confusion_matrix, roc_auc_score\n",
    "from sklearn.model_selection import StratifiedKFold, cross_val_score, KFold\n",
    "from xgboost import XGBClassifier\n",
    "import xgboost as xgb\n",
    "import hashlib\n",
    "import os\n",
    "import gc"
   ]
  },
  {
   "cell_type": "code",
   "execution_count": 4,
   "metadata": {},
   "outputs": [
    {
     "data": {
      "text/plain": [
       "1107"
      ]
     },
     "execution_count": 4,
     "metadata": {},
     "output_type": "execute_result"
    }
   ],
   "source": [
    "train_transaction = pd.read_csv('train_transaction.csv', index_col='TransactionID')\n",
    "train_identity = pd.read_csv('train_identity.csv', index_col='TransactionID')\n",
    "train = train_transaction.merge(train_identity, how='left', left_index=True, right_index=True)\n",
    "del train_transaction, train_identity\n",
    "gc.collect()"
   ]
  },
  {
   "cell_type": "code",
   "execution_count": 5,
   "metadata": {},
   "outputs": [
    {
     "data": {
      "text/plain": [
       "0"
      ]
     },
     "execution_count": 5,
     "metadata": {},
     "output_type": "execute_result"
    }
   ],
   "source": [
    "test_transaction = pd.read_csv('test_transaction.csv', index_col='TransactionID')\n",
    "test_identity = pd.read_csv('test_identity.csv', index_col='TransactionID')\n",
    "test = test_transaction.merge(test_identity, how='left', left_index=True, right_index=True)\n",
    "del test_transaction, test_identity\n",
    "gc.collect()"
   ]
  },
  {
   "cell_type": "code",
   "execution_count": 28,
   "metadata": {},
   "outputs": [
    {
     "data": {
      "text/plain": [
       "0          19.0\n",
       "1        -999.0\n",
       "2         287.0\n",
       "3        -999.0\n",
       "4        -999.0\n",
       "          ...  \n",
       "590535     48.0\n",
       "590536   -999.0\n",
       "590537   -999.0\n",
       "590538      3.0\n",
       "590539   -999.0\n",
       "Name: dist1, Length: 590540, dtype: float16"
      ]
     },
     "execution_count": 28,
     "metadata": {},
     "output_type": "execute_result"
    }
   ],
   "source": [
    "train['dist1']"
   ]
  },
  {
   "cell_type": "code",
   "execution_count": 6,
   "metadata": {},
   "outputs": [],
   "source": [
    "test.columns = test.columns.str.replace('-', '_')"
   ]
  },
  {
   "cell_type": "code",
   "execution_count": 10,
   "metadata": {},
   "outputs": [
    {
     "data": {
      "text/plain": [
       "64"
      ]
     },
     "execution_count": 10,
     "metadata": {},
     "output_type": "execute_result"
    }
   ],
   "source": [
    "selected_features = ['TransactionDT',\n",
    " 'TransactionAmt','card1','card2','card3','card5',\n",
    " 'addr1','addr2',\n",
    " 'C1','C2','C3','C4','C5','C6','C7','C8','C9','C10','C11','C12','C13','C14',\n",
    " 'D1','D2','D3','D4','D5','D6','D7','D8','D9','D10','D11','D12','D13','D14','D15','V307',\n",
    " 'ProductCD',\n",
    " 'card4',\n",
    " 'card6',\n",
    " 'P_emaildomain',\n",
    " 'R_emaildomain', \n",
    " 'dist1','id_30','id_31', 'id_32', 'id_33', 'id_34',\n",
    " 'DeviceType','DeviceInfo',\n",
    "  'V314', 'V310', 'V127', 'V78', 'V62'\n",
    " ,'id_19','id_20'\n",
    " ]\n",
    "\n",
    "len(selected_features)"
   ]
  },
  {
   "cell_type": "code",
   "execution_count": 11,
   "metadata": {},
   "outputs": [],
   "source": [
    "train = train[selected_features + ['isFraud']]\n",
    "test = test[selected_features ]"
   ]
  },
  {
   "cell_type": "code",
   "execution_count": 12,
   "metadata": {},
   "outputs": [],
   "source": [
    "# train = train.fillna(-999)\n",
    "# test = test.fillna(-999)"
   ]
  },
  {
   "cell_type": "code",
   "execution_count": 13,
   "metadata": {},
   "outputs": [],
   "source": [
    "# 점수비교 \n",
    "# https://www.kaggle.com/kyakovlev/ieee-gb-2-make-amount-useful-again\n",
    "\n",
    "train['uid'] = train['card1'].astype(str)+'_'+train['card2'].astype(str)+'_'+train['card3'].astype(str)+'_'+train['card4'].astype(str)\n",
    "test['uid'] = test['card1'].astype(str)+'_'+test['card2'].astype(str)+'_'+test['card3'].astype(str)+'_'+test['card4'].astype(str)\n",
    "\n",
    "train['uid2'] = train['uid'].astype(str)+'_'+train['addr1'].astype(str)+'_'+train['addr2'].astype(str)\n",
    "test['uid2'] = test['uid'].astype(str)+'_'+test['addr1'].astype(str)+'_'+test['addr2'].astype(str)\n",
    "\n",
    "i_cols = ['card1','card2','card3','card5','uid','uid2']\n",
    "\n",
    "for col in i_cols:\n",
    "    for agg_type in ['mean', 'std', 'nunique']:\n",
    "        new_col_name = col+'_TransactionAmt_'+agg_type\n",
    "        temp = pd.concat([train[[col, 'TransactionAmt']], test[[col,'TransactionAmt']]])\n",
    "        temp = temp.groupby([col])['TransactionAmt'].agg([agg_type]).reset_index().rename(\n",
    "                                                columns={agg_type: new_col_name})\n",
    "        \n",
    "        temp.index = list(temp[col])\n",
    "        temp = temp[new_col_name].to_dict()\n",
    "        \n",
    "        train[new_col_name] = train[col].map(temp)\n",
    "        test[new_col_name]  = test[col].map(temp)\n",
    "        \n",
    "########################### Anomaly Search in geo information\n",
    "\n",
    "# Let's look on bank addres and client addres matching\n",
    "# card3/card5 bank country and name?\n",
    "# Addr2 -> Clients geo position (country)\n",
    "# Most common entries -> normal transactions\n",
    "# Less common etries -> some anonaly\n",
    "train['bank_type'] = train['card3'].astype(str)+'_'+train['card5'].astype(str)\n",
    "test['bank_type']  = test['card3'].astype(str)+'_'+test['card5'].astype(str)\n",
    "\n",
    "train['address_match'] = train['bank_type'].astype(str)+'_'+train['addr2'].astype(str)\n",
    "test['address_match']  = test['bank_type'].astype(str)+'_'+test['addr2'].astype(str)\n",
    "\n",
    "for col in ['address_match','bank_type']:\n",
    "    temp = pd.concat([train[[col]], test[[col]]])\n",
    "    temp[col] = np.where(temp[col].str.contains('nan'), np.nan, temp[col])\n",
    "    temp = temp.dropna()\n",
    "    fq_encode = temp[col].value_counts().to_dict()   \n",
    "    train[col] = train[col].map(fq_encode)\n",
    "    test[col]  = test[col].map(fq_encode)\n",
    "\n",
    "train['address_match'] = train['address_match']/train['bank_type'] \n",
    "test['address_match']  = test['address_match']/test['bank_type']"
   ]
  },
  {
   "cell_type": "markdown",
   "metadata": {},
   "source": [
    "user"
   ]
  },
  {
   "cell_type": "code",
   "execution_count": 14,
   "metadata": {},
   "outputs": [],
   "source": [
    "# id_19와 id_20을 결합하여 user 변수 생성\n",
    "train['user'] = train['id_19'].astype(str) + '_' + train['id_20'].astype(str)\n",
    "test['user'] = test['id_19'].astype(str) + '_' + test['id_20'].astype(str)\n",
    "\n",
    "# 기존 i_cols에 user 추가\n",
    "i_cols = ['card1', 'card2', 'card3', 'card5', 'uid', 'uid2', 'user']\n",
    "\n",
    "for col in i_cols:\n",
    "    for agg_type in ['mean', 'std', 'nunique']:\n",
    "        new_col_name = col + '_TransactionAmt_' + agg_type\n",
    "        temp = pd.concat([train[[col, 'TransactionAmt']], test[[col, 'TransactionAmt']]])\n",
    "        temp = temp.groupby([col])['TransactionAmt'].agg([agg_type]).reset_index().rename(\n",
    "            columns={agg_type: new_col_name})\n",
    "        \n",
    "        temp.index = list(temp[col])\n",
    "        temp = temp[new_col_name].to_dict()\n",
    "        \n",
    "        train[new_col_name] = train[col].map(temp)\n",
    "        test[new_col_name] = test[col].map(temp)"
   ]
  },
  {
   "cell_type": "markdown",
   "metadata": {},
   "source": [
    "Date"
   ]
  },
  {
   "cell_type": "code",
   "execution_count": 15,
   "metadata": {},
   "outputs": [],
   "source": [
    "import datetime\n",
    "\n",
    "# timeblock으로 시간을 만드는 코드 \n",
    "\n",
    "start_date = datetime.datetime.strptime('2017.11.30', '%Y.%m.%d')\n",
    "train['timeblock'] = train['TransactionDT'].apply(lambda x: datetime.timedelta(seconds=x) + start_date)\n",
    "test['timeblock'] = test['TransactionDT'].apply(lambda x: datetime.timedelta(seconds=x) + start_date)\n",
    "\n",
    "tb = train['timeblock']\n",
    "train.drop('timeblock', axis=1, inplace=True)\n",
    "train.insert(0, 'timeblock', tb)\n",
    "\n",
    "tb = test['timeblock']\n",
    "test.drop('timeblock', axis=1, inplace=True)\n",
    "test.insert(0, 'timeblock', tb)\n",
    "\n",
    "# \"가입일로부터의 시간\"(D8)을 통해 \"가입일\"을 만드는 코드. \n",
    "def account_start_date(val):\n",
    "    if np.isnan(val):\n",
    "        return np.NaN\n",
    "    else:\n",
    "        days = int(str(val).split('.')[0])\n",
    "        return pd.Timedelta(str(days) + ' days')\n",
    "\n",
    "for i in ['D1', 'D2', 'D4', 'D8', 'D10', 'D15']:\n",
    "    train['account_start_day'] = train[i].apply(account_start_date)\n",
    "    test['account_start_day'] = test[i].apply(account_start_date)\n",
    "\n",
    "    # account_make_date 컴퓨터가 인식할 수 있도록 수치형으로 바꿔 줌. \n",
    "    train['account_make_date'] = (train['timeblock'] - train['account_start_day']).dt.date\n",
    "    test['account_make_date'] = (test['timeblock'] - test['account_start_day']).dt.date\n",
    "\n",
    "    train['account_make_date_{}'.format(i)] = (10000 * pd.to_datetime(train['account_make_date']).dt.year) + (100 * pd.to_datetime(train['account_make_date']).dt.month) + (1 * pd.to_datetime(train['account_make_date']).dt.day)\n",
    "    test['account_make_date_{}'.format(i)] = (10000 * pd.to_datetime(test['account_make_date']).dt.year) + (100 * pd.to_datetime(test['account_make_date']).dt.month) + (1 * pd.to_datetime(test['account_make_date']).dt.day)\n",
    "\n",
    "del train['account_make_date']; del test['account_make_date']\n",
    "del train['account_start_day']; del test['account_start_day']\n",
    "train['date'] = pd.to_datetime(train['timeblock']).dt.date\n",
    "test['date'] = pd.to_datetime(test['timeblock']).dt.date\n",
    "\n",
    "train['year'] = train['timeblock'].dt.year\n",
    "train['month'] = train['timeblock'].dt.month\n",
    "train['day'] = train['timeblock'].dt.day\n",
    "train['dayofweek'] = train['timeblock'].dt.dayofweek\n",
    "train['hour'] = train['timeblock'].dt.hour\n",
    "# train['minute'] = train['timeblock'].dt.minute\n",
    "# train['second'] = train['timeblock'].dt.second\n",
    "\n",
    "test['year'] = test['timeblock'].dt.year\n",
    "test['month'] = test['timeblock'].dt.month\n",
    "test['day'] = test['timeblock'].dt.day\n",
    "test['dayofweek'] = test['timeblock'].dt.dayofweek\n",
    "test['hour'] = test['timeblock'].dt.hour\n",
    "# test['minute'] = test['timeblock'].dt.minute\n",
    "# test['second'] = test['timeblock'].dt.second\n"
   ]
  },
  {
   "cell_type": "markdown",
   "metadata": {},
   "source": [
    "Card_device 조합에서 V307 적용"
   ]
  },
  {
   "cell_type": "code",
   "execution_count": 16,
   "metadata": {},
   "outputs": [],
   "source": [
    "\n",
    "def card_info_hash(x):\n",
    "    s = (str(int(x['card1']))+\n",
    "         str(int(x['card2']))+\n",
    "         str(int(x['card3']))+\n",
    "         str(x['card4'])+\n",
    "         str(int(x['card5']))+\n",
    "         str(x['card6']))\n",
    "    h = hashlib.sha256(s.encode('utf-8')).hexdigest()[0:15]\n",
    "    return h\n",
    "\n",
    "def device_hash(x):\n",
    "    s =  str(x['id_30'])+str(x['id_31'])+str(x['id_32'])+str(x['id_33'])+str( x['DeviceType'])+ str(x['DeviceInfo'])\n",
    "    h = hashlib.sha256(s.encode('utf-8')).hexdigest()[0:15]\n",
    "    return h\n",
    "\n",
    "train['card_hash'] = train.apply(lambda x: card_info_hash(x), axis=1   )\n",
    "train['device_hash'] = train.apply(lambda x: device_hash(x), axis=1   )\n",
    "\n",
    "test['card_hash'] = test.apply(lambda x: card_info_hash(x), axis=1   )\n",
    "test['device_hash'] = test.apply(lambda x: device_hash(x), axis=1   )"
   ]
  },
  {
   "cell_type": "code",
   "execution_count": 29,
   "metadata": {},
   "outputs": [
    {
     "data": {
      "text/plain": [
       "0          8296\n",
       "1          8152\n",
       "2          8694\n",
       "3          7408\n",
       "4         12607\n",
       "          ...  \n",
       "590535     2928\n",
       "590536    11801\n",
       "590537    12880\n",
       "590538     6157\n",
       "590539     4272\n",
       "Name: card_hash, Length: 590540, dtype: int32"
      ]
     },
     "execution_count": 29,
     "metadata": {},
     "output_type": "execute_result"
    }
   ],
   "source": [
    "train['card_hash']"
   ]
  },
  {
   "cell_type": "code",
   "execution_count": 17,
   "metadata": {},
   "outputs": [],
   "source": [
    "train['V307_diff'] = train['V307'].diff().shift(-1)\n",
    "train['difference'] = train['V307_diff'] - train['TransactionAmt']\n",
    "\n",
    "test['v307_diff'] = test['V307'].diff().shift(-1)\n",
    "test['difference'] = test['v307_diff'] - test['TransactionAmt']"
   ]
  },
  {
   "cell_type": "markdown",
   "metadata": {},
   "source": [
    "prev / next click\n"
   ]
  },
  {
   "cell_type": "code",
   "execution_count": 18,
   "metadata": {},
   "outputs": [],
   "source": [
    "# train['uid2_prev_click'] = train['TransactionDT'] - train.groupby(['uid2'])['TransactionDT'].shift(1)\n",
    "# test['uid2_prev_click'] = test['TransactionDT'] - test.groupby(['uid2'])['TransactionDT'].shift(1)\n",
    "total = pd.concat([train,test],axis=0,sort=False)\n",
    "\n",
    "train['uid2_next_click'] = train['TransactionDT'] - train.groupby(['uid2'])['TransactionDT'].shift(-1)\n",
    "test['uid2_next_click'] = test['TransactionDT'] - test.groupby(['uid2'])['TransactionDT'].shift(-1)\n",
    "del train['uid']; del train['uid2']; del train['bank_type']\n",
    "del test['uid']; del test['uid2']; del test['bank_type']\n",
    "train = train.merge(total.groupby(['card1','account_make_date_D1','ProductCD'])['TransactionAmt'].agg({'mean','std'}).reset_index().rename(columns={'mean':'card1_D1_productCD_Amt_mean','std':'card1_D1_productCD_Amt_std'}), how='left', on = ['card1','account_make_date_D1','ProductCD'])\n",
    "test = test.merge(total.groupby(['card1','account_make_date_D1','ProductCD'])['TransactionAmt'].agg({'mean','std'}).reset_index().rename(columns={'mean':'card1_D1_productCD_Amt_mean','std':'card1_D1_productCD_Amt_std'}), how='left', on = ['card1','account_make_date_D1','ProductCD'])\n",
    "train = train.merge(total.groupby(['card1','card2','card3','card4','addr1','addr2','ProductCD'])['dayofweek'].agg({'mean','std'}).reset_index().rename(columns={'mean':'uid2_dayofweek_mean','std':'uid2_dayofweek_std'}), how='left', on = ['card1','card2','card3','card4','addr1','addr2','ProductCD'])\n",
    "test = test.merge(total.groupby(['card1','card2','card3','card4','addr1','addr2','ProductCD'])['dayofweek'].agg({'mean','std'}).reset_index().rename(columns={'mean':'uid2_dayofweek_mean','std':'uid2_dayofweek_std'}), how='left', on = ['card1','card2','card3','card4','addr1','addr2','ProductCD'])"
   ]
  },
  {
   "cell_type": "code",
   "execution_count": 19,
   "metadata": {},
   "outputs": [
    {
     "name": "stdout",
     "output_type": "stream",
     "text": [
      "Memory usage of dataframe is 470.82 MB\n",
      "Memory usage after optimization is: 208.94 MB\n",
      "Decreased by 55.6%\n",
      "Memory usage of dataframe is 400.10 MB\n",
      "Memory usage after optimization is: 179.76 MB\n",
      "Decreased by 55.1%\n"
     ]
    }
   ],
   "source": [
    "\n",
    "def reduce_mem_usage(df):\n",
    "    start_mem = df.memory_usage().sum() / 1024**2\n",
    "    print('Memory usage of dataframe is {:.2f} MB'.format(start_mem))\n",
    "    \n",
    "    for col in df.columns:\n",
    "        col_type = df[col].dtype\n",
    "        \n",
    "        if col_type != object and not np.issubdtype(col_type, np.datetime64):\n",
    "            c_min = df[col].min()\n",
    "            c_max = df[col].max()\n",
    "            \n",
    "            if str(col_type)[:3] == 'int':\n",
    "                if c_min > np.iinfo(np.int8).min and c_max < np.iinfo(np.int8).max:\n",
    "                    df[col] = df[col].astype(np.int8)\n",
    "                elif c_min > np.iinfo(np.int16).min and c_max < np.iinfo(np.int16).max:\n",
    "                    df[col] = df[col].astype(np.int16)\n",
    "                elif c_min > np.iinfo(np.int32).min and c_max < np.iinfo(np.int32).max:\n",
    "                    df[col] = df[col].astype(np.int32)\n",
    "                elif c_min > np.iinfo(np.int64).min and c_max < np.iinfo(np.int64).max:\n",
    "                    df[col] = df[col].astype(np.int64)  \n",
    "            else:\n",
    "                if c_min > np.finfo(np.float16).min and c_max < np.finfo(np.float16).max:\n",
    "                    df[col] = df[col].astype(np.float16)\n",
    "                elif c_min > np.finfo(np.float32).min and c_max < np.finfo(np.float32).max:\n",
    "                    df[col] = df[col].astype(np.float32)\n",
    "                else:\n",
    "                    df[col] = df[col].astype(np.float64)\n",
    "    \n",
    "    end_mem = df.memory_usage().sum() / 1024**2\n",
    "    print('Memory usage after optimization is: {:.2f} MB'.format(end_mem))\n",
    "    print('Decreased by {:.1f}%'.format(100 * (start_mem - end_mem) / start_mem))\n",
    "    \n",
    "    return df\n",
    "\n",
    "# 적용\n",
    "train = reduce_mem_usage(train)\n",
    "test = reduce_mem_usage(test)"
   ]
  },
  {
   "cell_type": "code",
   "execution_count": 20,
   "metadata": {},
   "outputs": [],
   "source": [
    "test = test.drop(['V307','id_30','id_31','id_32','id_33','DeviceType','DeviceInfo','id_19','id_20'], axis=1)\n",
    "train = train.drop(['V307','id_30','id_31','id_32','id_33','DeviceType','DeviceInfo','id_19','id_20'], axis=1)"
   ]
  },
  {
   "cell_type": "markdown",
   "metadata": {},
   "source": [
    "Extract target variable¶\n"
   ]
  },
  {
   "cell_type": "code",
   "execution_count": 21,
   "metadata": {},
   "outputs": [],
   "source": [
    "from sklearn.preprocessing import LabelEncoder\n",
    "\n",
    "# 범주형 열을 숫자형으로 변환\n",
    "def encode_categorical_columns(df):\n",
    "    label_encoders = {}\n",
    "    for column in df.select_dtypes(include=['object']).columns:\n",
    "        le = LabelEncoder()\n",
    "        df[column] = le.fit_transform(df[column].astype(str))\n",
    "        label_encoders[column] = le\n",
    "    return df, label_encoders\n",
    "\n",
    "# train 데이터 인코딩\n",
    "train, _ = encode_categorical_columns(train)\n",
    "\n",
    "# test 데이터 인코딩\n",
    "test_encoded, _ = encode_categorical_columns(test)"
   ]
  },
  {
   "cell_type": "code",
   "execution_count": 22,
   "metadata": {},
   "outputs": [
    {
     "name": "stdout",
     "output_type": "stream",
     "text": [
      "Number of columns in train: 101\n",
      "Number of columns in test_encoded: 100\n"
     ]
    }
   ],
   "source": [
    "train_columns = train.shape[1]\n",
    "test_columns = test_encoded.shape[1]\n",
    "\n",
    "print(\"Number of columns in train:\", train_columns)\n",
    "print(\"Number of columns in test_encoded:\", test_columns)"
   ]
  },
  {
   "cell_type": "code",
   "execution_count": 23,
   "metadata": {},
   "outputs": [],
   "source": [
    "y = train['isFraud']\n",
    "X = train.drop('isFraud', axis=1)"
   ]
  },
  {
   "cell_type": "code",
   "execution_count": 24,
   "metadata": {},
   "outputs": [
    {
     "name": "stdout",
     "output_type": "stream",
     "text": [
      "[LightGBM] [Info] Number of positive: 15497, number of negative: 427408\n",
      "[LightGBM] [Info] Auto-choosing col-wise multi-threading, the overhead of testing was 0.186285 seconds.\n",
      "You can set `force_col_wise=true` to remove the overhead.\n",
      "[LightGBM] [Info] Total Bins 17975\n",
      "[LightGBM] [Info] Number of data points in the train set: 442905, number of used features: 100\n",
      "[LightGBM] [Info] [binary:BoostFromScore]: pavg=0.034989 -> initscore=-3.317093\n",
      "[LightGBM] [Info] Start training from score -3.317093\n",
      "Training until validation scores don't improve for 100 rounds\n",
      "[100]\ttraining's auc: 0.954261\tvalid_1's auc: 0.938832\n",
      "[200]\ttraining's auc: 0.972847\tvalid_1's auc: 0.951871\n",
      "[300]\ttraining's auc: 0.982667\tvalid_1's auc: 0.959444\n",
      "[400]\ttraining's auc: 0.988539\tvalid_1's auc: 0.963443\n",
      "[500]\ttraining's auc: 0.992071\tvalid_1's auc: 0.965297\n",
      "[600]\ttraining's auc: 0.994594\tvalid_1's auc: 0.967571\n",
      "[700]\ttraining's auc: 0.996338\tvalid_1's auc: 0.969064\n",
      "[800]\ttraining's auc: 0.99759\tvalid_1's auc: 0.969973\n",
      "[900]\ttraining's auc: 0.998368\tvalid_1's auc: 0.971001\n",
      "[1000]\ttraining's auc: 0.998882\tvalid_1's auc: 0.971592\n",
      "[1100]\ttraining's auc: 0.999218\tvalid_1's auc: 0.97222\n",
      "[1200]\ttraining's auc: 0.999486\tvalid_1's auc: 0.972656\n",
      "[1300]\ttraining's auc: 0.99967\tvalid_1's auc: 0.972963\n",
      "[1400]\ttraining's auc: 0.999792\tvalid_1's auc: 0.973525\n",
      "[1500]\ttraining's auc: 0.999874\tvalid_1's auc: 0.973785\n",
      "[1600]\ttraining's auc: 0.999921\tvalid_1's auc: 0.973986\n",
      "[1700]\ttraining's auc: 0.999964\tvalid_1's auc: 0.974376\n",
      "[1800]\ttraining's auc: 0.999976\tvalid_1's auc: 0.974472\n",
      "[1900]\ttraining's auc: 0.999984\tvalid_1's auc: 0.974651\n",
      "[2000]\ttraining's auc: 0.999993\tvalid_1's auc: 0.974783\n",
      "[2100]\ttraining's auc: 0.999997\tvalid_1's auc: 0.974887\n",
      "[2200]\ttraining's auc: 0.999999\tvalid_1's auc: 0.975088\n",
      "[2300]\ttraining's auc: 0.999999\tvalid_1's auc: 0.975121\n",
      "[2400]\ttraining's auc: 1\tvalid_1's auc: 0.9753\n",
      "[2500]\ttraining's auc: 1\tvalid_1's auc: 0.975202\n",
      "Early stopping, best iteration is:\n",
      "[2412]\ttraining's auc: 1\tvalid_1's auc: 0.975317\n"
     ]
    }
   ],
   "source": [
    "import pandas as pd\n",
    "from sklearn.model_selection import train_test_split\n",
    "import lightgbm as lgb\n",
    "\n",
    "# Convert DateTime columns to numerical format\n",
    "def convert_datetime_columns(df):\n",
    "    for col in df.columns:\n",
    "        if pd.api.types.is_datetime64_any_dtype(df[col]):\n",
    "            df[col] = df[col].astype('int64') // 10**9  # Convert to seconds since epoch\n",
    "    return df\n",
    "\n",
    "# Assuming X is your feature DataFrame\n",
    "X = convert_datetime_columns(X)\n",
    "\n",
    "# train, valid split\n",
    "X_tr, X_v, y_tr, y_v = train_test_split(X, y, test_size=0.25, random_state=2024, stratify=y)\n",
    "\n",
    "# 데이터 셋 생성\n",
    "train_data = lgb.Dataset(X_tr, label=y_tr)\n",
    "valid_data = lgb.Dataset(X_v, label=y_v)\n",
    "\n",
    "params = {\n",
    "    'objective': 'binary',\n",
    "    'metric': 'auc'\n",
    "}\n",
    "\n",
    "# 모델 학습\n",
    "callbacks = [lgb.early_stopping(stopping_rounds=100), lgb.log_evaluation(period=100)]\n",
    "clf = lgb.train(params, train_data, num_boost_round=10000, valid_sets=[train_data, valid_data], callbacks=callbacks)"
   ]
  },
  {
   "cell_type": "code",
   "execution_count": 25,
   "metadata": {},
   "outputs": [
    {
     "data": {
      "image/png": "[encoded data removed]",
      "text/plain": [
       "<Figure size 1000x800 with 1 Axes>"
      ]
     },
     "metadata": {},
     "output_type": "display_data"
    }
   ],
   "source": [
    "import matplotlib.pyplot as plt\n",
    "# 피처 중요도 추출\n",
    "importance = clf.feature_importance()\n",
    "feature_names = X_tr.columns\n",
    "\n",
    "# 피처 중요도를 데이터프레임으로 변환\n",
    "importance_df = pd.DataFrame({\n",
    "    'feature': feature_names,\n",
    "    'importance': importance\n",
    "})\n",
    "\n",
    "# 중요도 순으로 정렬하고 상위 20개 피처 선택\n",
    "top_20_features = importance_df.sort_values(by='importance', ascending=False).head(20)\n",
    "\n",
    "# 피처 중요도 시각화\n",
    "plt.figure(figsize=(10, 8))\n",
    "plt.barh(top_20_features['feature'], top_20_features['importance'], color='skyblue')\n",
    "plt.xlabel('Feature Importance')\n",
    "plt.ylabel('Feature')\n",
    "plt.title('Top 20 Feature Importances')\n",
    "plt.gca().invert_yaxis()  # 가장 중요한 피처가 위에 오도록 y축을 반전\n",
    "plt.show()"
   ]
  },
  {
   "cell_type": "code",
   "execution_count": 26,
   "metadata": {},
   "outputs": [],
   "source": [
    "# DateTime64 타입의 열을 숫자 형식으로 변환하는 함수\n",
    "def convert_datetime_columns(df):\n",
    "    for col in df.columns:\n",
    "        if pd.api.types.is_datetime64_any_dtype(df[col]):\n",
    "            df[col] = df[col].astype('int64') // 10**9  # 초 단위로 변환\n",
    "    return df\n",
    "\n",
    "# test_encoded 데이터프레임의 DateTime64 타입 열 변환\n",
    "test_encoded = convert_datetime_columns(test_encoded)\n",
    "\n",
    "# 예측 수행\n",
    "preds = clf.predict(test_encoded)\n",
    "\n",
    "# 결과 저장\n",
    "result = pd.read_csv(\"sample_submission.csv\")\n",
    "result['isFraud'] = preds\n",
    "result.to_csv('result.csv', index=False)"
   ]
  },
  {
   "cell_type": "code",
   "execution_count": 27,
   "metadata": {},
   "outputs": [
    {
     "name": "stdout",
     "output_type": "stream",
     "text": [
      "Columns in the DataFrame:\n",
      "timeblock, TransactionDT, TransactionAmt, card1, card2, card3, card5, addr1, addr2, C1, C2, C3, C4, C5, C6, C7, C8, C9, C10, C11, C12, C13, C14, D1, D2, D3, D4, D5, D6, D7, D8, D9, D10, D11, D12, D13, D14, D15, ProductCD, card4, card6, P_emaildomain, R_emaildomain, dist1, id_34, V314, V310, V127, V78, V62, id_12, id_15, id_16, id_28, id_29, id_27, card1_TransactionAmt_mean, card1_TransactionAmt_std, card1_TransactionAmt_nunique, card2_TransactionAmt_mean, card2_TransactionAmt_std, card2_TransactionAmt_nunique, card3_TransactionAmt_mean, card3_TransactionAmt_std, card3_TransactionAmt_nunique, card5_TransactionAmt_mean, card5_TransactionAmt_std, card5_TransactionAmt_nunique, uid_TransactionAmt_mean, uid_TransactionAmt_std, uid_TransactionAmt_nunique, uid2_TransactionAmt_mean, uid2_TransactionAmt_std, uid2_TransactionAmt_nunique, address_match, user, user_TransactionAmt_mean, user_TransactionAmt_std, user_TransactionAmt_nunique, account_make_date_D1, account_make_date_D2, account_make_date_D4, account_make_date_D8, account_make_date_D10, account_make_date_D15, date, year, month, day, dayofweek, hour, card_hash, device_hash, v307_diff, difference, uid2_next_click, card1_D1_productCD_Amt_std, card1_D1_productCD_Amt_mean, uid2_dayofweek_std, uid2_dayofweek_mean\n",
      "Columns in the DataFrame:\n",
      "timeblock, TransactionDT, TransactionAmt, card1, card2, card3, card5, addr1, addr2, C1, C2, C3, C4, C5, C6, C7, C8, C9, C10, C11, C12, C13, C14, D1, D2, D3, D4, D5, D6, D7, D8, D9, D10, D11, D12, D13, D14, D15, ProductCD, card4, card6, P_emaildomain, R_emaildomain, dist1, id_34, V314, V310, V127, V78, V62, id_12, id_15, id_16, id_28, id_29, id_27, isFraud, card1_TransactionAmt_mean, card1_TransactionAmt_std, card1_TransactionAmt_nunique, card2_TransactionAmt_mean, card2_TransactionAmt_std, card2_TransactionAmt_nunique, card3_TransactionAmt_mean, card3_TransactionAmt_std, card3_TransactionAmt_nunique, card5_TransactionAmt_mean, card5_TransactionAmt_std, card5_TransactionAmt_nunique, uid_TransactionAmt_mean, uid_TransactionAmt_std, uid_TransactionAmt_nunique, uid2_TransactionAmt_mean, uid2_TransactionAmt_std, uid2_TransactionAmt_nunique, address_match, user, user_TransactionAmt_mean, user_TransactionAmt_std, user_TransactionAmt_nunique, account_make_date_D1, account_make_date_D2, account_make_date_D4, account_make_date_D8, account_make_date_D10, account_make_date_D15, date, year, month, day, dayofweek, hour, card_hash, device_hash, V307_diff, difference, uid2_next_click, card1_D1_productCD_Amt_std, card1_D1_productCD_Amt_mean, uid2_dayofweek_std, uid2_dayofweek_mean\n"
     ]
    }
   ],
   "source": [
    "def print_columns(df):\n",
    "    print(\"Columns in the DataFrame:\")\n",
    "    print(\", \".join(df.columns))\n",
    "\n",
    "print_columns(test_encoded)\n",
    "\n",
    "print_columns(train)"
   ]
  },
  {
   "cell_type": "code",
   "execution_count": 1,
   "metadata": {},
   "outputs": [
    {
     "name": "stdout",
     "output_type": "stream",
     "text": [
      "['TransactionAmt', 'card1_TransactionAmt_mean', 'card1_TransactionAmt_std', 'card1_TransactionAmt_nunique', 'card2_TransactionAmt_mean', 'card2_TransactionAmt_std', 'card2_TransactionAmt_nunique', 'card3_TransactionAmt_mean', 'card3_TransactionAmt_std', 'card3_TransactionAmt_nunique', 'card5_TransactionAmt_mean', 'card5_TransactionAmt_std', 'card5_TransactionAmt_nunique', 'uid_TransactionAmt_mean', 'uid_TransactionAmt_std', 'uid_TransactionAmt_nunique', 'uid2_TransactionAmt_mean', 'uid2_TransactionAmt_std', 'uid2_TransactionAmt_nunique', 'user_TransactionAmt_mean', 'user_TransactionAmt_std', 'user_TransactionAmt_nunique']\n"
     ]
    }
   ],
   "source": [
    "columns = [\n",
    "    \"timeblock\", \"TransactionDT\", \"TransactionAmt\", \"card1\", \"card2\", \"card3\", \"card5\", \"addr1\", \"addr2\", \"C1\", \"C2\", \"C3\", \"C4\", \"C5\", \"C6\", \"C7\", \"C8\", \"C9\", \"C10\", \"C11\", \"C12\", \"C13\", \"C14\", \"D1\", \"D2\", \"D3\", \"D4\", \"D5\", \"D6\", \"D7\", \"D8\", \"D9\", \"D10\", \"D11\", \"D12\", \"D13\", \"D14\", \"D15\", \"ProductCD\", \"card4\", \"card6\", \"P_emaildomain\", \"R_emaildomain\", \"dist1\", \"id_34\", \"V314\", \"V310\", \"V127\", \"V78\", \"V62\", \"id_12\", \"id_15\", \"id_16\", \"id_28\", \"id_29\", \"id_27\", \"isFraud\", \"card1_TransactionAmt_mean\", \"card1_TransactionAmt_std\", \"card1_TransactionAmt_nunique\", \"card2_TransactionAmt_mean\", \"card2_TransactionAmt_std\", \"card2_TransactionAmt_nunique\", \"card3_TransactionAmt_mean\", \"card3_TransactionAmt_std\", \"card3_TransactionAmt_nunique\", \"card5_TransactionAmt_mean\", \"card5_TransactionAmt_std\", \"card5_TransactionAmt_nunique\", \"uid_TransactionAmt_mean\", \"uid_TransactionAmt_std\", \"uid_TransactionAmt_nunique\", \"uid2_TransactionAmt_mean\", \"uid2_TransactionAmt_std\", \"uid2_TransactionAmt_nunique\", \"address_match\", \"user\", \"user_TransactionAmt_mean\", \"user_TransactionAmt_std\", \"user_TransactionAmt_nunique\", \"account_make_date_D1\", \"account_make_date_D2\", \"account_make_date_D4\", \"account_make_date_D8\", \"account_make_date_D10\", \"account_make_date_D15\", \"date\", \"year\", \"month\", \"day\", \"dayofweek\", \"hour\", \"card_hash\", \"device_hash\", \"V307_diff\", \"difference\", \"uid2_next_click\", \"card1_D1_productCD_Amt_std\", \"card1_D1_productCD_Amt_mean\", \"uid2_dayofweek_std\", \"uid2_dayofweek_mean\"\n",
    "]\n",
    "\n",
    "transaction_amt_columns = [col for col in columns if \"TransactionAmt\" in col]\n",
    "\n",
    "print(transaction_amt_columns)"
   ]
  },
  {
   "cell_type": "code",
   "execution_count": null,
   "metadata": {},
   "outputs": [],
   "source": []
  }
 ],
 "metadata": {
  "kernelspec": {
   "display_name": "Python 3",
   "language": "python",
   "name": "python3"
  },
  "language_info": {
   "codemirror_mode": {
    "name": "ipython",
    "version": 3
   },
   "file_extension": ".py",
   "mimetype": "text/x-python",
   "name": "python",
   "nbconvert_exporter": "python",
   "pygments_lexer": "ipython3",
   "version": "3.12.3"
  }
 },
 "nbformat": 4,
 "nbformat_minor": 2
}
