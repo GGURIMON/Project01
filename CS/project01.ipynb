{
 "cells": [
  {
   "cell_type": "code",
   "execution_count": 1,
   "metadata": {},
   "outputs": [],
   "source": [
    "import pandas as pd\n",
    "import numpy as np\n",
    "import matplotlib.pyplot as plt\n",
    "from sklearn.preprocessing import StandardScaler, LabelEncoder\n",
    "from sklearn.model_selection import train_test_split\n",
    "import datetime\n",
    "import hashlib\n",
    "import os\n",
    "import gc\n",
    "pd.options.display.max_rows = 500\n",
    "pd.options.display.max_columns = 200"
   ]
  },
  {
   "cell_type": "code",
   "execution_count": 2,
   "metadata": {},
   "outputs": [
    {
     "ename": "KeyboardInterrupt",
     "evalue": "",
     "output_type": "error",
     "traceback": [
      "\u001b[1;31m---------------------------------------------------------------------------\u001b[0m",
      "\u001b[1;31mKeyboardInterrupt\u001b[0m                         Traceback (most recent call last)",
      "Cell \u001b[1;32mIn[2], line 1\u001b[0m\n\u001b[1;32m----> 1\u001b[0m train_transaction \u001b[38;5;241m=\u001b[39m \u001b[43mpd\u001b[49m\u001b[38;5;241;43m.\u001b[39;49m\u001b[43mread_csv\u001b[49m\u001b[43m(\u001b[49m\u001b[38;5;124;43m'\u001b[39;49m\u001b[38;5;124;43mtrain_transaction.csv\u001b[39;49m\u001b[38;5;124;43m'\u001b[39;49m\u001b[43m,\u001b[49m\u001b[43m \u001b[49m\u001b[43mindex_col\u001b[49m\u001b[38;5;241;43m=\u001b[39;49m\u001b[38;5;124;43m'\u001b[39;49m\u001b[38;5;124;43mTransactionID\u001b[39;49m\u001b[38;5;124;43m'\u001b[39;49m\u001b[43m)\u001b[49m\n\u001b[0;32m      2\u001b[0m train_identity \u001b[38;5;241m=\u001b[39m pd\u001b[38;5;241m.\u001b[39mread_csv(\u001b[38;5;124m'\u001b[39m\u001b[38;5;124mtrain_identity.csv\u001b[39m\u001b[38;5;124m'\u001b[39m, index_col\u001b[38;5;241m=\u001b[39m\u001b[38;5;124m'\u001b[39m\u001b[38;5;124mTransactionID\u001b[39m\u001b[38;5;124m'\u001b[39m)\n\u001b[0;32m      3\u001b[0m train \u001b[38;5;241m=\u001b[39m train_transaction\u001b[38;5;241m.\u001b[39mmerge(train_identity, how\u001b[38;5;241m=\u001b[39m\u001b[38;5;124m'\u001b[39m\u001b[38;5;124mleft\u001b[39m\u001b[38;5;124m'\u001b[39m, left_index\u001b[38;5;241m=\u001b[39m\u001b[38;5;28;01mTrue\u001b[39;00m, right_index\u001b[38;5;241m=\u001b[39m\u001b[38;5;28;01mTrue\u001b[39;00m)\n",
      "File \u001b[1;32mc:\\Users\\USER\\AppData\\Local\\Programs\\Python\\Python312\\Lib\\site-packages\\pandas\\io\\parsers\\readers.py:1026\u001b[0m, in \u001b[0;36mread_csv\u001b[1;34m(filepath_or_buffer, sep, delimiter, header, names, index_col, usecols, dtype, engine, converters, true_values, false_values, skipinitialspace, skiprows, skipfooter, nrows, na_values, keep_default_na, na_filter, verbose, skip_blank_lines, parse_dates, infer_datetime_format, keep_date_col, date_parser, date_format, dayfirst, cache_dates, iterator, chunksize, compression, thousands, decimal, lineterminator, quotechar, quoting, doublequote, escapechar, comment, encoding, encoding_errors, dialect, on_bad_lines, delim_whitespace, low_memory, memory_map, float_precision, storage_options, dtype_backend)\u001b[0m\n\u001b[0;32m   1013\u001b[0m kwds_defaults \u001b[38;5;241m=\u001b[39m _refine_defaults_read(\n\u001b[0;32m   1014\u001b[0m     dialect,\n\u001b[0;32m   1015\u001b[0m     delimiter,\n\u001b[1;32m   (...)\u001b[0m\n\u001b[0;32m   1022\u001b[0m     dtype_backend\u001b[38;5;241m=\u001b[39mdtype_backend,\n\u001b[0;32m   1023\u001b[0m )\n\u001b[0;32m   1024\u001b[0m kwds\u001b[38;5;241m.\u001b[39mupdate(kwds_defaults)\n\u001b[1;32m-> 1026\u001b[0m \u001b[38;5;28;01mreturn\u001b[39;00m \u001b[43m_read\u001b[49m\u001b[43m(\u001b[49m\u001b[43mfilepath_or_buffer\u001b[49m\u001b[43m,\u001b[49m\u001b[43m \u001b[49m\u001b[43mkwds\u001b[49m\u001b[43m)\u001b[49m\n",
      "File \u001b[1;32mc:\\Users\\USER\\AppData\\Local\\Programs\\Python\\Python312\\Lib\\site-packages\\pandas\\io\\parsers\\readers.py:626\u001b[0m, in \u001b[0;36m_read\u001b[1;34m(filepath_or_buffer, kwds)\u001b[0m\n\u001b[0;32m    623\u001b[0m     \u001b[38;5;28;01mreturn\u001b[39;00m parser\n\u001b[0;32m    625\u001b[0m \u001b[38;5;28;01mwith\u001b[39;00m parser:\n\u001b[1;32m--> 626\u001b[0m     \u001b[38;5;28;01mreturn\u001b[39;00m \u001b[43mparser\u001b[49m\u001b[38;5;241;43m.\u001b[39;49m\u001b[43mread\u001b[49m\u001b[43m(\u001b[49m\u001b[43mnrows\u001b[49m\u001b[43m)\u001b[49m\n",
      "File \u001b[1;32mc:\\Users\\USER\\AppData\\Local\\Programs\\Python\\Python312\\Lib\\site-packages\\pandas\\io\\parsers\\readers.py:1923\u001b[0m, in \u001b[0;36mTextFileReader.read\u001b[1;34m(self, nrows)\u001b[0m\n\u001b[0;32m   1916\u001b[0m nrows \u001b[38;5;241m=\u001b[39m validate_integer(\u001b[38;5;124m\"\u001b[39m\u001b[38;5;124mnrows\u001b[39m\u001b[38;5;124m\"\u001b[39m, nrows)\n\u001b[0;32m   1917\u001b[0m \u001b[38;5;28;01mtry\u001b[39;00m:\n\u001b[0;32m   1918\u001b[0m     \u001b[38;5;66;03m# error: \"ParserBase\" has no attribute \"read\"\u001b[39;00m\n\u001b[0;32m   1919\u001b[0m     (\n\u001b[0;32m   1920\u001b[0m         index,\n\u001b[0;32m   1921\u001b[0m         columns,\n\u001b[0;32m   1922\u001b[0m         col_dict,\n\u001b[1;32m-> 1923\u001b[0m     ) \u001b[38;5;241m=\u001b[39m \u001b[38;5;28;43mself\u001b[39;49m\u001b[38;5;241;43m.\u001b[39;49m\u001b[43m_engine\u001b[49m\u001b[38;5;241;43m.\u001b[39;49m\u001b[43mread\u001b[49m\u001b[43m(\u001b[49m\u001b[43m  \u001b[49m\u001b[38;5;66;43;03m# type: ignore[attr-defined]\u001b[39;49;00m\n\u001b[0;32m   1924\u001b[0m \u001b[43m        \u001b[49m\u001b[43mnrows\u001b[49m\n\u001b[0;32m   1925\u001b[0m \u001b[43m    \u001b[49m\u001b[43m)\u001b[49m\n\u001b[0;32m   1926\u001b[0m \u001b[38;5;28;01mexcept\u001b[39;00m \u001b[38;5;167;01mException\u001b[39;00m:\n\u001b[0;32m   1927\u001b[0m     \u001b[38;5;28mself\u001b[39m\u001b[38;5;241m.\u001b[39mclose()\n",
      "File \u001b[1;32mc:\\Users\\USER\\AppData\\Local\\Programs\\Python\\Python312\\Lib\\site-packages\\pandas\\io\\parsers\\c_parser_wrapper.py:234\u001b[0m, in \u001b[0;36mCParserWrapper.read\u001b[1;34m(self, nrows)\u001b[0m\n\u001b[0;32m    232\u001b[0m \u001b[38;5;28;01mtry\u001b[39;00m:\n\u001b[0;32m    233\u001b[0m     \u001b[38;5;28;01mif\u001b[39;00m \u001b[38;5;28mself\u001b[39m\u001b[38;5;241m.\u001b[39mlow_memory:\n\u001b[1;32m--> 234\u001b[0m         chunks \u001b[38;5;241m=\u001b[39m \u001b[38;5;28;43mself\u001b[39;49m\u001b[38;5;241;43m.\u001b[39;49m\u001b[43m_reader\u001b[49m\u001b[38;5;241;43m.\u001b[39;49m\u001b[43mread_low_memory\u001b[49m\u001b[43m(\u001b[49m\u001b[43mnrows\u001b[49m\u001b[43m)\u001b[49m\n\u001b[0;32m    235\u001b[0m         \u001b[38;5;66;03m# destructive to chunks\u001b[39;00m\n\u001b[0;32m    236\u001b[0m         data \u001b[38;5;241m=\u001b[39m _concatenate_chunks(chunks)\n",
      "File \u001b[1;32mparsers.pyx:838\u001b[0m, in \u001b[0;36mpandas._libs.parsers.TextReader.read_low_memory\u001b[1;34m()\u001b[0m\n",
      "File \u001b[1;32mparsers.pyx:905\u001b[0m, in \u001b[0;36mpandas._libs.parsers.TextReader._read_rows\u001b[1;34m()\u001b[0m\n",
      "File \u001b[1;32mparsers.pyx:874\u001b[0m, in \u001b[0;36mpandas._libs.parsers.TextReader._tokenize_rows\u001b[1;34m()\u001b[0m\n",
      "File \u001b[1;32mparsers.pyx:891\u001b[0m, in \u001b[0;36mpandas._libs.parsers.TextReader._check_tokenize_status\u001b[1;34m()\u001b[0m\n",
      "File \u001b[1;32mparsers.pyx:2053\u001b[0m, in \u001b[0;36mpandas._libs.parsers.raise_parser_error\u001b[1;34m()\u001b[0m\n",
      "File \u001b[1;32m<frozen codecs>:331\u001b[0m, in \u001b[0;36mgetstate\u001b[1;34m(self)\u001b[0m\n",
      "\u001b[1;31mKeyboardInterrupt\u001b[0m: "
     ]
    }
   ],
   "source": [
    "train_transaction = pd.read_csv('train_transaction.csv', index_col='TransactionID')\n",
    "train_identity = pd.read_csv('train_identity.csv', index_col='TransactionID')\n",
    "train = train_transaction.merge(train_identity, how='left', left_index=True, right_index=True)\n",
    "del train_transaction, train_identity\n",
    "gc.collect()"
   ]
  },
  {
   "cell_type": "code",
   "execution_count": null,
   "metadata": {},
   "outputs": [
    {
     "data": {
      "text/plain": [
       "0"
      ]
     },
     "execution_count": 3,
     "metadata": {},
     "output_type": "execute_result"
    }
   ],
   "source": [
    "test_transaction = pd.read_csv('test_transaction.csv', index_col='TransactionID')\n",
    "test_identity = pd.read_csv('test_identity.csv', index_col='TransactionID')\n",
    "test = test_transaction.merge(test_identity, how='left', left_index=True, right_index=True)\n",
    "del test_transaction, test_identity\n",
    "gc.collect()"
   ]
  },
  {
   "cell_type": "code",
   "execution_count": null,
   "metadata": {},
   "outputs": [],
   "source": [
    "test.columns = test.columns.str.replace('-', '_')"
   ]
  },
  {
   "cell_type": "code",
   "execution_count": null,
   "metadata": {},
   "outputs": [],
   "source": [
    "selected_features = ['TransactionDT',\n",
    " 'TransactionAmt','card1','card2','card3','card5',\n",
    " 'addr1','addr2',\n",
    " 'C1','C2','C3','C4','C5','C6','C7','C8','C9','C10','C11','C12','C13','C14',\n",
    " 'D1','D2','D3','D4','D5','D6','D7','D8', 'D9', 'D10','D11','D12','D13','D14','D15','V307',\n",
    " 'ProductCD',\n",
    " 'card4',\n",
    " 'card6',\n",
    " 'P_emaildomain',\n",
    " 'R_emaildomain', \n",
    " 'dist1','id_30','id_31', 'id_32', 'id_33', 'id_34',\n",
    " 'DeviceType','DeviceInfo',\n",
    "  'V314', 'V310', 'V127', 'V78', 'V62', 'M1', 'M2', 'M3', 'M4', 'M5', 'M6', 'M7', 'M8']\n"
   ]
  },
  {
   "cell_type": "code",
   "execution_count": null,
   "metadata": {},
   "outputs": [],
   "source": [
    "train = train[selected_features + ['isFraud']]\n",
    "test = test[selected_features ]"
   ]
  },
  {
   "cell_type": "code",
   "execution_count": null,
   "metadata": {},
   "outputs": [],
   "source": [
    "train = train.fillna(-999)\n",
    "test = test.fillna(-999)"
   ]
  },
  {
   "cell_type": "code",
   "execution_count": null,
   "metadata": {},
   "outputs": [],
   "source": [
    "train['uid'] = train['card1'].astype(str)+'_'+train['card2'].astype(str)+'_'+train['card3'].astype(str)+'_'+train['card4'].astype(str)\n",
    "test['uid'] = test['card1'].astype(str)+'_'+test['card2'].astype(str)+'_'+test['card3'].astype(str)+'_'+test['card4'].astype(str)\n",
    "\n",
    "train['uid2'] = train['uid'].astype(str)+'_'+train['addr1'].astype(str)+'_'+train['addr2'].astype(str)\n",
    "test['uid2'] = test['uid'].astype(str)+'_'+test['addr1'].astype(str)+'_'+test['addr2'].astype(str)\n",
    "\n",
    "i_cols = ['card1','card2','card3','card5','uid','uid2']\n",
    "\n",
    "for col in i_cols:\n",
    "    for agg_type in ['mean', 'std', 'nunique']:\n",
    "        new_col_name = col+'_TransactionAmt_'+agg_type\n",
    "        temp = pd.concat([train[[col, 'TransactionAmt']], test[[col,'TransactionAmt']]])\n",
    "\n",
    "        temp = temp.groupby([col])['TransactionAmt'].agg([agg_type]).reset_index().rename(\n",
    "                                                columns={agg_type: new_col_name})\n",
    "\n",
    "        temp.index = list(temp[col])\n",
    "\n",
    "        temp = temp[new_col_name].to_dict()   \n",
    "\n",
    "        train[new_col_name] = train[col].map(temp)\n",
    "        test[new_col_name]  = test[col].map(temp)"
   ]
  },
  {
   "cell_type": "code",
   "execution_count": null,
   "metadata": {},
   "outputs": [
    {
     "name": "stdout",
     "output_type": "stream",
     "text": [
      "1. bank_type 및 address_match 생성\n",
      "                 bank_type     address_match\n",
      "TransactionID                               \n",
      "2987000        150.0_142.0  150.0_142.0_87.0\n",
      "2987001        150.0_102.0  150.0_102.0_87.0\n",
      "2987002        150.0_166.0  150.0_166.0_87.0\n",
      "2987003        150.0_117.0  150.0_117.0_87.0\n",
      "2987004        150.0_102.0  150.0_102.0_87.0\n",
      "                 bank_type     address_match\n",
      "TransactionID                               \n",
      "3663549        150.0_226.0  150.0_226.0_87.0\n",
      "3663550        150.0_226.0  150.0_226.0_87.0\n",
      "3663551        150.0_226.0  150.0_226.0_87.0\n",
      "3663552        150.0_166.0  150.0_166.0_87.0\n",
      "3663553        150.0_117.0  150.0_117.0_87.0\n"
     ]
    }
   ],
   "source": [
    "train['bank_type'] = train['card3'].astype(str)+'_'+train['card5'].astype(str)\n",
    "test['bank_type']  = test['card3'].astype(str)+'_'+test['card5'].astype(str)\n",
    "\n",
    "train['address_match'] = train['bank_type'].astype(str)+'_'+train['addr2'].astype(str)\n",
    "test['address_match']  = test['bank_type'].astype(str)+'_'+test['addr2'].astype(str)\n",
    "print(\"1. bank_type 및 address_match 생성\")\n",
    "print(train[['bank_type', 'address_match']].head())\n",
    "print(test[['bank_type', 'address_match']].head())"
   ]
  },
  {
   "cell_type": "code",
   "execution_count": null,
   "metadata": {},
   "outputs": [
    {
     "name": "stdout",
     "output_type": "stream",
     "text": [
      "\n",
      "2. 빈도 인코딩 후\n",
      "               bank_type  address_match\n",
      "TransactionID                          \n",
      "2987000              309            309\n",
      "2987001            44082          43735\n",
      "2987002           101292         101179\n",
      "2987003            47059          46950\n",
      "2987004            44082          43735\n",
      "               bank_type  address_match\n",
      "TransactionID                          \n",
      "3663549           531549         526981\n",
      "3663550           531549         526981\n",
      "3663551           531549         526981\n",
      "3663552           101292         101179\n",
      "3663553            47059          46950\n"
     ]
    }
   ],
   "source": [
    "for col in ['address_match','bank_type']:\n",
    "    temp = pd.concat([train[[col]], test[[col]]])\n",
    "    temp[col] = np.where(temp[col].str.contains('nan'), np.nan, temp[col])\n",
    "    temp = temp.dropna()\n",
    "    fq_encode = temp[col].value_counts().to_dict()   \n",
    "    train[col] = train[col].map(fq_encode)\n",
    "    test[col]  = test[col].map(fq_encode)\n",
    "print(\"\\n2. 빈도 인코딩 후\")\n",
    "print(train[['bank_type', 'address_match']].head())\n",
    "print(test[['bank_type', 'address_match']].head())"
   ]
  },
  {
   "cell_type": "code",
   "execution_count": null,
   "metadata": {},
   "outputs": [
    {
     "name": "stdout",
     "output_type": "stream",
     "text": [
      "\n",
      "3. 상대적 비율 계산 후\n",
      "               bank_type  address_match\n",
      "TransactionID                          \n",
      "2987000              309       1.000000\n",
      "2987001            44082       0.992128\n",
      "2987002           101292       0.998884\n",
      "2987003            47059       0.997684\n",
      "2987004            44082       0.992128\n",
      "               bank_type  address_match\n",
      "TransactionID                          \n",
      "3663549           531549       0.991406\n",
      "3663550           531549       0.991406\n",
      "3663551           531549       0.991406\n",
      "3663552           101292       0.998884\n",
      "3663553            47059       0.997684\n"
     ]
    }
   ],
   "source": [
    "train['address_match'] = train['address_match']/train['bank_type'] \n",
    "test['address_match']  = test['address_match']/test['bank_type']\n",
    "print(\"\\n3. 상대적 비율 계산 후\")\n",
    "print(train[['bank_type', 'address_match']].head())\n",
    "print(test[['bank_type', 'address_match']].head())"
   ]
  },
  {
   "cell_type": "code",
   "execution_count": null,
   "metadata": {},
   "outputs": [
    {
     "name": "stdout",
     "output_type": "stream",
     "text": [
      "TransactionID\n",
      "2987000   2017-12-01 00:00:00\n",
      "2987001   2017-12-01 00:00:01\n",
      "2987002   2017-12-01 00:01:09\n",
      "2987003   2017-12-01 00:01:39\n",
      "2987004   2017-12-01 00:01:46\n",
      "Name: timeblock, dtype: datetime64[ns]\n",
      "TransactionID\n",
      "3663549   2018-07-01 00:00:24\n",
      "3663550   2018-07-01 00:01:03\n",
      "3663551   2018-07-01 00:01:50\n",
      "3663552   2018-07-01 00:01:50\n",
      "3663553   2018-07-01 00:01:57\n",
      "Name: timeblock, dtype: datetime64[ns]\n"
     ]
    }
   ],
   "source": [
    "start_date = datetime.datetime.strptime('2017.11.30', '%Y.%m.%d')\n",
    "train['timeblock'] = train['TransactionDT'].apply(lambda x: datetime.timedelta(seconds=x) + start_date)\n",
    "test['timeblock'] = test['TransactionDT'].apply(lambda x: datetime.timedelta(seconds=x) + start_date)\n",
    "\n",
    "tb = train['timeblock']\n",
    "print(train.timeblock.head())\n",
    "train.drop('timeblock', axis=1, inplace=True)\n",
    "train.insert(0, 'timeblock', tb)\n",
    "\n",
    "tb = test['timeblock']\n",
    "print(test.timeblock.head())\n",
    "test.drop('timeblock', axis=1, inplace=True)\n",
    "test.insert(0, 'timeblock', tb)"
   ]
  },
  {
   "cell_type": "code",
   "execution_count": null,
   "metadata": {},
   "outputs": [],
   "source": [
    "def account_start_date(val):\n",
    "    if np.isnan(val):\n",
    "        return np.NaN\n",
    "    else:\n",
    "        days = int(str(val).split('.')[0])\n",
    "        return pd.Timedelta(str(days) + ' days')"
   ]
  },
  {
   "cell_type": "code",
   "execution_count": null,
   "metadata": {},
   "outputs": [],
   "source": [
    "for i in ['D1', 'D2', 'D4', 'D8', 'D10', 'D15']:\n",
    "    train['account_start_day'] = train[i].apply(account_start_date)\n",
    "    test['account_start_day'] = test[i].apply(account_start_date)\n",
    "\n",
    "    # account_make_date 컴퓨터가 인식할 수 있도록 수치형으로 바꿔 줌. \n",
    "    train['account_make_date'] = (train['timeblock'] - train['account_start_day']).dt.date\n",
    "    test['account_make_date'] = (test['timeblock'] - test['account_start_day']).dt.date\n",
    "\n",
    "    train['account_make_date_{}'.format(i)] = (10000 * pd.to_datetime(train['account_make_date']).dt.year) + (100 * pd.to_datetime(train['account_make_date']).dt.month) + (1 * pd.to_datetime(train['account_make_date']).dt.day)\n",
    "    test['account_make_date_{}'.format(i)] = (10000 * pd.to_datetime(test['account_make_date']).dt.year) + (100 * pd.to_datetime(test['account_make_date']).dt.month) + (1 * pd.to_datetime(test['account_make_date']).dt.day)"
   ]
  },
  {
   "cell_type": "code",
   "execution_count": null,
   "metadata": {},
   "outputs": [],
   "source": [
    "del train['account_make_date']; del test['account_make_date']\n",
    "del train['account_start_day']; del test['account_start_day']"
   ]
  },
  {
   "cell_type": "code",
   "execution_count": null,
   "metadata": {},
   "outputs": [],
   "source": [
    "train['date'] = pd.to_datetime(train['timeblock']).dt.date\n",
    "test['date'] = pd.to_datetime(test['timeblock']).dt.date\n",
    "\n",
    "train['year'] = train['timeblock'].dt.year\n",
    "train['month'] = train['timeblock'].dt.month\n",
    "train['day'] = train['timeblock'].dt.day\n",
    "train['dayofweek'] = train['timeblock'].dt.dayofweek\n",
    "train['hour'] = train['timeblock'].dt.hour\n",
    "# train['minute'] = train['timeblock'].dt.minute\n",
    "# train['second'] = train['timeblock'].dt.second\n",
    "\n",
    "test['year'] = test['timeblock'].dt.year\n",
    "test['month'] = test['timeblock'].dt.month\n",
    "test['day'] = test['timeblock'].dt.day\n",
    "test['dayofweek'] = test['timeblock'].dt.dayofweek\n",
    "test['hour'] = test['timeblock'].dt.hour\n",
    "# test['minute'] = test['timeblock'].dt.minute\n",
    "# test['second'] = test['timeblock'].dt.second"
   ]
  },
  {
   "cell_type": "code",
   "execution_count": null,
   "metadata": {},
   "outputs": [],
   "source": [
    "# 이전 거래와의 시간 차이 계산\n",
    "train['prev_transaction_diff'] = train.groupby('uid')['TransactionDT'].diff().fillna(-1)\n",
    "test['prev_transaction_diff'] = test.groupby('uid')['TransactionDT'].diff().fillna(-1)"
   ]
  },
  {
   "cell_type": "code",
   "execution_count": null,
   "metadata": {},
   "outputs": [],
   "source": [
    "def card_info_hash(x):\n",
    "    s = (str(int(x['card1']))+\n",
    "         str(int(x['card2']))+\n",
    "         str(int(x['card3']))+\n",
    "         str(x['card4'])+\n",
    "         str(int(x['card5']))+\n",
    "         str(x['card6']))\n",
    "    h = hashlib.sha256(s.encode('utf-8')).hexdigest()[0:15]\n",
    "    return h\n",
    "\n",
    "def device_hash(x):\n",
    "    s =  str(x['id_30'])+str(x['id_31'])+str(x['id_32'])+str(x['id_33'])+str( x['DeviceType'])+ str(x['DeviceInfo'])\n",
    "    h = hashlib.sha256(s.encode('utf-8')).hexdigest()[0:15]\n",
    "    return h\n",
    "\n",
    "train['card_hash'] = train.apply(lambda x: card_info_hash(x), axis=1   )\n",
    "train['device_hash'] = train.apply(lambda x: device_hash(x), axis=1   )\n",
    "\n",
    "test['card_hash'] = test.apply(lambda x: card_info_hash(x), axis=1   )\n",
    "test['device_hash'] = test.apply(lambda x: device_hash(x), axis=1   )"
   ]
  },
  {
   "cell_type": "code",
   "execution_count": null,
   "metadata": {},
   "outputs": [],
   "source": [
    "train['V307_diff'] = train['V307'].diff().shift(-1)\n",
    "train['difference'] = train['V307_diff'] - train['TransactionAmt']\n",
    "\n",
    "test['V307_diff'] = test['V307'].diff().shift(-1)\n",
    "test['difference'] = test['V307_diff'] - test['TransactionAmt']"
   ]
  },
  {
   "cell_type": "code",
   "execution_count": null,
   "metadata": {},
   "outputs": [],
   "source": [
    "# # 차이 값을 구간으로 나누기 (예: 10개 구간)\n",
    "# train['difference_bins'] = pd.cut(train['difference'], bins=10)\n",
    "\n",
    "# # 각 구간별 사기 거래 비율 계산\n",
    "# fraud_rate_by_bins = train.groupby('difference_bins')['isFraud'].mean().reset_index()\n",
    "\n",
    "# # 시각화\n",
    "# plt.figure(figsize=(12, 6))\n",
    "# sns.barplot(x='difference_bins', y='isFraud', data=fraud_rate_by_bins, palette='viridis')\n",
    "# plt.xticks(rotation=45)\n",
    "# plt.xlabel('Difference Bins')\n",
    "# plt.ylabel('Fraud Rate')\n",
    "# plt.title('Fraud Rates by Difference Bins')\n",
    "# plt.show()"
   ]
  },
  {
   "cell_type": "code",
   "execution_count": null,
   "metadata": {},
   "outputs": [],
   "source": [
    "total = pd.concat([train,test],axis=0,sort=False)\n",
    "\n",
    "train['uid2_next_click'] = train['TransactionDT'] - train.groupby(['uid2'])['TransactionDT'].shift(-1)\n",
    "test['uid2_next_click'] = test['TransactionDT'] - test.groupby(['uid2'])['TransactionDT'].shift(-1)\n",
    "\n",
    "train = train.merge(total.groupby(['uid','account_make_date_D1','ProductCD'])['TransactionAmt'].agg({'mean','std'}).reset_index().rename(columns={'mean':'uid_D1_productCD_Amt_mean','std':'uid_D1_productCD_Amt_std'}), how='left', on = ['uid','account_make_date_D1','ProductCD'])\n",
    "test = test.merge(total.groupby(['uid','account_make_date_D1','ProductCD'])['TransactionAmt'].agg({'mean','std'}).reset_index().rename(columns={'mean':'uid_D1_productCD_Amt_mean','std':'uid_D1_productCD_Amt_std'}), how='left', on = ['uid','account_make_date_D1','ProductCD'])\n",
    "train = train.merge(total.groupby(['uid2','ProductCD'])['dayofweek'].agg({'mean','std'}).reset_index().rename(columns={'mean':'uid2_dayofweek_mean','std':'uid2_dayofweek_std'}), how='left', on = ['uid2','ProductCD'])\n",
    "test = test.merge(total.groupby(['uid2','ProductCD'])['dayofweek'].agg({'mean','std'}).reset_index().rename(columns={'mean':'uid2_dayofweek_mean','std':'uid2_dayofweek_std'}), how='left', on = ['uid2','ProductCD'])"
   ]
  },
  {
   "cell_type": "code",
   "execution_count": null,
   "metadata": {},
   "outputs": [],
   "source": [
    "del train['uid']; del train['uid2']; del train['bank_type']\n",
    "del test['uid']; del test['uid2']; del test['bank_type']"
   ]
  },
  {
   "cell_type": "code",
   "execution_count": null,
   "metadata": {},
   "outputs": [],
   "source": [
    "# M1부터 M9까지 컬럼 목록\n",
    "m_columns = [f'M{i}' for i in range(1, 9)]\n",
    "\n",
    "# M4를 제외한 나머지 컬럼들에 대해 T/F를 1/0으로 변환\n",
    "mapping = {'T': 1, 'F': 0}\n",
    "for col in m_columns:\n",
    "    if col != 'M4':\n",
    "        train[col] = train[col].map(mapping).fillna(-999)\n",
    "        test[col] = test[col].map(mapping).fillna(-999)\n",
    "\n",
    "# M4에 대해 라벨 인코딩 수행\n",
    "label_encoder = LabelEncoder()\n",
    "train['M4'] = label_encoder.fit_transform(train['M4'].astype(str))\n",
    "test['M4'] = label_encoder.transform(test['M4'].astype(str))"
   ]
  },
  {
   "cell_type": "code",
   "execution_count": null,
   "metadata": {},
   "outputs": [],
   "source": [
    "\n",
    "def reduce_mem_usage(df):\n",
    "    start_mem = df.memory_usage().sum() / 1024**2\n",
    "    print('Memory usage of dataframe is {:.2f} MB'.format(start_mem))\n",
    "    \n",
    "    for col in df.columns:\n",
    "        col_type = df[col].dtype\n",
    "        \n",
    "        if col_type != object and not np.issubdtype(col_type, np.datetime64):\n",
    "            c_min = df[col].min()\n",
    "            c_max = df[col].max()\n",
    "            \n",
    "            if str(col_type)[:3] == 'int':\n",
    "                if c_min > np.iinfo(np.int8).min and c_max < np.iinfo(np.int8).max:\n",
    "                    df[col] = df[col].astype(np.int8)\n",
    "                elif c_min > np.iinfo(np.int16).min and c_max < np.iinfo(np.int16).max:\n",
    "                    df[col] = df[col].astype(np.int16)\n",
    "                elif c_min > np.iinfo(np.int32).min and c_max < np.iinfo(np.int32).max:\n",
    "                    df[col] = df[col].astype(np.int32)\n",
    "                elif c_min > np.iinfo(np.int64).min and c_max < np.iinfo(np.int64).max:\n",
    "                    df[col] = df[col].astype(np.int64)  \n",
    "            else:\n",
    "                if c_min > np.finfo(np.float16).min and c_max < np.finfo(np.float16).max:\n",
    "                    df[col] = df[col].astype(np.float16)\n",
    "                elif c_min > np.finfo(np.float32).min and c_max < np.finfo(np.float32).max:\n",
    "                    df[col] = df[col].astype(np.float32)\n",
    "                else:\n",
    "                    df[col] = df[col].astype(np.float64)\n",
    "    \n",
    "    end_mem = df.memory_usage().sum() / 1024**2\n",
    "    print('Memory usage after optimization is: {:.2f} MB'.format(end_mem))\n",
    "    print('Decreased by {:.1f}%'.format(100 * (start_mem - end_mem) / start_mem))\n",
    "    \n",
    "    return df"
   ]
  },
  {
   "cell_type": "code",
   "execution_count": null,
   "metadata": {},
   "outputs": [
    {
     "name": "stdout",
     "output_type": "stream",
     "text": [
      "Memory usage of dataframe is 457.30 MB\n",
      "Memory usage after optimization is: 182.47 MB\n",
      "Decreased by 60.1%\n",
      "Memory usage of dataframe is 388.51 MB\n",
      "Memory usage after optimization is: 157.05 MB\n",
      "Decreased by 59.6%\n"
     ]
    }
   ],
   "source": [
    "# 적용\n",
    "train = reduce_mem_usage(train)\n",
    "test = reduce_mem_usage(test)"
   ]
  },
  {
   "cell_type": "code",
   "execution_count": null,
   "metadata": {},
   "outputs": [],
   "source": [
    "test = test.drop(['V307','id_30','id_31','id_32','id_33','DeviceType','DeviceInfo'], axis=1)\n",
    "train = train.drop(['V307','id_30','id_31','id_32','id_33','DeviceType','DeviceInfo'], axis=1)"
   ]
  },
  {
   "cell_type": "code",
   "execution_count": null,
   "metadata": {},
   "outputs": [],
   "source": [
    "# 범주형 열을 숫자형으로 변환\n",
    "def encode_categorical_columns(df):\n",
    "    label_encoders = {}\n",
    "    for column in df.select_dtypes(include=['object']).columns:\n",
    "        le = LabelEncoder()\n",
    "        df[column] = le.fit_transform(df[column].astype(str))\n",
    "        label_encoders[column] = le\n",
    "    return df, label_encoders\n",
    "\n",
    "# train 데이터 인코딩\n",
    "train, _ = encode_categorical_columns(train)\n",
    "\n",
    "# test 데이터 인코딩\n",
    "test_encoded, _ = encode_categorical_columns(test)"
   ]
  },
  {
   "cell_type": "code",
   "execution_count": null,
   "metadata": {},
   "outputs": [],
   "source": [
    "y = train['isFraud']\n",
    "X = train.drop('isFraud', axis=1)"
   ]
  },
  {
   "cell_type": "code",
   "execution_count": null,
   "metadata": {},
   "outputs": [],
   "source": [
    "# DateTime64 타입의 열을 숫자 형식으로 변환하는 함수\n",
    "def convert_datetime_columns(df):\n",
    "    for col in df.columns:\n",
    "        if pd.api.types.is_datetime64_any_dtype(df[col]):\n",
    "            df[col] = df[col].astype('int64') // 10**9  # 초 단위로 변환\n",
    "    return df\n",
    "\n",
    "# Assuming X is your feature DataFrame\n",
    "X = convert_datetime_columns(X)"
   ]
  },
  {
   "cell_type": "code",
   "execution_count": null,
   "metadata": {},
   "outputs": [
    {
     "name": "stdout",
     "output_type": "stream",
     "text": [
      "Training until validation scores don't improve for 100 rounds\n",
      "[100]\ttraining's auc: 0.955945\tvalid_1's auc: 0.934575\n",
      "[200]\ttraining's auc: 0.966659\tvalid_1's auc: 0.943277\n",
      "[300]\ttraining's auc: 0.975935\tvalid_1's auc: 0.95129\n",
      "[400]\ttraining's auc: 0.983441\tvalid_1's auc: 0.95823\n",
      "[500]\ttraining's auc: 0.988842\tvalid_1's auc: 0.963374\n",
      "[600]\ttraining's auc: 0.99255\tvalid_1's auc: 0.967223\n",
      "[700]\ttraining's auc: 0.995183\tvalid_1's auc: 0.969902\n",
      "[800]\ttraining's auc: 0.996971\tvalid_1's auc: 0.9718\n",
      "[900]\ttraining's auc: 0.998148\tvalid_1's auc: 0.973078\n",
      "[1000]\ttraining's auc: 0.998869\tvalid_1's auc: 0.974223\n",
      "[1100]\ttraining's auc: 0.999322\tvalid_1's auc: 0.975002\n",
      "[1200]\ttraining's auc: 0.999602\tvalid_1's auc: 0.975576\n",
      "[1300]\ttraining's auc: 0.999762\tvalid_1's auc: 0.9762\n",
      "[1400]\ttraining's auc: 0.99986\tvalid_1's auc: 0.976683\n",
      "[1500]\ttraining's auc: 0.99992\tvalid_1's auc: 0.977078\n",
      "[1600]\ttraining's auc: 0.999955\tvalid_1's auc: 0.977432\n",
      "[1700]\ttraining's auc: 0.999976\tvalid_1's auc: 0.977713\n",
      "[1800]\ttraining's auc: 0.999987\tvalid_1's auc: 0.977936\n",
      "[1900]\ttraining's auc: 0.999993\tvalid_1's auc: 0.978127\n",
      "[2000]\ttraining's auc: 0.999997\tvalid_1's auc: 0.978308\n",
      "[2100]\ttraining's auc: 0.999999\tvalid_1's auc: 0.978423\n",
      "[2200]\ttraining's auc: 0.999999\tvalid_1's auc: 0.978489\n",
      "[2300]\ttraining's auc: 1\tvalid_1's auc: 0.978539\n",
      "[2400]\ttraining's auc: 1\tvalid_1's auc: 0.978535\n",
      "[2500]\ttraining's auc: 1\tvalid_1's auc: 0.978548\n",
      "[2600]\ttraining's auc: 1\tvalid_1's auc: 0.978586\n",
      "[2700]\ttraining's auc: 1\tvalid_1's auc: 0.9786\n",
      "Early stopping, best iteration is:\n",
      "[2656]\ttraining's auc: 1\tvalid_1's auc: 0.978616\n"
     ]
    }
   ],
   "source": [
    "import lightgbm as lgb\n",
    "\n",
    "# train, valid split\n",
    "X_tr, X_v, y_tr, y_v = train_test_split(X, y, test_size=0.25, random_state=2024, stratify=y)\n",
    "\n",
    "# 데이터 셋 생성\n",
    "train_data = lgb.Dataset(X_tr, label=y_tr)\n",
    "valid_data = lgb.Dataset(X_v, label=y_v)\n",
    "\n",
    "params = {\n",
    "    'num_leaves': 491,\n",
    "    'min_child_weight': 0.03454472573214212,\n",
    "    'feature_fraction': 0.3797454081646243,\n",
    "    'bagging_fraction': 0.4181193142567742,\n",
    "    'min_data_in_leaf': 106,\n",
    "    'objective': 'binary',\n",
    "    'max_depth': -1,\n",
    "    'learning_rate': 0.006883242363721497,\n",
    "    'boosting_type': 'gbdt',\n",
    "    'bagging_seed': 11,\n",
    "    'metric': 'auc',\n",
    "    'verbosity': -1,\n",
    "    'reg_alpha': 0.3899927210061127,\n",
    "    'reg_lambda': 0.6485237330340494,\n",
    "    'random_state': 2024\n",
    "}\n",
    "\n",
    "# 모델 학습\n",
    "callbacks = [lgb.early_stopping(stopping_rounds=100), lgb.log_evaluation(period=100)]\n",
    "clf = lgb.train(params, train_data, num_boost_round=10000, valid_sets=[train_data, valid_data], callbacks=callbacks) # 0.978832   0.978616"
   ]
  },
  {
   "cell_type": "code",
   "execution_count": null,
   "metadata": {},
   "outputs": [
    {
     "data": {
      "image/png": "[encoded data removed]",
      "text/plain": [
       "<Figure size 1000x800 with 1 Axes>"
      ]
     },
     "metadata": {},
     "output_type": "display_data"
    }
   ],
   "source": [
    "# 피처 중요도 추출\n",
    "importance = clf.feature_importance()\n",
    "feature_names = X_tr.columns\n",
    "\n",
    "# 피처 중요도를 데이터프레임으로 변환\n",
    "importance_df = pd.DataFrame({\n",
    "    'feature': feature_names,\n",
    "    'importance': importance\n",
    "})\n",
    "\n",
    "# 중요도 순으로 정렬하고 상위 20개 피처 선택\n",
    "top_20_features = importance_df.sort_values(by='importance', ascending=False).head(20)\n",
    "\n",
    "# 피처 중요도 시각화\n",
    "plt.figure(figsize=(10, 8))\n",
    "plt.barh(top_20_features['feature'], top_20_features['importance'], color='skyblue')\n",
    "plt.xlabel('Feature Importance')\n",
    "plt.ylabel('Feature')\n",
    "plt.title('Top 20 Feature Importances')\n",
    "plt.gca().invert_yaxis()  # 가장 중요한 피처가 위에 오도록 y축을 반전\n",
    "plt.show()"
   ]
  },
  {
   "cell_type": "code",
   "execution_count": null,
   "metadata": {},
   "outputs": [],
   "source": [
    "# test_encoded 데이터프레임의 DateTime64 타입 열 변환\n",
    "test_encoded = convert_datetime_columns(test_encoded)\n",
    "\n",
    "# 예측 수행\n",
    "preds = clf.predict(test_encoded)\n",
    "\n",
    "# 결과 저장\n",
    "result = pd.read_csv(\"sample_submission.csv\")\n",
    "result['isFraud'] = preds\n",
    "result.to_csv('result.csv', index=False)"
   ]
  },
  {
   "cell_type": "code",
   "execution_count": null,
   "metadata": {},
   "outputs": [
    {
     "name": "stdout",
     "output_type": "stream",
     "text": [
      "Columns in the DataFrame:\n",
      "timeblock, TransactionDT, TransactionAmt, card1, card2, card3, card5, addr1, addr2, C1, C2, C3, C4, C5, C6, C7, C8, C9, C10, C11, C12, C13, C14, D1, D2, D3, D4, D5, D6, D7, D8, D9, D10, D11, D12, D13, D14, D15, ProductCD, card4, card6, P_emaildomain, R_emaildomain, dist1, id_34, V314, V310, V127, V78, V62, M1, M2, M3, M4, M5, M6, M7, M8, card1_TransactionAmt_mean, card1_TransactionAmt_std, card1_TransactionAmt_nunique, card2_TransactionAmt_mean, card2_TransactionAmt_std, card2_TransactionAmt_nunique, card3_TransactionAmt_mean, card3_TransactionAmt_std, card3_TransactionAmt_nunique, card5_TransactionAmt_mean, card5_TransactionAmt_std, card5_TransactionAmt_nunique, uid_TransactionAmt_mean, uid_TransactionAmt_std, uid_TransactionAmt_nunique, uid2_TransactionAmt_mean, uid2_TransactionAmt_std, uid2_TransactionAmt_nunique, address_match, account_make_date_D1, account_make_date_D2, account_make_date_D4, account_make_date_D8, account_make_date_D10, account_make_date_D15, date, year, month, day, dayofweek, hour, prev_transaction_diff, card_hash, device_hash, V307_diff, difference, uid2_next_click, uid_D1_productCD_Amt_std, uid_D1_productCD_Amt_mean, uid2_dayofweek_std, uid2_dayofweek_mean\n",
      "Columns in the DataFrame:\n",
      "timeblock, TransactionDT, TransactionAmt, card1, card2, card3, card5, addr1, addr2, C1, C2, C3, C4, C5, C6, C7, C8, C9, C10, C11, C12, C13, C14, D1, D2, D3, D4, D5, D6, D7, D8, D9, D10, D11, D12, D13, D14, D15, ProductCD, card4, card6, P_emaildomain, R_emaildomain, dist1, id_34, V314, V310, V127, V78, V62, M1, M2, M3, M4, M5, M6, M7, M8, isFraud, card1_TransactionAmt_mean, card1_TransactionAmt_std, card1_TransactionAmt_nunique, card2_TransactionAmt_mean, card2_TransactionAmt_std, card2_TransactionAmt_nunique, card3_TransactionAmt_mean, card3_TransactionAmt_std, card3_TransactionAmt_nunique, card5_TransactionAmt_mean, card5_TransactionAmt_std, card5_TransactionAmt_nunique, uid_TransactionAmt_mean, uid_TransactionAmt_std, uid_TransactionAmt_nunique, uid2_TransactionAmt_mean, uid2_TransactionAmt_std, uid2_TransactionAmt_nunique, address_match, account_make_date_D1, account_make_date_D2, account_make_date_D4, account_make_date_D8, account_make_date_D10, account_make_date_D15, date, year, month, day, dayofweek, hour, prev_transaction_diff, card_hash, device_hash, V307_diff, difference, uid2_next_click, uid_D1_productCD_Amt_std, uid_D1_productCD_Amt_mean, uid2_dayofweek_std, uid2_dayofweek_mean\n"
     ]
    }
   ],
   "source": [
    "def print_columns(df):\n",
    "    print(\"Columns in the DataFrame:\")\n",
    "    print(\", \".join(df.columns))\n",
    "\n",
    "print_columns(test_encoded)\n",
    "print_columns(train)"
   ]
  },
  {
   "cell_type": "code",
   "execution_count": null,
   "metadata": {},
   "outputs": [
    {
     "data": {
      "image/png": "[encoded data removed]",
      "text/plain": [
       "<Figure size 1000x800 with 1 Axes>"
      ]
     },
     "metadata": {},
     "output_type": "display_data"
    }
   ],
   "source": [
    "# 피처 중요도 추출\n",
    "importance = clf.feature_importance()\n",
    "feature_names = X_tr.columns\n",
    "\n",
    "# 피처 중요도를 데이터프레임으로 변환\n",
    "importance_df = pd.DataFrame({\n",
    "    'feature': feature_names,\n",
    "    'importance': importance\n",
    "})\n",
    "\n",
    "# 'D'로 시작하는 피처만 필터링\n",
    "d_features = importance_df[importance_df['feature'].str.startswith('D')]\n",
    "\n",
    "# 중요도 순으로 정렬\n",
    "d_features = d_features.sort_values(by='importance', ascending=False)\n",
    "\n",
    "# 피처 중요도 시각화\n",
    "plt.figure(figsize=(10, 8))\n",
    "plt.barh(d_features['feature'], d_features['importance'], color='skyblue')\n",
    "plt.xlabel('Feature Importance')\n",
    "plt.ylabel('Feature')\n",
    "plt.title('Feature Importances of D Columns')\n",
    "plt.gca().invert_yaxis()  # 가장 중요한 피처가 위에 오도록 y축을 반전\n",
    "plt.show()"
   ]
  },
  {
   "cell_type": "code",
   "execution_count": null,
   "metadata": {},
   "outputs": [],
   "source": [
    "'timeblock', 'TransactionDT', 'TransactionAmt', 'card1', 'card2', 'card3', 'card5', 'addr1', 'addr2', \n",
    "'C1', 'C2', 'C3', 'C4', 'C5', 'C6', 'C7', 'C8', 'C9', 'C10', 'C11', 'C12', 'C13', 'C14',\n",
    "'D1', 'D2', 'D3', 'D4', 'D5', 'D6', 'D7', 'D8', 'D9', 'D10', 'D11', 'D12', 'D13', 'D14', 'D15',\n",
    "'ProductCD', 'card4', 'card6', 'P_emaildomain', 'R_emaildomain', 'dist1', 'id_34', 'V314',\n",
    "'V310', 'V127', 'V78', 'V62', 'M1', 'M2', 'M3', 'M4', 'M5', 'M6', 'M7', 'M8', \n",
    "'card1_TransactionAmt_mean', 'card1_TransactionAmt_std', 'card1_TransactionAmt_nunique',\n",
    "'card2_TransactionAmt_mean', 'card2_TransactionAmt_std', 'card2_TransactionAmt_nunique', 'card3_TransactionAmt_mean',\n",
    "'card3_TransactionAmt_std', 'card3_TransactionAmt_nunique', 'card5_TransactionAmt_mean', 'card5_TransactionAmt_std',\n",
    "'card5_TransactionAmt_nunique', 'uid_TransactionAmt_mean', 'uid_TransactionAmt_std', 'uid_TransactionAmt_nunique',\n",
    "'uid2_TransactionAmt_mean', 'uid2_TransactionAmt_std', 'uid2_TransactionAmt_nunique', 'address_match', 'account_make_date_D1',\n",
    "'account_make_date_D2', 'account_make_date_D4', 'account_make_date_D8', 'account_make_date_D10', 'account_make_date_D15', 'date',\n",
    "'year', 'month', 'day', 'dayofweek', 'hour', 'prev_transaction_diff', 'card_hash', 'device_hash', 'V307_diff', 'difference',\n",
    "'uid2_next_click','uid_D1_productCD_Amt_std', 'uid_D1_productCD_Amt_mean', 'uid2_dayofweek_std', 'uid2_dayofweek_mean'"
   ]
  }
 ],
 "metadata": {
  "kernelspec": {
   "display_name": "project",
   "language": "python",
   "name": "python3"
  },
  "language_info": {
   "codemirror_mode": {
    "name": "ipython",
    "version": 3
   },
   "file_extension": ".py",
   "mimetype": "text/x-python",
   "name": "python",
   "nbconvert_exporter": "python",
   "pygments_lexer": "ipython3",
   "version": "3.12.3"
  }
 },
 "nbformat": 4,
 "nbformat_minor": 2
}
