{
 "cells": [
  {
   "cell_type": "code",
   "execution_count": 1,
   "metadata": {},
   "outputs": [],
   "source": [
    "import numpy as np # linear algebra\n",
    "import pandas as pd # data processing, CSV file I/O (e.g. pd.read_csv)\n",
    "import scipy as sp\n",
    "from scipy import stats\n",
    "import matplotlib.pyplot as plt\n",
    "import seaborn as sns\n",
    "\n",
    "# Standard plotly imports\n",
    "#import plotly.plotly as py\n",
    "import plotly.graph_objs as go\n",
    "import plotly.tools as tls\n",
    "from plotly.offline import iplot, init_notebook_mode\n",
    "#import cufflinks\n",
    "#import cufflinks as cf\n",
    "import plotly.figure_factory as ff\n",
    "import gc\n",
    "from tqdm import tqdm_notebook\n",
    "from tqdm import tqdm\n",
    "from sklearn.preprocessing import LabelEncoder\n",
    "tqdm.pandas()"
   ]
  },
  {
   "cell_type": "code",
   "execution_count": 2,
   "metadata": {},
   "outputs": [],
   "source": [
    "## Function to reduce the DF size\n",
    "def reduce_mem_usage(df, verbose=True):\n",
    "    numerics = ['int16', 'int32', 'int64', 'float16', 'float32', 'float64']\n",
    "    start_mem = df.memory_usage().sum() / 1024**2    \n",
    "    for col in df.columns:\n",
    "        col_type = df[col].dtypes\n",
    "        if col_type in numerics:\n",
    "            c_min = df[col].min()\n",
    "            c_max = df[col].max()\n",
    "            if str(col_type)[:3] == 'int':\n",
    "                if c_min > np.iinfo(np.int8).min and c_max < np.iinfo(np.int8).max:\n",
    "                    df[col] = df[col].astype(np.int8)\n",
    "                elif c_min > np.iinfo(np.int16).min and c_max < np.iinfo(np.int16).max:\n",
    "                    df[col] = df[col].astype(np.int16)\n",
    "                elif c_min > np.iinfo(np.int32).min and c_max < np.iinfo(np.int32).max:\n",
    "                    df[col] = df[col].astype(np.int32)\n",
    "                elif c_min > np.iinfo(np.int64).min and c_max < np.iinfo(np.int64).max:\n",
    "                    df[col] = df[col].astype(np.int64)  \n",
    "            else:\n",
    "                if c_min > np.finfo(np.float16).min and c_max < np.finfo(np.float16).max:\n",
    "                    df[col] = df[col].astype(np.float16)\n",
    "                elif c_min > np.finfo(np.float32).min and c_max < np.finfo(np.float32).max:\n",
    "                    df[col] = df[col].astype(np.float32)\n",
    "                else:\n",
    "                    df[col] = df[col].astype(np.float64)    \n",
    "    end_mem = df.memory_usage().sum() / 1024**2\n",
    "    if verbose: print('Mem. usage decreased to {:5.2f} Mb ({:.1f}% reduction)'.format(end_mem, 100 * (start_mem - end_mem) / start_mem))\n",
    "    return df"
   ]
  },
  {
   "cell_type": "code",
   "execution_count": 3,
   "metadata": {},
   "outputs": [],
   "source": [
    "trans_cat_cols = [\"ProductCD\",\"card1\",\"card2\",\"card3\",\"card4\",\"card5\",\"card6\",\"addr1\",\"addr2\",\"P_emaildomain_bin\",\"P_emaildomain_suffix\",\n",
    "                   \"R_emaildomain_bin\",\"R_emaildomain_suffix\",\"M1\",\"M2\",\"M3\",\"M4\",\"M5\",\"M6\",\"M7\",\"M8\",\"M9\"]\n",
    "\n",
    "iden_cat_cols = [\"DeviceType\",\"DeviceInfo\",\"id_12\",\n",
    "                   \"id_13\",\"id_14\",\"id_15\",\"id_16\",\"id_17\",\"id_18\",\"id_19\",\"id_20\",\"id_21\",\"id_22\",\"id_23\",\"id_24\",\n",
    "                   \"id_25\",\"id_26\",\"id_27\",\"id_28\",\"id_29\",\"id_30\",\"id_31\",\"id_32\",\"id_33\",\"id_34\",\"id_35\",\"id_36\",\n",
    "                   \"id_37\",\"id_38\"]"
   ]
  },
  {
   "cell_type": "code",
   "execution_count": 4,
   "metadata": {},
   "outputs": [],
   "source": [
    "def transform_transaction_catcols(df1, df2):\n",
    "    for cat_col in tqdm_notebook( trans_cat_cols): \n",
    "        # Get the indices for NaN values\n",
    "        trn_null_ind = [ind for ind, val in enumerate(df1[cat_col].isnull().values) if val == True]\n",
    "        ts_null_ind = [ind for ind, val in enumerate(df2[cat_col].isnull().values) if val == True]\n",
    "        \n",
    "        uniq_train_cat_val , uniq_test_cat_val = set(df1[cat_col].dropna() ), set(df2[cat_col].dropna() )\n",
    "        common_cat_val = uniq_train_cat_val.intersection(uniq_test_cat_val)\n",
    "        df1.loc[ ~df1[cat_col].isin( common_cat_val), cat_col ] = -99999\n",
    "        df2.loc[ ~df2[cat_col].isin( common_cat_val), cat_col ] = -99999\n",
    "        \n",
    "        # Replace the value for orignal NaN values\n",
    "        df1.loc[df1.index.isin(trn_null_ind), cat_col] = np.NaN\n",
    "        df2.loc[df2.index.isin(ts_null_ind), cat_col] = np.NaN\n",
    "        \n",
    "    del uniq_train_cat_val, uniq_test_cat_val, common_cat_val; gc.collect()\n",
    "    \n",
    "    # Reduce the usage of memory\n",
    "    df1 = reduce_mem_usage(df1)\n",
    "    df2 = reduce_mem_usage(df2)\n",
    "    \n",
    "    return df1, df2\n",
    "\n",
    "def transform_identity_catcols(df1,df2):\n",
    "    for cat_col in tqdm_notebook( iden_cat_cols ): \n",
    "        \n",
    "        # Get the indices for NaN values\n",
    "        trn_null_ind = [ind for ind, val in enumerate(df1[cat_col].isnull().values) if val == True]\n",
    "        ts_null_ind = [ind for ind, val in enumerate(df2[cat_col].isnull().values) if val == True]\n",
    "        \n",
    "        uniq_train_cat_val , uniq_test_cat_val = set(df1[cat_col].dropna() ), set(df2[cat_col].dropna() )\n",
    "        common_cat_val = uniq_train_cat_val.intersection(uniq_test_cat_val)\n",
    "        df1.loc[ ~df1[cat_col].isin( common_cat_val), cat_col ] = -99999\n",
    "        df2.loc[ ~df2[cat_col].isin( common_cat_val), cat_col ] = -99999\n",
    "        \n",
    "        # Replace the value for orignal NaN values\n",
    "        df1.loc[df1.index.isin(trn_null_ind), cat_col] =  np.NaN\n",
    "        df2.loc[df2.index.isin(ts_null_ind), cat_col] =  np.NaN\n",
    "        \n",
    "        \n",
    "    del uniq_train_cat_val, uniq_test_cat_val, common_cat_val; gc.collect();\n",
    "    \n",
    "    # Reduce the usage of memory\n",
    "    df1 = reduce_mem_usage(df1)\n",
    "    df2 = reduce_mem_usage(df2)\n",
    "    \n",
    "    return df1, df2"
   ]
  },
  {
   "cell_type": "code",
   "execution_count": 5,
   "metadata": {},
   "outputs": [],
   "source": [
    "train_idf = pd.read_csv('train_identity.csv')\n",
    "train_trans = pd.read_csv('train_transaction.csv')\n",
    "\n",
    "test_idf =pd.read_csv('test_identity.csv')\n",
    "test_trans = pd.read_csv('test_transaction.csv')"
   ]
  },
  {
   "cell_type": "code",
   "execution_count": 6,
   "metadata": {},
   "outputs": [
    {
     "name": "stderr",
     "output_type": "stream",
     "text": [
      "100%|██████████| 590540/590540 [00:02<00:00, 199277.09it/s]\n",
      "100%|██████████| 590540/590540 [00:45<00:00, 13003.83it/s]\n",
      "100%|██████████| 506691/506691 [00:02<00:00, 212162.06it/s]\n",
      "100%|██████████| 506691/506691 [00:38<00:00, 13022.28it/s]\n"
     ]
    }
   ],
   "source": [
    "# Email\n",
    "def email_categorical_expression(emails):\n",
    "    \"\"\"\n",
    "    Get the type of email\n",
    "    (1) Both \"P_emaildomain\" & \"R_emaildomain\" are None\n",
    "    (2) \"P_emaildomain\" is None, but \"R_emaildomain\" isn't None\n",
    "    (3) \"P_emaildomain\" isn't None, but \"R_emaildomain\" is None\n",
    "    (4) Both \"P_emaildomain\" & \"R_emaildomain\" aren't None\n",
    "    \"\"\"\n",
    "    P_emaildomain, R_emaildomain = emails\n",
    "\n",
    "    if type(P_emaildomain) ==  float:\n",
    "        if type(R_emaildomain) == float:\n",
    "            email_type = 1\n",
    "        else:\n",
    "            email_type = 2\n",
    "    else:\n",
    "        if type(R_emaildomain) == float:\n",
    "            email_type = 3\n",
    "        else:\n",
    "            email_type = 4\n",
    "    return email_type    \n",
    "    \n",
    "def email_null_concat(emails):\n",
    "    \"\"\"\n",
    "    Get the row-wise concat of email_address\n",
    "    \"\"\"\n",
    "    temp = emails.isnull().astype(np.int8)\n",
    "    label= ''\n",
    "    for col in ['P_emaildomain','R_emaildomain']:\n",
    "        label += str(temp[col] ) +'_'\n",
    "    return label\n",
    "\n",
    "# Implement\n",
    "train_trans['email_type'] = train_trans[['P_emaildomain', 'R_emaildomain']].progress_apply(lambda x : email_categorical_expression(x) , axis=1)\n",
    "train_trans['email_null_concat'] = train_trans[['P_emaildomain', 'R_emaildomain']].progress_apply(lambda x : email_null_concat(x) , axis=1)\n",
    "\n",
    "test_trans['email_type'] = test_trans[['P_emaildomain', 'R_emaildomain']].progress_apply(lambda x : email_categorical_expression(x) , axis=1)\n",
    "test_trans['email_null_concat'] = test_trans[['P_emaildomain', 'R_emaildomain']].progress_apply(lambda x : email_null_concat(x) , axis=1)\n"
   ]
  },
  {
   "cell_type": "code",
   "execution_count": 7,
   "metadata": {},
   "outputs": [
    {
     "data": {
      "text/html": [
       "<div>\n",
       "<style scoped>\n",
       "    .dataframe tbody tr th:only-of-type {\n",
       "        vertical-align: middle;\n",
       "    }\n",
       "\n",
       "    .dataframe tbody tr th {\n",
       "        vertical-align: top;\n",
       "    }\n",
       "\n",
       "    .dataframe thead th {\n",
       "        text-align: right;\n",
       "    }\n",
       "</style>\n",
       "<table border=\"1\" class=\"dataframe\">\n",
       "  <thead>\n",
       "    <tr style=\"text-align: right;\">\n",
       "      <th></th>\n",
       "      <th>TransactionID</th>\n",
       "      <th>isFraud</th>\n",
       "      <th>TransactionDT</th>\n",
       "      <th>TransactionAmt</th>\n",
       "      <th>ProductCD</th>\n",
       "      <th>card1</th>\n",
       "      <th>card2</th>\n",
       "      <th>card3</th>\n",
       "      <th>card4</th>\n",
       "      <th>card5</th>\n",
       "      <th>...</th>\n",
       "      <th>V332</th>\n",
       "      <th>V333</th>\n",
       "      <th>V334</th>\n",
       "      <th>V335</th>\n",
       "      <th>V336</th>\n",
       "      <th>V337</th>\n",
       "      <th>V338</th>\n",
       "      <th>V339</th>\n",
       "      <th>email_type</th>\n",
       "      <th>email_null_concat</th>\n",
       "    </tr>\n",
       "  </thead>\n",
       "  <tbody>\n",
       "    <tr>\n",
       "      <th>0</th>\n",
       "      <td>2987000</td>\n",
       "      <td>0</td>\n",
       "      <td>86400</td>\n",
       "      <td>68.5</td>\n",
       "      <td>W</td>\n",
       "      <td>13926</td>\n",
       "      <td>NaN</td>\n",
       "      <td>150.0</td>\n",
       "      <td>discover</td>\n",
       "      <td>142.0</td>\n",
       "      <td>...</td>\n",
       "      <td>NaN</td>\n",
       "      <td>NaN</td>\n",
       "      <td>NaN</td>\n",
       "      <td>NaN</td>\n",
       "      <td>NaN</td>\n",
       "      <td>NaN</td>\n",
       "      <td>NaN</td>\n",
       "      <td>NaN</td>\n",
       "      <td>1</td>\n",
       "      <td>1_1_</td>\n",
       "    </tr>\n",
       "    <tr>\n",
       "      <th>1</th>\n",
       "      <td>2987001</td>\n",
       "      <td>0</td>\n",
       "      <td>86401</td>\n",
       "      <td>29.0</td>\n",
       "      <td>W</td>\n",
       "      <td>2755</td>\n",
       "      <td>404.0</td>\n",
       "      <td>150.0</td>\n",
       "      <td>mastercard</td>\n",
       "      <td>102.0</td>\n",
       "      <td>...</td>\n",
       "      <td>NaN</td>\n",
       "      <td>NaN</td>\n",
       "      <td>NaN</td>\n",
       "      <td>NaN</td>\n",
       "      <td>NaN</td>\n",
       "      <td>NaN</td>\n",
       "      <td>NaN</td>\n",
       "      <td>NaN</td>\n",
       "      <td>3</td>\n",
       "      <td>0_1_</td>\n",
       "    </tr>\n",
       "    <tr>\n",
       "      <th>2</th>\n",
       "      <td>2987002</td>\n",
       "      <td>0</td>\n",
       "      <td>86469</td>\n",
       "      <td>59.0</td>\n",
       "      <td>W</td>\n",
       "      <td>4663</td>\n",
       "      <td>490.0</td>\n",
       "      <td>150.0</td>\n",
       "      <td>visa</td>\n",
       "      <td>166.0</td>\n",
       "      <td>...</td>\n",
       "      <td>NaN</td>\n",
       "      <td>NaN</td>\n",
       "      <td>NaN</td>\n",
       "      <td>NaN</td>\n",
       "      <td>NaN</td>\n",
       "      <td>NaN</td>\n",
       "      <td>NaN</td>\n",
       "      <td>NaN</td>\n",
       "      <td>3</td>\n",
       "      <td>0_1_</td>\n",
       "    </tr>\n",
       "    <tr>\n",
       "      <th>3</th>\n",
       "      <td>2987003</td>\n",
       "      <td>0</td>\n",
       "      <td>86499</td>\n",
       "      <td>50.0</td>\n",
       "      <td>W</td>\n",
       "      <td>18132</td>\n",
       "      <td>567.0</td>\n",
       "      <td>150.0</td>\n",
       "      <td>mastercard</td>\n",
       "      <td>117.0</td>\n",
       "      <td>...</td>\n",
       "      <td>NaN</td>\n",
       "      <td>NaN</td>\n",
       "      <td>NaN</td>\n",
       "      <td>NaN</td>\n",
       "      <td>NaN</td>\n",
       "      <td>NaN</td>\n",
       "      <td>NaN</td>\n",
       "      <td>NaN</td>\n",
       "      <td>3</td>\n",
       "      <td>0_1_</td>\n",
       "    </tr>\n",
       "    <tr>\n",
       "      <th>4</th>\n",
       "      <td>2987004</td>\n",
       "      <td>0</td>\n",
       "      <td>86506</td>\n",
       "      <td>50.0</td>\n",
       "      <td>H</td>\n",
       "      <td>4497</td>\n",
       "      <td>514.0</td>\n",
       "      <td>150.0</td>\n",
       "      <td>mastercard</td>\n",
       "      <td>102.0</td>\n",
       "      <td>...</td>\n",
       "      <td>0.0</td>\n",
       "      <td>0.0</td>\n",
       "      <td>0.0</td>\n",
       "      <td>0.0</td>\n",
       "      <td>0.0</td>\n",
       "      <td>0.0</td>\n",
       "      <td>0.0</td>\n",
       "      <td>0.0</td>\n",
       "      <td>3</td>\n",
       "      <td>0_1_</td>\n",
       "    </tr>\n",
       "  </tbody>\n",
       "</table>\n",
       "<p>5 rows × 396 columns</p>\n",
       "</div>"
      ],
      "text/plain": [
       "   TransactionID  isFraud  TransactionDT  TransactionAmt ProductCD  card1  \\\n",
       "0        2987000        0          86400            68.5         W  13926   \n",
       "1        2987001        0          86401            29.0         W   2755   \n",
       "2        2987002        0          86469            59.0         W   4663   \n",
       "3        2987003        0          86499            50.0         W  18132   \n",
       "4        2987004        0          86506            50.0         H   4497   \n",
       "\n",
       "   card2  card3       card4  card5  ... V332  V333  V334  V335  V336 V337  \\\n",
       "0    NaN  150.0    discover  142.0  ...  NaN   NaN   NaN   NaN   NaN  NaN   \n",
       "1  404.0  150.0  mastercard  102.0  ...  NaN   NaN   NaN   NaN   NaN  NaN   \n",
       "2  490.0  150.0        visa  166.0  ...  NaN   NaN   NaN   NaN   NaN  NaN   \n",
       "3  567.0  150.0  mastercard  117.0  ...  NaN   NaN   NaN   NaN   NaN  NaN   \n",
       "4  514.0  150.0  mastercard  102.0  ...  0.0   0.0   0.0   0.0   0.0  0.0   \n",
       "\n",
       "  V338  V339  email_type  email_null_concat  \n",
       "0  NaN   NaN           1               1_1_  \n",
       "1  NaN   NaN           3               0_1_  \n",
       "2  NaN   NaN           3               0_1_  \n",
       "3  NaN   NaN           3               0_1_  \n",
       "4  0.0   0.0           3               0_1_  \n",
       "\n",
       "[5 rows x 396 columns]"
      ]
     },
     "execution_count": 7,
     "metadata": {},
     "output_type": "execute_result"
    }
   ],
   "source": [
    "train_trans.head()\n"
   ]
  },
  {
   "cell_type": "markdown",
   "metadata": {},
   "source": [
    "Email Preprocessing\n"
   ]
  },
  {
   "cell_type": "code",
   "execution_count": 8,
   "metadata": {},
   "outputs": [],
   "source": [
    "emails = {'gmail': 'google', 'att.net': 'att', 'twc.com': 'spectrum', 'scranton.edu': 'other', 'optonline.net': 'other', 'hotmail.co.uk': 'microsoft', 'comcast.net': 'other', 'yahoo.com.mx': 'yahoo', 'yahoo.fr': 'yahoo', 'yahoo.es': 'yahoo', 'charter.net': 'spectrum', 'live.com': 'microsoft', 'aim.com': 'aol', 'hotmail.de': 'microsoft', 'centurylink.net': 'centurylink', 'gmail.com': 'google', 'me.com': 'apple', 'earthlink.net': 'other', 'gmx.de': 'other', 'web.de': 'other', 'cfl.rr.com': 'other', 'hotmail.com': 'microsoft', 'protonmail.com': 'other', 'hotmail.fr': 'microsoft', 'windstream.net': 'other', 'outlook.es': 'microsoft', 'yahoo.co.jp': 'yahoo', 'yahoo.de': 'yahoo', 'servicios-ta.com': 'other', 'netzero.net': 'other', 'suddenlink.net': 'other', 'roadrunner.com': 'other', 'sc.rr.com': 'other', 'live.fr': 'microsoft', 'verizon.net': 'yahoo', 'msn.com': 'microsoft', 'q.com': 'centurylink', 'prodigy.net.mx': 'att', 'frontier.com': 'yahoo', 'anonymous.com': 'other', 'rocketmail.com': 'yahoo', 'sbcglobal.net': 'att', 'frontiernet.net': 'yahoo', 'ymail.com': 'yahoo', 'outlook.com': 'microsoft', 'mail.com': 'other', 'bellsouth.net': 'other', 'embarqmail.com': 'centurylink', 'cableone.net': 'other', 'hotmail.es': 'microsoft', 'mac.com': 'apple', 'yahoo.co.uk': 'yahoo', 'netzero.com': 'other', 'yahoo.com': 'yahoo', 'live.com.mx': 'microsoft', 'ptd.net': 'other', 'cox.net': 'other', 'aol.com': 'aol', 'juno.com': 'other', 'icloud.com': 'apple'}\n",
    "us_emails = ['gmail', 'net', 'edu']\n"
   ]
  },
  {
   "cell_type": "code",
   "execution_count": 9,
   "metadata": {},
   "outputs": [],
   "source": [
    "emaildomain = ['P_emaildomain', 'R_emaildomain']\n",
    "for c in emaildomain:\n",
    "    train_trans[c + '_bin'] = train_trans[c].map(emails)\n",
    "    test_trans[c + '_bin'] = test_trans[c].map(emails)\n",
    "    \n",
    "    train_trans[c + '_suffix'] = train_trans[c].map(lambda x: str(x).split('.')[-1])\n",
    "    test_trans[c + '_suffix'] = test_trans[c].map(lambda x: str(x).split('.')[-1])\n",
    "    \n",
    "    train_trans[c + '_suffix'] = train_trans[c + '_suffix'].map(lambda x: x if str(x) not in us_emails else 'us')\n",
    "    test_trans[c + '_suffix'] = test_trans[c + '_suffix'].map(lambda x: x if str(x) not in us_emails else 'us')\n"
   ]
  },
  {
   "cell_type": "markdown",
   "metadata": {},
   "source": [
    "m_cols"
   ]
  },
  {
   "cell_type": "code",
   "execution_count": 10,
   "metadata": {},
   "outputs": [],
   "source": [
    "m_cols = [c for c in list(train_trans) if 'M' == c[0]]\n"
   ]
  },
  {
   "cell_type": "code",
   "execution_count": 11,
   "metadata": {},
   "outputs": [
    {
     "name": "stderr",
     "output_type": "stream",
     "text": [
      "100%|██████████| 10/10 [00:02<00:00,  4.03it/s]\n"
     ]
    }
   ],
   "source": [
    "# Use \"M_cols\" information\n",
    "train_m = train_trans[['TransactionID'] + m_cols]\n",
    "test_m = test_trans[['TransactionID'] + m_cols]\n",
    "\n",
    "# Combination of all \"M\" columns\n",
    "train_m['m_comb'] = ''\n",
    "test_m['m_comb'] = ''\n",
    "for col in m_cols:\n",
    "    train_m['m_comb'] += train_m[col].astype(str) +'_' \n",
    "    test_m['m_comb'] += test_m[col].astype(str) +'_' \n",
    "\n",
    "# If the combination is not in the common value, replace those into \"Unknown\"\n",
    "unique_trn_m_comb = np.unique(  train_m['m_comb'] )\n",
    "unique_ts_m_comb  = np.unique(  test_m['m_comb'] )\n",
    "common_m_comb = np.intersect1d( unique_trn_m_comb , unique_ts_m_comb )\n",
    "\n",
    "train_m.loc[~train_m['m_comb'].isin(common_m_comb), 'm_comb'] = 'Unknown'\n",
    "test_m.loc[~test_m['m_comb'].isin(common_m_comb), 'm_comb'] = 'Unknown'\n",
    "\n",
    "# Sum of the null value for all \"M\" columns & \"# of True value\"\n",
    "train_m['m_null_sum'] = train_m[m_cols].isnull().sum(axis=1)\n",
    "train_m['m_T_sum'] = (train_m[m_cols]=='T').sum(axis=1)\n",
    "test_m['m_null_sum'] = test_m[m_cols].isnull().sum(axis=1)\n",
    "test_m['m_T_sum'] = (test_m[m_cols]=='T').sum(axis=1)\n",
    "\n",
    "# Label Encoding columns related with 'M':\n",
    "# 'm_comb' + m_cols\n",
    "lbl = LabelEncoder()\n",
    "\n",
    "for col in tqdm( m_cols + ['m_comb'] ):\n",
    "    lbl.fit( train_m[col].fillna('Unknown') )\n",
    "    train_m[col] = lbl.transform( train_m[col].fillna('Unknown')  ).astype(np.int8)\n",
    "    test_m[col] = lbl.transform( test_m[col].fillna('Unknown')  ).astype(np.int8)\n",
    "    \n",
    "train_m = train_m[['TransactionID', 'm_comb','m_null_sum','m_T_sum']]\n",
    "test_m = test_m[['TransactionID', 'm_comb','m_null_sum','m_T_sum']]\n",
    "\n",
    "train_trans = train_trans.merge(train_m, on ='TransactionID', how='left')\n",
    "test_trans = test_trans.merge(test_m, on ='TransactionID', how='left')"
   ]
  },
  {
   "cell_type": "markdown",
   "metadata": {},
   "source": [
    "2. Feature Engineering\n"
   ]
  },
  {
   "cell_type": "markdown",
   "metadata": {},
   "source": [
    "date"
   ]
  },
  {
   "cell_type": "code",
   "execution_count": 12,
   "metadata": {},
   "outputs": [],
   "source": [
    "# timeblock으로 시간을 만드는 코드 \n",
    "import datetime \n",
    "from tqdm.auto import tqdm\n",
    "import ipywidgets as widgets\n",
    "widgets.IntSlider()\n",
    "\n",
    "start_date = datetime.datetime.strptime('2017.11.30', '%Y.%m.%d')\n",
    "train_trans['timeblock'] = train_trans['TransactionDT'].apply(lambda x: datetime.timedelta(seconds = x) + start_date ) \n",
    "test_trans['timeblock'] = test_trans['TransactionDT'].apply(lambda x: datetime.timedelta(seconds = x) + start_date ) \n",
    "\n",
    "tb = train_trans['timeblock']\n",
    "train_trans.drop(labels='timeblock', axis=1, inplace=True)\n",
    "train_trans.insert(0, 'timeblock', tb)\n",
    "\n",
    "tb = test_trans['timeblock']\n",
    "test_trans.drop(labels='timeblock', axis=1, inplace=True)\n",
    "test_trans.insert(0, 'timeblock', tb)\n",
    "\n",
    "# \"가입일로부터의 시간\"(D8)을 통해 \"가입일\"을 만드는 코드. \n",
    "def account_start_date(val):\n",
    "    if np.isnan(val) :\n",
    "        return np.NaN\n",
    "    else:\n",
    "        days=  int( str(val).split('.')[0])\n",
    "        return pd.Timedelta( str(days) +' days')\n",
    "    \n",
    "for i in ['D1', 'D2',  'D4', 'D8','D10', 'D15']:\n",
    "    train_trans['account_start_day'] = train_trans[i].apply(account_start_date)\n",
    "    test_trans['account_start_day'] = test_trans[i].apply(account_start_date)\n",
    "\n",
    "\n",
    "    # account_make_date 컴퓨터가 인식할 수 있도록 수치형으로 바꿔 줌. \n",
    "    train_trans['account_make_date'] = (train_trans['timeblock'] - train_trans['account_start_day']).dt.date\n",
    "    test_trans['account_make_date'] = (test_trans['timeblock'] - test_trans['account_start_day']).dt.date\n",
    "\n",
    "    train_trans['account_make_date_{}'.format(i)] = (10000 * pd.to_datetime(train_trans['account_make_date']).dt.year) + (100 * pd.to_datetime(train_trans['account_make_date']).dt.month) + (1 * pd.to_datetime(train_trans['account_make_date']).dt.day)\n",
    "    test_trans['account_make_date_{}'.format(i)] = (10000 * pd.to_datetime(test_trans['account_make_date']).dt.year) + (100 * pd.to_datetime(test_trans['account_make_date']).dt.month) + (1 * pd.to_datetime(test_trans['account_make_date']).dt.day)\n",
    "\n",
    "del train_trans['account_make_date']; del test_trans['account_make_date']\n",
    "del train_trans['account_start_day']; del test_trans['account_start_day']"
   ]
  },
  {
   "cell_type": "code",
   "execution_count": 13,
   "metadata": {},
   "outputs": [],
   "source": [
    "train_trans['date'] = pd.to_datetime(train_trans['timeblock']).dt.date\n",
    "test_trans['date'] = pd.to_datetime(test_trans['timeblock']).dt.date\n",
    "\n",
    "train_trans['year'] = train_trans['timeblock'].dt.year\n",
    "train_trans['month'] = train_trans['timeblock'].dt.month\n",
    "train_trans['day'] = train_trans['timeblock'].dt.day\n",
    "train_trans['dayofweek'] = train_trans['timeblock'].dt.dayofweek\n",
    "train_trans['hour'] = train_trans['timeblock'].dt.hour\n",
    "# train_trans['minute'] = train_trans['timeblock'].dt.minute\n",
    "# train_trans['second'] = train_trans['timeblock'].dt.second\n",
    "\n",
    "test_trans['year'] = test_trans['timeblock'].dt.year\n",
    "test_trans['month'] = test_trans['timeblock'].dt.month\n",
    "test_trans['day'] = test_trans['timeblock'].dt.day\n",
    "test_trans['dayofweek'] = test_trans['timeblock'].dt.dayofweek\n",
    "test_trans['hour'] = test_trans['timeblock'].dt.hour\n",
    "# test_trans['minute'] = test_trans['timeblock'].dt.minute\n",
    "# test_trans['second'] = test_trans['timeblock'].dt.second"
   ]
  },
  {
   "cell_type": "markdown",
   "metadata": {},
   "source": [
    "소수점"
   ]
  },
  {
   "cell_type": "code",
   "execution_count": 14,
   "metadata": {},
   "outputs": [],
   "source": [
    "train_trans['TransactionAmt_decimal_count'] = ((train_trans['TransactionAmt'] - train_trans['TransactionAmt'].astype(int))).astype(str).apply(lambda x: len(x.split('.')[1]))\n",
    "test_trans['TransactionAmt_decimal_count'] = ((test_trans['TransactionAmt'] - test_trans['TransactionAmt'].astype(int))).astype(str).apply(lambda x: len(x.split('.')[1]))\n"
   ]
  },
  {
   "cell_type": "code",
   "execution_count": 15,
   "metadata": {},
   "outputs": [
    {
     "data": {
      "text/plain": [
       "0    0.5\n",
       "1    0.0\n",
       "2    0.0\n",
       "3    0.0\n",
       "4    0.0\n",
       "Name: TransactionAmt, dtype: object"
      ]
     },
     "execution_count": 15,
     "metadata": {},
     "output_type": "execute_result"
    }
   ],
   "source": [
    "((train_trans['TransactionAmt'] - train_trans['TransactionAmt'].astype(int))).astype(str)[:5]"
   ]
  },
  {
   "cell_type": "code",
   "execution_count": 16,
   "metadata": {},
   "outputs": [],
   "source": [
    "train_trans['TransactionAmt_decimal'] = ((train_trans['TransactionAmt'] - train_trans['TransactionAmt'].astype(int)) * 1000).astype(int)\n",
    "test_trans['TransactionAmt_decimal'] = ((test_trans['TransactionAmt'] - test_trans['TransactionAmt'].astype(int)) * 1000).astype(int)\n"
   ]
  },
  {
   "cell_type": "code",
   "execution_count": 17,
   "metadata": {},
   "outputs": [],
   "source": [
    "test_idf.columns = [c.replace('-', '_') if '-' in c else c for c in test_idf.columns]"
   ]
  },
  {
   "cell_type": "markdown",
   "metadata": {},
   "source": [
    "Count Encoding"
   ]
  },
  {
   "cell_type": "code",
   "execution_count": 18,
   "metadata": {},
   "outputs": [
    {
     "data": {
      "application/vnd.jupyter.widget-view+json": {
       "model_id": "45db945716a54245afc9a8e00cf80149",
       "version_major": 2,
       "version_minor": 0
      },
      "text/plain": [
       "  0%|          | 0/23 [00:00<?, ?it/s]"
      ]
     },
     "metadata": {},
     "output_type": "display_data"
    },
    {
     "data": {
      "application/vnd.jupyter.widget-view+json": {
       "model_id": "536abed72f11447693af1ac884703dea",
       "version_major": 2,
       "version_minor": 0
      },
      "text/plain": [
       "  0%|          | 0/29 [00:00<?, ?it/s]"
      ]
     },
     "metadata": {},
     "output_type": "display_data"
    }
   ],
   "source": [
    "categorical_variables_trans = [\"ProductCD\",\"card1\",\"card2\",\"card3\",\"card4\",\"card5\",\"card6\",\"addr1\",\"addr2\",\"P_emaildomain\",\"R_emaildomain\",\"P_emaildomain_bin\",\n",
    "                   \"R_emaildomain_bin\",\"M1\",\"M2\",\"M3\",\"M4\",\"M5\",\"M6\",\"M7\",\"M8\",\"M9\",'email_null_concat']\n",
    "\n",
    "categorical_variables_idf = [\"DeviceType\",\"DeviceInfo\",\"id_12\",\n",
    "                   \"id_13\",\"id_14\",\"id_15\",\"id_16\",\"id_17\",\"id_18\",\"id_19\",\"id_20\",\"id_21\",\"id_22\",\"id_23\",\"id_24\",\n",
    "                   \"id_25\",\"id_26\",\"id_27\",\"id_28\",\"id_29\",\"id_30\",\"id_31\",\"id_32\",\"id_33\",\"id_34\",\"id_35\",\"id_36\",\n",
    "                   \"id_37\",\"id_38\"]\n",
    "\n",
    "for i in tqdm(categorical_variables_trans):\n",
    "    train_trans['{}_count_full'.format(i)] = train_trans[i].map(pd.concat([train_trans[i], test_trans[i]], ignore_index=True).value_counts(dropna=False))\n",
    "    test_trans['{}_count_full'.format(i)] = test_trans[i].map(pd.concat([train_trans[i], test_trans[i]], ignore_index=True).value_counts(dropna=False))\n",
    "\n",
    "\n",
    "for i in tqdm(categorical_variables_idf):\n",
    "    train_idf['{}_count_full'.format(i)] = train_idf[i].map(pd.concat([train_idf[i], test_idf[i]], ignore_index=True).value_counts(dropna=False))\n",
    "    test_idf['{}_count_full'.format(i)] = test_idf[i].map(pd.concat([train_idf[i], test_idf[i]], ignore_index=True).value_counts(dropna=False))\n"
   ]
  },
  {
   "cell_type": "markdown",
   "metadata": {},
   "source": [
    "Preprocessing"
   ]
  },
  {
   "cell_type": "code",
   "execution_count": 19,
   "metadata": {},
   "outputs": [
    {
     "name": "stderr",
     "output_type": "stream",
     "text": [
      "C:\\Users\\USER\\AppData\\Local\\Temp\\ipykernel_5580\\1408400298.py:2: TqdmDeprecationWarning:\n",
      "\n",
      "This function will be removed in tqdm==5.0.0\n",
      "Please use `tqdm.notebook.tqdm` instead of `tqdm.tqdm_notebook`\n",
      "\n"
     ]
    },
    {
     "data": {
      "application/vnd.jupyter.widget-view+json": {
       "model_id": "6ebd195523e64fe9988dac81bbd64194",
       "version_major": 2,
       "version_minor": 0
      },
      "text/plain": [
       "  0%|          | 0/22 [00:00<?, ?it/s]"
      ]
     },
     "metadata": {},
     "output_type": "display_data"
    },
    {
     "name": "stdout",
     "output_type": "stream",
     "text": [
      "Mem. usage decreased to 652.17 Mb (66.9% reduction)\n",
      "Mem. usage decreased to 566.82 Mb (66.4% reduction)\n"
     ]
    },
    {
     "name": "stderr",
     "output_type": "stream",
     "text": [
      "C:\\Users\\USER\\AppData\\Local\\Temp\\ipykernel_5580\\1408400298.py:25: TqdmDeprecationWarning:\n",
      "\n",
      "This function will be removed in tqdm==5.0.0\n",
      "Please use `tqdm.notebook.tqdm` instead of `tqdm.tqdm_notebook`\n",
      "\n"
     ]
    },
    {
     "data": {
      "application/vnd.jupyter.widget-view+json": {
       "model_id": "f5fa719d95eb487ebcd49c83cf50c4f5",
       "version_major": 2,
       "version_minor": 0
      },
      "text/plain": [
       "  0%|          | 0/29 [00:00<?, ?it/s]"
      ]
     },
     "metadata": {},
     "output_type": "display_data"
    },
    {
     "name": "stdout",
     "output_type": "stream",
     "text": [
      "Mem. usage decreased to 44.84 Mb (41.8% reduction)\n",
      "Mem. usage decreased to 44.12 Mb (41.8% reduction)\n"
     ]
    }
   ],
   "source": [
    "train_trans, test_trans =  transform_transaction_catcols(train_trans, test_trans)\n",
    "train_idf, test_idf =  transform_identity_catcols(train_idf, test_idf)"
   ]
  },
  {
   "cell_type": "code",
   "execution_count": 20,
   "metadata": {},
   "outputs": [
    {
     "data": {
      "application/vnd.jupyter.widget-view+json": {
       "model_id": "ffceccf7df5a420ebfa5e538353ed730",
       "version_major": 2,
       "version_minor": 0
      },
      "text/plain": [
       "  0%|          | 0/12 [00:00<?, ?it/s]"
      ]
     },
     "metadata": {},
     "output_type": "display_data"
    }
   ],
   "source": [
    "total_trans = pd.concat([train_trans,test_trans],axis=0,sort=False)\n",
    "D_columns = [c for c in train_trans.columns if (c[0] == 'D')]\n",
    "D_columns.remove('D1'); D_columns.remove('D2'); D_columns.remove('D9')\n",
    "\n",
    "for i in tqdm(D_columns):\n",
    "    total_trans_size = total_trans.groupby(['year','month'])[i].agg({'mean','std'}).reset_index()\n",
    "    train_trans = train_trans.merge(total_trans_size,how='left',on=['year','month'])\n",
    "    test_trans = test_trans.merge(total_trans_size,how='left',on=['year','month'])\n",
    "    \n",
    "    train_trans[i] = (train_trans[i] -  train_trans['mean'])/ train_trans['std']\n",
    "    test_trans[i] = (test_trans[i] -  test_trans['mean'])/ test_trans['std']\n",
    "    del train_trans['mean']; del test_trans['mean']; del train_trans['std']; del test_trans['std']"
   ]
  },
  {
   "cell_type": "markdown",
   "metadata": {},
   "source": [
    "카테고리의 결합\n"
   ]
  },
  {
   "cell_type": "code",
   "execution_count": 21,
   "metadata": {},
   "outputs": [
    {
     "data": {
      "text/plain": [
       "0         credit\n",
       "1         credit\n",
       "2          debit\n",
       "3          debit\n",
       "4         credit\n",
       "           ...  \n",
       "590535     debit\n",
       "590536     debit\n",
       "590537     debit\n",
       "590538     debit\n",
       "590539    credit\n",
       "Name: card6, Length: 590540, dtype: object"
      ]
     },
     "execution_count": 21,
     "metadata": {},
     "output_type": "execute_result"
    }
   ],
   "source": [
    "train_trans['card6'].astype(str)"
   ]
  },
  {
   "cell_type": "code",
   "execution_count": 22,
   "metadata": {},
   "outputs": [],
   "source": [
    "train_trans['card1_addr1'] = train_trans['card1'].astype(str) + '_' + train_trans['addr1'].astype(str)\n",
    "test_trans['card1_addr1'] = test_trans['card1'].astype(str) + '_' + test_trans['addr1'].astype(str)"
   ]
  },
  {
   "cell_type": "code",
   "execution_count": 23,
   "metadata": {},
   "outputs": [],
   "source": [
    "train_trans['card1_addr2'] = train_trans['card1'].astype(str) + '_' + train_trans['addr2'].astype(str)\n",
    "test_trans['card1_addr2'] = test_trans['card1'].astype(str) + '_' + test_trans['addr2'].astype(str)\n"
   ]
  },
  {
   "cell_type": "code",
   "execution_count": 24,
   "metadata": {},
   "outputs": [],
   "source": [
    "train_trans['card1_ProductCD'] = train_trans['card1'].astype(str) + '_' + train_trans['ProductCD'].astype(str)\n",
    "test_trans['card1_ProductCD'] = test_trans['card1'].astype(str) + '_' + test_trans['ProductCD'].astype(str)\n"
   ]
  },
  {
   "cell_type": "code",
   "execution_count": 25,
   "metadata": {},
   "outputs": [],
   "source": [
    "train_trans['TransactionAmt_ProductCD'] = train_trans['TransactionAmt'].astype(str) + '_' + train_trans['ProductCD'].astype(str)\n",
    "test_trans['TransactionAmt_ProductCD'] = test_trans['TransactionAmt'].astype(str) + '_' + test_trans['ProductCD'].astype(str)\n"
   ]
  },
  {
   "cell_type": "code",
   "execution_count": 26,
   "metadata": {},
   "outputs": [],
   "source": [
    "train_trans['addr1_addr2'] = train_trans['addr1'].astype(str) + '_' + train_trans['addr2'].astype(str)\n",
    "test_trans['addr1_addr2'] = test_trans['addr1'].astype(str) + '_' + test_trans['addr2'].astype(str)\n"
   ]
  },
  {
   "cell_type": "markdown",
   "metadata": {},
   "source": [
    "결합된 카테고리의 Count Encoding\n"
   ]
  },
  {
   "cell_type": "code",
   "execution_count": 27,
   "metadata": {},
   "outputs": [
    {
     "name": "stderr",
     "output_type": "stream",
     "text": [
      "C:\\Users\\USER\\AppData\\Local\\Temp\\ipykernel_5580\\706480468.py:5: TqdmDeprecationWarning:\n",
      "\n",
      "This function will be removed in tqdm==5.0.0\n",
      "Please use `tqdm.notebook.tqdm` instead of `tqdm.tqdm_notebook`\n",
      "\n"
     ]
    },
    {
     "data": {
      "application/vnd.jupyter.widget-view+json": {
       "model_id": "6e567d097dcc46868f70b736ed36c965",
       "version_major": 2,
       "version_minor": 0
      },
      "text/plain": [
       "  0%|          | 0/5 [00:00<?, ?it/s]"
      ]
     },
     "metadata": {},
     "output_type": "display_data"
    }
   ],
   "source": [
    "categorical_variables_trans = [\"card1_addr1\", \"card1_addr2\", \"card1_ProductCD\",'TransactionAmt_ProductCD','addr1_addr2']\n",
    "\n",
    "categorical_variables_idf = []\n",
    "\n",
    "for i in tqdm_notebook(categorical_variables_trans):\n",
    "    train_trans['{}_count_full'.format(i)] = train_trans[i].map(pd.concat([train_trans[i], test_trans[i]], ignore_index=True).value_counts(dropna=False))\n",
    "    test_trans['{}_count_full'.format(i)] = test_trans[i].map(pd.concat([train_trans[i], test_trans[i]], ignore_index=True).value_counts(dropna=False))\n"
   ]
  },
  {
   "cell_type": "markdown",
   "metadata": {},
   "source": [
    "같은 날 같은 card1으로 구매한 동일한 TransactionAmt\n"
   ]
  },
  {
   "cell_type": "code",
   "execution_count": 28,
   "metadata": {},
   "outputs": [],
   "source": [
    "# Convert TransactionAmt to float32 for both train and test DataFrames\n",
    "train_trans['TransactionAmt'] = train_trans['TransactionAmt'].astype('float32')\n",
    "test_trans['TransactionAmt'] = test_trans['TransactionAmt'].astype('float32')\n",
    "\n",
    "# Perform the groupby and aggregation operation correctly\n",
    "train_trans_Amt = train_trans.groupby(['date', 'card1', 'TransactionAmt'])['TransactionAmt'].agg(['count']).reset_index()\n",
    "test_trans_Amt = test_trans.groupby(['date', 'card1', 'TransactionAmt'])['TransactionAmt'].agg(['count']).reset_index()"
   ]
  },
  {
   "cell_type": "code",
   "execution_count": 29,
   "metadata": {},
   "outputs": [],
   "source": [
    "train_trans_Amt1 = pd.DataFrame(train_trans.groupby(['date','card3','addr1','TransactionAmt'])['TransactionAmt'].agg({'count'})).reset_index()\n",
    "test_trans_Amt1 = pd.DataFrame(test_trans.groupby(['date','card3','addr1','TransactionAmt'])['TransactionAmt'].agg({'count'})).reset_index()\n"
   ]
  },
  {
   "cell_type": "markdown",
   "metadata": {},
   "source": [
    "결합"
   ]
  },
  {
   "cell_type": "code",
   "execution_count": 30,
   "metadata": {},
   "outputs": [],
   "source": [
    "# Data Merge\n",
    "train_df = pd.merge(train_trans,train_idf,how='left',on='TransactionID')\n",
    "test_df = pd.merge(test_trans,test_idf,how='left',on='TransactionID')"
   ]
  },
  {
   "cell_type": "code",
   "execution_count": 31,
   "metadata": {},
   "outputs": [],
   "source": [
    "del train_trans, train_idf, test_trans, test_idf"
   ]
  },
  {
   "cell_type": "markdown",
   "metadata": {},
   "source": [
    "Prev_click , Next_click , Prev_Amt , Next_Amt with id info.\n"
   ]
  },
  {
   "cell_type": "code",
   "execution_count": 32,
   "metadata": {},
   "outputs": [
    {
     "data": {
      "text/html": [
       "<div>\n",
       "<style scoped>\n",
       "    .dataframe tbody tr th:only-of-type {\n",
       "        vertical-align: middle;\n",
       "    }\n",
       "\n",
       "    .dataframe tbody tr th {\n",
       "        vertical-align: top;\n",
       "    }\n",
       "\n",
       "    .dataframe thead th {\n",
       "        text-align: right;\n",
       "    }\n",
       "</style>\n",
       "<table border=\"1\" class=\"dataframe\">\n",
       "  <thead>\n",
       "    <tr style=\"text-align: right;\">\n",
       "      <th></th>\n",
       "      <th>id_30</th>\n",
       "      <th>id_31</th>\n",
       "      <th>id_33</th>\n",
       "      <th>DeviceType</th>\n",
       "      <th>DeviceInfo</th>\n",
       "    </tr>\n",
       "  </thead>\n",
       "  <tbody>\n",
       "    <tr>\n",
       "      <th>0</th>\n",
       "      <td>NaN</td>\n",
       "      <td>NaN</td>\n",
       "      <td>NaN</td>\n",
       "      <td>NaN</td>\n",
       "      <td>NaN</td>\n",
       "    </tr>\n",
       "    <tr>\n",
       "      <th>1</th>\n",
       "      <td>NaN</td>\n",
       "      <td>NaN</td>\n",
       "      <td>NaN</td>\n",
       "      <td>NaN</td>\n",
       "      <td>NaN</td>\n",
       "    </tr>\n",
       "    <tr>\n",
       "      <th>2</th>\n",
       "      <td>NaN</td>\n",
       "      <td>NaN</td>\n",
       "      <td>NaN</td>\n",
       "      <td>NaN</td>\n",
       "      <td>NaN</td>\n",
       "    </tr>\n",
       "    <tr>\n",
       "      <th>3</th>\n",
       "      <td>NaN</td>\n",
       "      <td>NaN</td>\n",
       "      <td>NaN</td>\n",
       "      <td>NaN</td>\n",
       "      <td>NaN</td>\n",
       "    </tr>\n",
       "    <tr>\n",
       "      <th>4</th>\n",
       "      <td>Android 7.0</td>\n",
       "      <td>samsung browser 6.2</td>\n",
       "      <td>2220x1080</td>\n",
       "      <td>mobile</td>\n",
       "      <td>-99999</td>\n",
       "    </tr>\n",
       "    <tr>\n",
       "      <th>...</th>\n",
       "      <td>...</td>\n",
       "      <td>...</td>\n",
       "      <td>...</td>\n",
       "      <td>...</td>\n",
       "      <td>...</td>\n",
       "    </tr>\n",
       "    <tr>\n",
       "      <th>590535</th>\n",
       "      <td>NaN</td>\n",
       "      <td>NaN</td>\n",
       "      <td>NaN</td>\n",
       "      <td>NaN</td>\n",
       "      <td>NaN</td>\n",
       "    </tr>\n",
       "    <tr>\n",
       "      <th>590536</th>\n",
       "      <td>NaN</td>\n",
       "      <td>NaN</td>\n",
       "      <td>NaN</td>\n",
       "      <td>NaN</td>\n",
       "      <td>NaN</td>\n",
       "    </tr>\n",
       "    <tr>\n",
       "      <th>590537</th>\n",
       "      <td>NaN</td>\n",
       "      <td>NaN</td>\n",
       "      <td>NaN</td>\n",
       "      <td>NaN</td>\n",
       "      <td>NaN</td>\n",
       "    </tr>\n",
       "    <tr>\n",
       "      <th>590538</th>\n",
       "      <td>NaN</td>\n",
       "      <td>NaN</td>\n",
       "      <td>NaN</td>\n",
       "      <td>NaN</td>\n",
       "      <td>NaN</td>\n",
       "    </tr>\n",
       "    <tr>\n",
       "      <th>590539</th>\n",
       "      <td>NaN</td>\n",
       "      <td>NaN</td>\n",
       "      <td>NaN</td>\n",
       "      <td>NaN</td>\n",
       "      <td>NaN</td>\n",
       "    </tr>\n",
       "  </tbody>\n",
       "</table>\n",
       "<p>590540 rows × 5 columns</p>\n",
       "</div>"
      ],
      "text/plain": [
       "              id_30                id_31      id_33 DeviceType DeviceInfo\n",
       "0               NaN                  NaN        NaN        NaN        NaN\n",
       "1               NaN                  NaN        NaN        NaN        NaN\n",
       "2               NaN                  NaN        NaN        NaN        NaN\n",
       "3               NaN                  NaN        NaN        NaN        NaN\n",
       "4       Android 7.0  samsung browser 6.2  2220x1080     mobile     -99999\n",
       "...             ...                  ...        ...        ...        ...\n",
       "590535          NaN                  NaN        NaN        NaN        NaN\n",
       "590536          NaN                  NaN        NaN        NaN        NaN\n",
       "590537          NaN                  NaN        NaN        NaN        NaN\n",
       "590538          NaN                  NaN        NaN        NaN        NaN\n",
       "590539          NaN                  NaN        NaN        NaN        NaN\n",
       "\n",
       "[590540 rows x 5 columns]"
      ]
     },
     "execution_count": 32,
     "metadata": {},
     "output_type": "execute_result"
    }
   ],
   "source": [
    "train_df[['id_30', 'id_31', 'id_33', 'DeviceType', 'DeviceInfo']]"
   ]
  },
  {
   "cell_type": "code",
   "execution_count": 33,
   "metadata": {},
   "outputs": [
    {
     "data": {
      "text/plain": [
       "array([nan, -99999, 'iOS Device', ..., 'SM-A520F Build/R16NW', 'G8142',\n",
       "       'LDN-LX3 Build/HUAWEILDN-LX3'], dtype=object)"
      ]
     },
     "execution_count": 33,
     "metadata": {},
     "output_type": "execute_result"
    }
   ],
   "source": [
    "train_df['DeviceInfo'].unique()"
   ]
  },
  {
   "cell_type": "code",
   "execution_count": 34,
   "metadata": {},
   "outputs": [],
   "source": [
    "# ['id_30','id_31','id_33','DeviceType','DeviceInfo']\n",
    "train_df['id_30_31_33_Type_Info_prev_click'] = train_df['TransactionDT'] - train_df.groupby(['id_30','id_31','id_33','DeviceType','DeviceInfo'])['TransactionDT'].shift(1)\n",
    "test_df['id_30_31_33_Type_Info_prev_click'] = test_df['TransactionDT'] - test_df.groupby(['id_30','id_31','id_33','DeviceType','DeviceInfo'])['TransactionDT'].shift(1)\n",
    "\n",
    "train_df['id_30_31_33_Type_Info_next_click'] = train_df['TransactionDT'] - train_df.groupby(['id_30','id_31','id_33','DeviceType','DeviceInfo'])['TransactionDT'].shift(-1)\n",
    "test_df['id_30_31_33_Type_Info_next_click'] = test_df['TransactionDT'] - test_df.groupby(['id_30','id_31','id_33','DeviceType','DeviceInfo'])['TransactionDT'].shift(-1)\n"
   ]
  },
  {
   "cell_type": "markdown",
   "metadata": {},
   "source": [
    "Merge"
   ]
  },
  {
   "cell_type": "code",
   "execution_count": 35,
   "metadata": {},
   "outputs": [],
   "source": [
    "# Data Merge\n",
    "train_df = pd.merge(train_df,train_trans_Amt,how='left',on=['date','card1','TransactionAmt'])\n",
    "test_df = pd.merge(test_df,test_trans_Amt,how='left',on=['date','card1','TransactionAmt'])\n"
   ]
  },
  {
   "cell_type": "code",
   "execution_count": 36,
   "metadata": {},
   "outputs": [],
   "source": [
    "# Data Merge\n",
    "train_df = pd.merge(train_df,train_trans_Amt1,how='left',on=['date','card3','addr1','TransactionAmt'])\n",
    "test_df = pd.merge(test_df,test_trans_Amt1,how='left',on=['date','card3','addr1','TransactionAmt'])\n"
   ]
  },
  {
   "cell_type": "code",
   "execution_count": 37,
   "metadata": {},
   "outputs": [
    {
     "data": {
      "text/plain": [
       "array(['discover', 'mastercard', 'visa', 'american express', nan],\n",
       "      dtype=object)"
      ]
     },
     "execution_count": 37,
     "metadata": {},
     "output_type": "execute_result"
    }
   ],
   "source": [
    "train_df['card4'].unique()"
   ]
  },
  {
   "cell_type": "markdown",
   "metadata": {},
   "source": [
    "kyakovlev 변수\n"
   ]
  },
  {
   "cell_type": "code",
   "execution_count": 38,
   "metadata": {},
   "outputs": [],
   "source": [
    "# 점수비교 \n",
    "# https://www.kaggle.com/kyakovlev/ieee-gb-2-make-amount-useful-again\n",
    "\n",
    "train_df['uid'] = train_df['card1'].astype(str)+'_'+train_df['card2'].astype(str)+'_'+train_df['card3'].astype(str)+'_'+train_df['card4'].astype(str)\n",
    "test_df['uid'] = test_df['card1'].astype(str)+'_'+test_df['card2'].astype(str)+'_'+test_df['card3'].astype(str)+'_'+test_df['card4'].astype(str)\n",
    "\n",
    "train_df['uid2'] = train_df['uid'].astype(str)+'_'+train_df['addr1'].astype(str)+'_'+train_df['addr2'].astype(str)\n",
    "test_df['uid2'] = test_df['uid'].astype(str)+'_'+test_df['addr1'].astype(str)+'_'+test_df['addr2'].astype(str)\n",
    "\n",
    "i_cols = ['card1','card2','card3','card5','uid','uid2']\n",
    "\n",
    "for col in i_cols:\n",
    "    for agg_type in ['mean', 'std', 'nunique']:\n",
    "        new_col_name = col+'_TransactionAmt_'+agg_type\n",
    "        temp_df = pd.concat([train_df[[col, 'TransactionAmt']], test_df[[col,'TransactionAmt']]])\n",
    "        temp_df = temp_df.groupby([col])['TransactionAmt'].agg([agg_type]).reset_index().rename(\n",
    "                                                columns={agg_type: new_col_name})\n",
    "        \n",
    "        temp_df.index = list(temp_df[col])\n",
    "        temp_df = temp_df[new_col_name].to_dict()   \n",
    "        train_df[new_col_name] = train_df[col].map(temp_df)\n",
    "        test_df[new_col_name]  = test_df[col].map(temp_df)\n",
    "        \n",
    "########################### Anomaly Search in geo information\n",
    "\n",
    "# Let's look on bank addres and client addres matching\n",
    "# card3/card5 bank country and name?\n",
    "# Addr2 -> Clients geo position (country)\n",
    "# Most common entries -> normal transactions\n",
    "# Less common etries -> some anonaly\n",
    "train_df['bank_type'] = train_df['card3'].astype(str)+'_'+train_df['card5'].astype(str)\n",
    "test_df['bank_type']  = test_df['card3'].astype(str)+'_'+test_df['card5'].astype(str)\n",
    "\n",
    "train_df['address_match'] = train_df['bank_type'].astype(str)+'_'+train_df['addr2'].astype(str)\n",
    "test_df['address_match']  = test_df['bank_type'].astype(str)+'_'+test_df['addr2'].astype(str)\n",
    "\n",
    "for col in ['address_match','bank_type']:\n",
    "    temp_df = pd.concat([train_df[[col]], test_df[[col]]])\n",
    "    temp_df[col] = np.where(temp_df[col].str.contains('nan'), np.nan, temp_df[col])\n",
    "    temp_df = temp_df.dropna()\n",
    "    fq_encode = temp_df[col].value_counts().to_dict()   \n",
    "    train_df[col] = train_df[col].map(fq_encode)\n",
    "    test_df[col]  = test_df[col].map(fq_encode)\n",
    "\n",
    "train_df['address_match'] = train_df['address_match']/train_df['bank_type'] \n",
    "test_df['address_match']  = test_df['address_match']/test_df['bank_type']"
   ]
  },
  {
   "cell_type": "markdown",
   "metadata": {},
   "source": [
    "Aggregate"
   ]
  },
  {
   "cell_type": "code",
   "execution_count": 39,
   "metadata": {},
   "outputs": [],
   "source": [
    "i_cols = ['uid','uid2', \"card1_addr2\", \"card1_ProductCD\"]\n",
    "\n",
    "for col in i_cols:\n",
    "    for agg_type in ['median']:\n",
    "        new_col_name = col+'_hour_'+agg_type\n",
    "        temp_df = pd.concat([train_df[[col, 'hour']], test_df[[col,'hour']]])\n",
    "        temp_df = temp_df.groupby([col])['hour'].agg([agg_type]).reset_index().rename(\n",
    "                                                columns={agg_type: new_col_name})\n",
    "        \n",
    "        temp_df.index = list(temp_df[col])\n",
    "        temp_df = temp_df[new_col_name].to_dict()   \n",
    "    \n",
    "        train_df[new_col_name] = train_df[col].map(temp_df)\n",
    "        test_df[new_col_name]  = test_df[col].map(temp_df)"
   ]
  },
  {
   "cell_type": "markdown",
   "metadata": {},
   "source": [
    "prev / next click\n"
   ]
  },
  {
   "cell_type": "code",
   "execution_count": 40,
   "metadata": {},
   "outputs": [],
   "source": [
    "# train_df['uid2_prev_click'] = train_df['TransactionDT'] - train_df.groupby(['uid2'])['TransactionDT'].shift(1)\n",
    "# test_df['uid2_prev_click'] = test_df['TransactionDT'] - test_df.groupby(['uid2'])['TransactionDT'].shift(1)\n",
    "total_df = pd.concat([train_df,test_df],axis=0,sort=False)\n",
    "\n",
    "train_df['uid2_next_click'] = train_df['TransactionDT'] - train_df.groupby(['uid2'])['TransactionDT'].shift(-1)\n",
    "test_df['uid2_next_click'] = test_df['TransactionDT'] - test_df.groupby(['uid2'])['TransactionDT'].shift(-1)\n"
   ]
  },
  {
   "cell_type": "code",
   "execution_count": 41,
   "metadata": {},
   "outputs": [],
   "source": [
    "del train_df['uid']; del train_df['uid2']; del train_df['bank_type']\n",
    "del test_df['uid']; del test_df['uid2']; del test_df['bank_type']\n"
   ]
  },
  {
   "cell_type": "code",
   "execution_count": 42,
   "metadata": {},
   "outputs": [],
   "source": [
    "train_df = train_df.merge(total_df.groupby(['card1','account_make_date_D1','ProductCD'])['TransactionAmt'].agg({'mean','std'}).reset_index().rename(columns={'mean':'card1_D1_productCD_Amt_mean','std':'card1_D1_productCD_Amt_std'}), how='left', on = ['card1','account_make_date_D1','ProductCD'])\n",
    "test_df = test_df.merge(total_df.groupby(['card1','account_make_date_D1','ProductCD'])['TransactionAmt'].agg({'mean','std'}).reset_index().rename(columns={'mean':'card1_D1_productCD_Amt_mean','std':'card1_D1_productCD_Amt_std'}), how='left', on = ['card1','account_make_date_D1','ProductCD'])\n"
   ]
  },
  {
   "cell_type": "code",
   "execution_count": 43,
   "metadata": {},
   "outputs": [],
   "source": [
    "train_df = train_df.merge(total_df.groupby(['card1','card2','card3','card4','addr1','addr2','ProductCD'])['dayofweek'].agg({'mean','std'}).reset_index().rename(columns={'mean':'uid2_dayofweek_mean','std':'uid2_dayofweek_std'}), how='left', on = ['card1','card2','card3','card4','addr1','addr2','ProductCD'])\n",
    "test_df = test_df.merge(total_df.groupby(['card1','card2','card3','card4','addr1','addr2','ProductCD'])['dayofweek'].agg({'mean','std'}).reset_index().rename(columns={'mean':'uid2_dayofweek_mean','std':'uid2_dayofweek_std'}), how='left', on = ['card1','card2','card3','card4','addr1','addr2','ProductCD'])\n"
   ]
  },
  {
   "cell_type": "markdown",
   "metadata": {},
   "source": [
    "D1, ProductCD add features\n",
    "\n",
    ",card1을 제외하고, D1_make_date와 ProductCD만으로 feature 생성\n",
    "\n"
   ]
  },
  {
   "cell_type": "code",
   "execution_count": 44,
   "metadata": {},
   "outputs": [],
   "source": [
    "train_df_D1_ProductCD_Amt = pd.DataFrame(train_df.groupby(['date','account_make_date_D1','ProductCD'])['TransactionAmt'].agg({'count'})).reset_index()\n",
    "test_df_D1_ProductCD_Amt = pd.DataFrame(test_df.groupby(['date','account_make_date_D1','ProductCD'])['TransactionAmt'].agg({'count'})).reset_index()\n",
    "train_df_D1_ProductCD_Amt.columns = ['date','account_make_date_D1','ProductCD', 'ProductCD_D1_Amt_byDate']\n",
    "test_df_D1_ProductCD_Amt.columns = ['date','account_make_date_D1','ProductCD','ProductCD_D1_Amt_byDate']\n"
   ]
  },
  {
   "cell_type": "code",
   "execution_count": 45,
   "metadata": {},
   "outputs": [],
   "source": [
    "# Data Merge\n",
    "train_df = pd.merge(train_df,train_df_D1_ProductCD_Amt,how='left',on=['date','account_make_date_D1','ProductCD'])\n",
    "test_df = pd.merge(test_df,test_df_D1_ProductCD_Amt,how='left',on=['date','account_make_date_D1','ProductCD'])"
   ]
  },
  {
   "cell_type": "code",
   "execution_count": 46,
   "metadata": {},
   "outputs": [],
   "source": [
    "train_df = train_df.merge(total_df.groupby(['account_make_date_D1','hour','ProductCD'])['TransactionAmt'].agg({'mean','std'}).reset_index().rename(columns={'mean':'D1_productCD_hour_Amt_mean','std':'D1_productCD_hour_Amt_std'}), how='left', on = ['account_make_date_D1','hour','ProductCD'])\n",
    "test_df = test_df.merge(total_df.groupby(['account_make_date_D1','hour','ProductCD'])['TransactionAmt'].agg({'mean','std'}).reset_index().rename(columns={'mean':'D1_productCD_hour_Amt_mean','std':'D1_productCD_hour_Amt_std'}), how='left', on = ['account_make_date_D1','hour','ProductCD'])\n"
   ]
  },
  {
   "cell_type": "markdown",
   "metadata": {},
   "source": [
    "D add features\n",
    "\n",
    "D6, D7, D8, D13, D14는 notnull값에 W가 존재하지 않으며, null값일 경우 Fraud가 증가하는 경향이 발생\n",
    "따라서 이를 묶어 feature 생성"
   ]
  },
  {
   "cell_type": "code",
   "execution_count": 47,
   "metadata": {},
   "outputs": [],
   "source": [
    "train_df['D_sum'] = train_df[['D6', 'D7', 'D8', 'D13', 'D14']].sum(axis = 1)\n",
    "train_df['D_mean'] = train_df[['D6', 'D7', 'D8', 'D13', 'D14']].mean(axis = 1)\n",
    "train_df['D_std'] = train_df[['D6', 'D7', 'D8', 'D13', 'D14']].std(axis = 1)\n",
    "train_df['D_min'] = train_df[['D6', 'D7', 'D8', 'D13', 'D14']].min(axis = 1)\n",
    "train_df['D_max'] = train_df[['D6', 'D7', 'D8', 'D13', 'D14']].max(axis = 1)\n",
    "train_df['D_na_counts'] = train_df[['D6', 'D7', 'D8', 'D13', 'D14']].isna().sum(axis = 1)\n",
    "\n",
    "test_df['D_sum'] = test_df[['D6', 'D7', 'D8', 'D13', 'D14']].sum(axis = 1)\n",
    "test_df['D_mean'] = test_df[['D6', 'D7', 'D8', 'D13', 'D14']].mean(axis = 1)\n",
    "test_df['D_std'] = test_df[['D6', 'D7', 'D8', 'D13', 'D14']].std(axis = 1)\n",
    "test_df['D_min'] = test_df[['D6', 'D7', 'D8', 'D13', 'D14']].min(axis = 1)\n",
    "test_df['D_max'] = test_df[['D6', 'D7', 'D8', 'D13', 'D14']].max(axis = 1)\n",
    "test_df['D_na_counts'] = test_df[['D6', 'D7', 'D8', 'D13', 'D14']].isna().sum(axis = 1)"
   ]
  },
  {
   "cell_type": "markdown",
   "metadata": {},
   "source": [
    "TransactionAmt-D1make-ProductCD counts\n"
   ]
  },
  {
   "cell_type": "code",
   "execution_count": 48,
   "metadata": {},
   "outputs": [],
   "source": [
    "train_df['same_Product_po'] = train_df['account_make_date_D1'].astype('str') + train_df['ProductCD'] + train_df['TransactionAmt'].astype('str')\n",
    "test_df['same_Product_po'] = test_df['account_make_date_D1'].astype('str') + test_df['ProductCD'] + test_df['TransactionAmt'].astype('str') \n"
   ]
  },
  {
   "cell_type": "code",
   "execution_count": 49,
   "metadata": {},
   "outputs": [
    {
     "data": {
      "text/html": [
       "<div>\n",
       "<style scoped>\n",
       "    .dataframe tbody tr th:only-of-type {\n",
       "        vertical-align: middle;\n",
       "    }\n",
       "\n",
       "    .dataframe tbody tr th {\n",
       "        vertical-align: top;\n",
       "    }\n",
       "\n",
       "    .dataframe thead th {\n",
       "        text-align: right;\n",
       "    }\n",
       "</style>\n",
       "<table border=\"1\" class=\"dataframe\">\n",
       "  <thead>\n",
       "    <tr style=\"text-align: right;\">\n",
       "      <th></th>\n",
       "      <th>same_Product_po</th>\n",
       "      <th>same_Product_po_cnt</th>\n",
       "    </tr>\n",
       "  </thead>\n",
       "  <tbody>\n",
       "    <tr>\n",
       "      <th>0</th>\n",
       "      <td>20171224.0R100.0</td>\n",
       "      <td>1736</td>\n",
       "    </tr>\n",
       "    <tr>\n",
       "      <th>1</th>\n",
       "      <td>20181224.0R100.0</td>\n",
       "      <td>1423</td>\n",
       "    </tr>\n",
       "    <tr>\n",
       "      <th>2</th>\n",
       "      <td>20171224.0H50.0</td>\n",
       "      <td>1404</td>\n",
       "    </tr>\n",
       "    <tr>\n",
       "      <th>3</th>\n",
       "      <td>20171220.0R100.0</td>\n",
       "      <td>1240</td>\n",
       "    </tr>\n",
       "    <tr>\n",
       "      <th>4</th>\n",
       "      <td>20181220.0R100.0</td>\n",
       "      <td>1089</td>\n",
       "    </tr>\n",
       "  </tbody>\n",
       "</table>\n",
       "</div>"
      ],
      "text/plain": [
       "    same_Product_po  same_Product_po_cnt\n",
       "0  20171224.0R100.0                 1736\n",
       "1  20181224.0R100.0                 1423\n",
       "2   20171224.0H50.0                 1404\n",
       "3  20171220.0R100.0                 1240\n",
       "4  20181220.0R100.0                 1089"
      ]
     },
     "execution_count": 49,
     "metadata": {},
     "output_type": "execute_result"
    }
   ],
   "source": [
    "df = pd.concat([train_df['same_Product_po'], test_df['same_Product_po']])\n",
    "df = df.value_counts().reset_index()\n",
    "df.columns = ['same_Product_po', \"same_Product_po_cnt\"]\n",
    "df.head()"
   ]
  },
  {
   "cell_type": "code",
   "execution_count": 50,
   "metadata": {},
   "outputs": [],
   "source": [
    "train_df = train_df.merge(df, on = 'same_Product_po', how = 'left')\n",
    "test_df = test_df.merge(df, on = 'same_Product_po', how = 'left')\n"
   ]
  },
  {
   "cell_type": "code",
   "execution_count": 51,
   "metadata": {},
   "outputs": [
    {
     "data": {
      "text/html": [
       "<div>\n",
       "<style scoped>\n",
       "    .dataframe tbody tr th:only-of-type {\n",
       "        vertical-align: middle;\n",
       "    }\n",
       "\n",
       "    .dataframe tbody tr th {\n",
       "        vertical-align: top;\n",
       "    }\n",
       "\n",
       "    .dataframe thead th {\n",
       "        text-align: right;\n",
       "    }\n",
       "</style>\n",
       "<table border=\"1\" class=\"dataframe\">\n",
       "  <thead>\n",
       "    <tr style=\"text-align: right;\">\n",
       "      <th></th>\n",
       "      <th>same_Product_po</th>\n",
       "      <th>date</th>\n",
       "      <th>same_Product_po_cnt_bydate</th>\n",
       "    </tr>\n",
       "  </thead>\n",
       "  <tbody>\n",
       "    <tr>\n",
       "      <th>0</th>\n",
       "      <td>20160308.0S20.0</td>\n",
       "      <td>2017-12-01</td>\n",
       "      <td>1</td>\n",
       "    </tr>\n",
       "    <tr>\n",
       "      <th>1</th>\n",
       "      <td>20160310.0R125.0</td>\n",
       "      <td>2017-12-05</td>\n",
       "      <td>1</td>\n",
       "    </tr>\n",
       "    <tr>\n",
       "      <th>2</th>\n",
       "      <td>20160310.0S20.0</td>\n",
       "      <td>2017-12-02</td>\n",
       "      <td>1</td>\n",
       "    </tr>\n",
       "    <tr>\n",
       "      <th>3</th>\n",
       "      <td>20160316.0R200.0</td>\n",
       "      <td>2017-12-01</td>\n",
       "      <td>2</td>\n",
       "    </tr>\n",
       "    <tr>\n",
       "      <th>4</th>\n",
       "      <td>20160316.0R50.0</td>\n",
       "      <td>2017-12-02</td>\n",
       "      <td>1</td>\n",
       "    </tr>\n",
       "  </tbody>\n",
       "</table>\n",
       "</div>"
      ],
      "text/plain": [
       "    same_Product_po        date  same_Product_po_cnt_bydate\n",
       "0   20160308.0S20.0  2017-12-01                           1\n",
       "1  20160310.0R125.0  2017-12-05                           1\n",
       "2   20160310.0S20.0  2017-12-02                           1\n",
       "3  20160316.0R200.0  2017-12-01                           2\n",
       "4   20160316.0R50.0  2017-12-02                           1"
      ]
     },
     "execution_count": 51,
     "metadata": {},
     "output_type": "execute_result"
    }
   ],
   "source": [
    "df = pd.concat([train_df[['same_Product_po', 'date']], test_df[['same_Product_po', 'date']]])\n",
    "df = df.groupby(['same_Product_po','date']).size().reset_index()\n",
    "df.columns = ['same_Product_po','date', \"same_Product_po_cnt_bydate\"]\n",
    "df.head()"
   ]
  },
  {
   "cell_type": "code",
   "execution_count": 52,
   "metadata": {},
   "outputs": [],
   "source": [
    "train_df = train_df.merge(df, on = ['same_Product_po','date'], how = 'left')\n",
    "test_df = test_df.merge(df, on = ['same_Product_po','date'], how = 'left')"
   ]
  },
  {
   "cell_type": "markdown",
   "metadata": {},
   "source": [
    "Count Encoding\n"
   ]
  },
  {
   "cell_type": "code",
   "execution_count": 53,
   "metadata": {},
   "outputs": [],
   "source": [
    "for i in ['account_make_date_D1']:\n",
    "    train_df['{}_count_full'.format(i)] = train_df[i].map(pd.concat([train_df[i], test_df[i]], ignore_index=True).value_counts(dropna=False))\n",
    "    test_df['{}_count_full'.format(i)] = test_df[i].map(pd.concat([train_df[i], test_df[i]], ignore_index=True).value_counts(dropna=False))  "
   ]
  },
  {
   "cell_type": "code",
   "execution_count": 54,
   "metadata": {},
   "outputs": [
    {
     "data": {
      "text/html": [
       "<div>\n",
       "<style scoped>\n",
       "    .dataframe tbody tr th:only-of-type {\n",
       "        vertical-align: middle;\n",
       "    }\n",
       "\n",
       "    .dataframe tbody tr th {\n",
       "        vertical-align: top;\n",
       "    }\n",
       "\n",
       "    .dataframe thead th {\n",
       "        text-align: right;\n",
       "    }\n",
       "</style>\n",
       "<table border=\"1\" class=\"dataframe\">\n",
       "  <thead>\n",
       "    <tr style=\"text-align: right;\">\n",
       "      <th></th>\n",
       "      <th>timeblock</th>\n",
       "      <th>TransactionID</th>\n",
       "      <th>isFraud</th>\n",
       "      <th>TransactionDT</th>\n",
       "      <th>TransactionAmt</th>\n",
       "      <th>ProductCD</th>\n",
       "      <th>card1</th>\n",
       "      <th>card2</th>\n",
       "      <th>card3</th>\n",
       "      <th>card4</th>\n",
       "      <th>...</th>\n",
       "      <th>D_sum</th>\n",
       "      <th>D_mean</th>\n",
       "      <th>D_std</th>\n",
       "      <th>D_min</th>\n",
       "      <th>D_max</th>\n",
       "      <th>D_na_counts</th>\n",
       "      <th>same_Product_po</th>\n",
       "      <th>same_Product_po_cnt</th>\n",
       "      <th>same_Product_po_cnt_bydate</th>\n",
       "      <th>account_make_date_D1_count_full</th>\n",
       "    </tr>\n",
       "  </thead>\n",
       "  <tbody>\n",
       "    <tr>\n",
       "      <th>0</th>\n",
       "      <td>2017-12-01 00:00:00</td>\n",
       "      <td>2987000</td>\n",
       "      <td>0</td>\n",
       "      <td>86400</td>\n",
       "      <td>68.500000</td>\n",
       "      <td>W</td>\n",
       "      <td>13926.0</td>\n",
       "      <td>NaN</td>\n",
       "      <td>150.0</td>\n",
       "      <td>discover</td>\n",
       "      <td>...</td>\n",
       "      <td>0.0</td>\n",
       "      <td>NaN</td>\n",
       "      <td>NaN</td>\n",
       "      <td>NaN</td>\n",
       "      <td>NaN</td>\n",
       "      <td>5</td>\n",
       "      <td>20171116.0W68.5</td>\n",
       "      <td>3</td>\n",
       "      <td>1</td>\n",
       "      <td>3856</td>\n",
       "    </tr>\n",
       "    <tr>\n",
       "      <th>1</th>\n",
       "      <td>2017-12-01 00:00:01</td>\n",
       "      <td>2987001</td>\n",
       "      <td>0</td>\n",
       "      <td>86401</td>\n",
       "      <td>29.000000</td>\n",
       "      <td>W</td>\n",
       "      <td>2755.0</td>\n",
       "      <td>404.0</td>\n",
       "      <td>150.0</td>\n",
       "      <td>mastercard</td>\n",
       "      <td>...</td>\n",
       "      <td>0.0</td>\n",
       "      <td>NaN</td>\n",
       "      <td>NaN</td>\n",
       "      <td>NaN</td>\n",
       "      <td>NaN</td>\n",
       "      <td>5</td>\n",
       "      <td>20171200.0W29.0</td>\n",
       "      <td>89</td>\n",
       "      <td>34</td>\n",
       "      <td>4297</td>\n",
       "    </tr>\n",
       "    <tr>\n",
       "      <th>2</th>\n",
       "      <td>2017-12-01 00:01:09</td>\n",
       "      <td>2987002</td>\n",
       "      <td>0</td>\n",
       "      <td>86469</td>\n",
       "      <td>59.000000</td>\n",
       "      <td>W</td>\n",
       "      <td>4663.0</td>\n",
       "      <td>490.0</td>\n",
       "      <td>150.0</td>\n",
       "      <td>visa</td>\n",
       "      <td>...</td>\n",
       "      <td>0.0</td>\n",
       "      <td>NaN</td>\n",
       "      <td>NaN</td>\n",
       "      <td>NaN</td>\n",
       "      <td>NaN</td>\n",
       "      <td>5</td>\n",
       "      <td>20171200.0W59.0</td>\n",
       "      <td>259</td>\n",
       "      <td>110</td>\n",
       "      <td>4297</td>\n",
       "    </tr>\n",
       "    <tr>\n",
       "      <th>3</th>\n",
       "      <td>2017-12-01 00:01:39</td>\n",
       "      <td>2987003</td>\n",
       "      <td>0</td>\n",
       "      <td>86499</td>\n",
       "      <td>50.000000</td>\n",
       "      <td>W</td>\n",
       "      <td>18132.0</td>\n",
       "      <td>567.0</td>\n",
       "      <td>150.0</td>\n",
       "      <td>mastercard</td>\n",
       "      <td>...</td>\n",
       "      <td>0.0</td>\n",
       "      <td>NaN</td>\n",
       "      <td>NaN</td>\n",
       "      <td>NaN</td>\n",
       "      <td>NaN</td>\n",
       "      <td>5</td>\n",
       "      <td>20170812.0W50.0</td>\n",
       "      <td>19</td>\n",
       "      <td>3</td>\n",
       "      <td>1621</td>\n",
       "    </tr>\n",
       "    <tr>\n",
       "      <th>4</th>\n",
       "      <td>2017-12-01 00:01:46</td>\n",
       "      <td>2987004</td>\n",
       "      <td>0</td>\n",
       "      <td>86506</td>\n",
       "      <td>50.000000</td>\n",
       "      <td>H</td>\n",
       "      <td>4497.0</td>\n",
       "      <td>514.0</td>\n",
       "      <td>150.0</td>\n",
       "      <td>mastercard</td>\n",
       "      <td>...</td>\n",
       "      <td>0.0</td>\n",
       "      <td>NaN</td>\n",
       "      <td>NaN</td>\n",
       "      <td>NaN</td>\n",
       "      <td>NaN</td>\n",
       "      <td>5</td>\n",
       "      <td>20171200.0H50.0</td>\n",
       "      <td>100</td>\n",
       "      <td>94</td>\n",
       "      <td>4297</td>\n",
       "    </tr>\n",
       "    <tr>\n",
       "      <th>...</th>\n",
       "      <td>...</td>\n",
       "      <td>...</td>\n",
       "      <td>...</td>\n",
       "      <td>...</td>\n",
       "      <td>...</td>\n",
       "      <td>...</td>\n",
       "      <td>...</td>\n",
       "      <td>...</td>\n",
       "      <td>...</td>\n",
       "      <td>...</td>\n",
       "      <td>...</td>\n",
       "      <td>...</td>\n",
       "      <td>...</td>\n",
       "      <td>...</td>\n",
       "      <td>...</td>\n",
       "      <td>...</td>\n",
       "      <td>...</td>\n",
       "      <td>...</td>\n",
       "      <td>...</td>\n",
       "      <td>...</td>\n",
       "      <td>...</td>\n",
       "    </tr>\n",
       "    <tr>\n",
       "      <th>590535</th>\n",
       "      <td>2018-05-31 23:57:27</td>\n",
       "      <td>3577535</td>\n",
       "      <td>0</td>\n",
       "      <td>15811047</td>\n",
       "      <td>49.000000</td>\n",
       "      <td>W</td>\n",
       "      <td>6550.0</td>\n",
       "      <td>NaN</td>\n",
       "      <td>150.0</td>\n",
       "      <td>visa</td>\n",
       "      <td>...</td>\n",
       "      <td>0.0</td>\n",
       "      <td>NaN</td>\n",
       "      <td>NaN</td>\n",
       "      <td>NaN</td>\n",
       "      <td>NaN</td>\n",
       "      <td>5</td>\n",
       "      <td>20180502.0W49.0</td>\n",
       "      <td>68</td>\n",
       "      <td>1</td>\n",
       "      <td>2142</td>\n",
       "    </tr>\n",
       "    <tr>\n",
       "      <th>590536</th>\n",
       "      <td>2018-05-31 23:57:29</td>\n",
       "      <td>3577536</td>\n",
       "      <td>0</td>\n",
       "      <td>15811049</td>\n",
       "      <td>39.500000</td>\n",
       "      <td>W</td>\n",
       "      <td>10444.0</td>\n",
       "      <td>225.0</td>\n",
       "      <td>150.0</td>\n",
       "      <td>mastercard</td>\n",
       "      <td>...</td>\n",
       "      <td>0.0</td>\n",
       "      <td>NaN</td>\n",
       "      <td>NaN</td>\n",
       "      <td>NaN</td>\n",
       "      <td>NaN</td>\n",
       "      <td>5</td>\n",
       "      <td>20180532.0W39.5</td>\n",
       "      <td>2</td>\n",
       "      <td>2</td>\n",
       "      <td>1577</td>\n",
       "    </tr>\n",
       "    <tr>\n",
       "      <th>590537</th>\n",
       "      <td>2018-05-31 23:57:59</td>\n",
       "      <td>3577537</td>\n",
       "      <td>0</td>\n",
       "      <td>15811079</td>\n",
       "      <td>30.953125</td>\n",
       "      <td>W</td>\n",
       "      <td>12037.0</td>\n",
       "      <td>595.0</td>\n",
       "      <td>150.0</td>\n",
       "      <td>mastercard</td>\n",
       "      <td>...</td>\n",
       "      <td>0.0</td>\n",
       "      <td>NaN</td>\n",
       "      <td>NaN</td>\n",
       "      <td>NaN</td>\n",
       "      <td>NaN</td>\n",
       "      <td>5</td>\n",
       "      <td>20180532.0W30.953125</td>\n",
       "      <td>23</td>\n",
       "      <td>10</td>\n",
       "      <td>1577</td>\n",
       "    </tr>\n",
       "    <tr>\n",
       "      <th>590538</th>\n",
       "      <td>2018-05-31 23:58:08</td>\n",
       "      <td>3577538</td>\n",
       "      <td>0</td>\n",
       "      <td>15811088</td>\n",
       "      <td>117.000000</td>\n",
       "      <td>W</td>\n",
       "      <td>7826.0</td>\n",
       "      <td>481.0</td>\n",
       "      <td>150.0</td>\n",
       "      <td>mastercard</td>\n",
       "      <td>...</td>\n",
       "      <td>0.0</td>\n",
       "      <td>NaN</td>\n",
       "      <td>NaN</td>\n",
       "      <td>NaN</td>\n",
       "      <td>NaN</td>\n",
       "      <td>5</td>\n",
       "      <td>20180508.0W117.0</td>\n",
       "      <td>272</td>\n",
       "      <td>3</td>\n",
       "      <td>6158</td>\n",
       "    </tr>\n",
       "    <tr>\n",
       "      <th>590539</th>\n",
       "      <td>2018-05-31 23:58:51</td>\n",
       "      <td>3577539</td>\n",
       "      <td>0</td>\n",
       "      <td>15811131</td>\n",
       "      <td>280.000000</td>\n",
       "      <td>W</td>\n",
       "      <td>15066.0</td>\n",
       "      <td>170.0</td>\n",
       "      <td>150.0</td>\n",
       "      <td>mastercard</td>\n",
       "      <td>...</td>\n",
       "      <td>0.0</td>\n",
       "      <td>NaN</td>\n",
       "      <td>NaN</td>\n",
       "      <td>NaN</td>\n",
       "      <td>NaN</td>\n",
       "      <td>5</td>\n",
       "      <td>20180532.0W280.0</td>\n",
       "      <td>11</td>\n",
       "      <td>10</td>\n",
       "      <td>1577</td>\n",
       "    </tr>\n",
       "  </tbody>\n",
       "</table>\n",
       "<p>590540 rows × 565 columns</p>\n",
       "</div>"
      ],
      "text/plain": [
       "                 timeblock  TransactionID  isFraud  TransactionDT  \\\n",
       "0      2017-12-01 00:00:00        2987000        0          86400   \n",
       "1      2017-12-01 00:00:01        2987001        0          86401   \n",
       "2      2017-12-01 00:01:09        2987002        0          86469   \n",
       "3      2017-12-01 00:01:39        2987003        0          86499   \n",
       "4      2017-12-01 00:01:46        2987004        0          86506   \n",
       "...                    ...            ...      ...            ...   \n",
       "590535 2018-05-31 23:57:27        3577535        0       15811047   \n",
       "590536 2018-05-31 23:57:29        3577536        0       15811049   \n",
       "590537 2018-05-31 23:57:59        3577537        0       15811079   \n",
       "590538 2018-05-31 23:58:08        3577538        0       15811088   \n",
       "590539 2018-05-31 23:58:51        3577539        0       15811131   \n",
       "\n",
       "        TransactionAmt ProductCD    card1  card2  card3       card4  ...  \\\n",
       "0            68.500000         W  13926.0    NaN  150.0    discover  ...   \n",
       "1            29.000000         W   2755.0  404.0  150.0  mastercard  ...   \n",
       "2            59.000000         W   4663.0  490.0  150.0        visa  ...   \n",
       "3            50.000000         W  18132.0  567.0  150.0  mastercard  ...   \n",
       "4            50.000000         H   4497.0  514.0  150.0  mastercard  ...   \n",
       "...                ...       ...      ...    ...    ...         ...  ...   \n",
       "590535       49.000000         W   6550.0    NaN  150.0        visa  ...   \n",
       "590536       39.500000         W  10444.0  225.0  150.0  mastercard  ...   \n",
       "590537       30.953125         W  12037.0  595.0  150.0  mastercard  ...   \n",
       "590538      117.000000         W   7826.0  481.0  150.0  mastercard  ...   \n",
       "590539      280.000000         W  15066.0  170.0  150.0  mastercard  ...   \n",
       "\n",
       "        D_sum D_mean  D_std  D_min  D_max  D_na_counts       same_Product_po  \\\n",
       "0         0.0    NaN    NaN    NaN    NaN            5       20171116.0W68.5   \n",
       "1         0.0    NaN    NaN    NaN    NaN            5       20171200.0W29.0   \n",
       "2         0.0    NaN    NaN    NaN    NaN            5       20171200.0W59.0   \n",
       "3         0.0    NaN    NaN    NaN    NaN            5       20170812.0W50.0   \n",
       "4         0.0    NaN    NaN    NaN    NaN            5       20171200.0H50.0   \n",
       "...       ...    ...    ...    ...    ...          ...                   ...   \n",
       "590535    0.0    NaN    NaN    NaN    NaN            5       20180502.0W49.0   \n",
       "590536    0.0    NaN    NaN    NaN    NaN            5       20180532.0W39.5   \n",
       "590537    0.0    NaN    NaN    NaN    NaN            5  20180532.0W30.953125   \n",
       "590538    0.0    NaN    NaN    NaN    NaN            5      20180508.0W117.0   \n",
       "590539    0.0    NaN    NaN    NaN    NaN            5      20180532.0W280.0   \n",
       "\n",
       "       same_Product_po_cnt  same_Product_po_cnt_bydate  \\\n",
       "0                        3                           1   \n",
       "1                       89                          34   \n",
       "2                      259                         110   \n",
       "3                       19                           3   \n",
       "4                      100                          94   \n",
       "...                    ...                         ...   \n",
       "590535                  68                           1   \n",
       "590536                   2                           2   \n",
       "590537                  23                          10   \n",
       "590538                 272                           3   \n",
       "590539                  11                          10   \n",
       "\n",
       "        account_make_date_D1_count_full  \n",
       "0                                  3856  \n",
       "1                                  4297  \n",
       "2                                  4297  \n",
       "3                                  1621  \n",
       "4                                  4297  \n",
       "...                                 ...  \n",
       "590535                             2142  \n",
       "590536                             1577  \n",
       "590537                             1577  \n",
       "590538                             6158  \n",
       "590539                             1577  \n",
       "\n",
       "[590540 rows x 565 columns]"
      ]
     },
     "execution_count": 54,
     "metadata": {},
     "output_type": "execute_result"
    }
   ],
   "source": [
    "train_df"
   ]
  },
  {
   "cell_type": "code",
   "execution_count": 55,
   "metadata": {},
   "outputs": [],
   "source": [
    "train_df = train_df.merge(train_df.groupby(['date','hour'])['TransactionID'].agg({'count'}).reset_index().rename(columns = {'count':'TransactionPerHour'}),how='left',on=['date','hour'])\n",
    "test_df = test_df.merge(test_df.groupby(['date','hour'])['TransactionID'].agg({'count'}).reset_index().rename(columns = {'count':'TransactionPerHour'}),how='left',on=['date','hour'])\n",
    "\n",
    "train_df = train_df.merge(train_df.groupby(['hour'])['TransactionID'].agg({'count'}).reset_index().rename(columns = {'count':'Transactionhourcount'}),how='left',on=['hour'])\n",
    "test_df = test_df.merge(test_df.groupby(['hour'])['TransactionID'].agg({'count'}).reset_index().rename(columns = {'count':'Transactionhourcount'}),how='left',on=['hour'])\n",
    "\n",
    "train_df['TransactionPerHour'] = train_df['TransactionPerHour'] / train_df['Transactionhourcount']\n",
    "test_df['TransactionPerHour'] = test_df['TransactionPerHour'] / test_df['Transactionhourcount']"
   ]
  },
  {
   "cell_type": "markdown",
   "metadata": {},
   "source": [
    "Label Encoding\n"
   ]
  },
  {
   "cell_type": "code",
   "execution_count": 56,
   "metadata": {},
   "outputs": [
    {
     "name": "stderr",
     "output_type": "stream",
     "text": [
      "C:\\Users\\USER\\AppData\\Local\\Temp\\ipykernel_5580\\1723156209.py:3: TqdmDeprecationWarning:\n",
      "\n",
      "This function will be removed in tqdm==5.0.0\n",
      "Please use `tqdm.notebook.tqdm` instead of `tqdm.tqdm_notebook`\n",
      "\n"
     ]
    },
    {
     "data": {
      "application/vnd.jupyter.widget-view+json": {
       "model_id": "cf17e02dd90a4400920c43e4659fe14e",
       "version_major": 2,
       "version_minor": 0
      },
      "text/plain": [
       "  0%|          | 0/567 [00:00<?, ?it/s]"
      ]
     },
     "metadata": {},
     "output_type": "display_data"
    }
   ],
   "source": [
    "from sklearn.preprocessing import LabelEncoder\n",
    "\n",
    "for col in tqdm_notebook(train_df.columns):\n",
    "    if train_df[col].dtype == 'object':\n",
    "        le = LabelEncoder()\n",
    "        le.fit(list(train_df[col].astype(str).values) + list(test_df[col].astype(str).values))\n",
    "        train_df[col] = le.transform(list(train_df[col].astype(str).values))\n",
    "        test_df[col] = le.transform(list(test_df[col].astype(str).values)) "
   ]
  },
  {
   "cell_type": "markdown",
   "metadata": {},
   "source": [
    "Feature selection : LightGBM - Adversarial Validation\n"
   ]
  },
  {
   "cell_type": "code",
   "execution_count": 57,
   "metadata": {},
   "outputs": [],
   "source": [
    "from sklearn.model_selection import KFold, StratifiedKFold, TimeSeriesSplit\n",
    "from sklearn.metrics import roc_auc_score\n",
    "import lightgbm as lgb"
   ]
  },
  {
   "cell_type": "code",
   "execution_count": 58,
   "metadata": {},
   "outputs": [],
   "source": [
    "features = [c for c in train_df.columns if c not in ['TransactionID', 'isFraud','TransactionDT','timeblock','account_start_day', 'date'\n",
    "                                                    , 'year', 'month', 'target', 'day','account_make_date_D11', 'account_make_date_D3', 'account_make_date_D5', 'account_make_date_D4' , 'account_make_date_D8', 'account_make_date_D14', 'account_make_date_D6', 'account_make_date_D12', 'account_make_date_D7'\n",
    "                                                    , 'card_1_2_3_5_nunique', 'card_1_2_3_5_prev_click', 'card_1_2_3_5_next_click', 'card_1_3_TransactionAmt_prev_click', 'card_1_3_TransactionAmt_next_click', 'account_make_date'\n",
    "                                                    , 'poten_card1_nunique_D5', 'poten_card1_nunique_D11','poten_card1_nunique_D6', 'poten_card1_nunique_D3','poten_card1_nunique_D7','poten_card1_nunique_D12','poten_card1_nunique_D8','poten_card1_nunique_D4','poten_card1_nunique_D14'\n",
    "                                                    , 'id_13', 'id_31', 'id_13_count_full', 'id_31_count_full','ProductCD', 'card3', 'card4', 'card5', 'card6', 'M1', 'M2', 'M3',\n",
    "       'M4', 'M5', 'M7', 'M8', 'M9', 'P_emaildomain_bin',\n",
    "       'P_emaildomain_suffix', 'R_emaildomain_bin',\n",
    "       'R_emaildomain_suffix', 'account_make_date',\n",
    "       'account_make_date_D3', 'account_make_date_D4',\n",
    "       'account_make_date_D7', 'account_make_date_D8',\n",
    "       'account_make_date_D11', 'account_make_date_D12',\n",
    "       'account_make_date_D14', 'dayofweek', 'hour', 'card1_addr1',\n",
    "       'card1_ProductCD', 'count_x', 'count_y', 'D15', \"card1_TransactionAmt_mean\",\n",
    "        'card1_addr1hourstd','card1_addr1hourmedian','uid_hour_std','uid2_hour_std','card1_ProductCD_hour_std','card1_addr2_hour_std',\n",
    "        'card1_TransactionAmt_nunique','card2_TransactionAmt_nunique','card3_TransactionAmt_nunique','card5_TransactionAmt_nunique','uid_TransactionAmt_nunique',\n",
    "        'uid_hour_nunique','uid2_hour_nunique','card1_addr2_hour_nunique','card1_ProductCD_hour_nunique','account_make_date_D1','card1_year_month_mean','uid2_D4_mean','uid2_dayofweek_std','DT_M','Transactionhourcount']]"
   ]
  },
  {
   "cell_type": "code",
   "execution_count": 59,
   "metadata": {},
   "outputs": [],
   "source": [
    "train = train_df.copy()\n",
    "test = test_df.copy()"
   ]
  },
  {
   "cell_type": "code",
   "execution_count": 60,
   "metadata": {},
   "outputs": [],
   "source": [
    "from sklearn import model_selection, preprocessing, metrics\n",
    "\n",
    "train['target'] = 0\n",
    "test['target'] = 1\n",
    "\n",
    "train_test = pd.concat([train, test], axis =0)\n",
    "target = train_test['target'].values\n",
    "\n",
    "train, test = model_selection.train_test_split(train_test, test_size=0.33, random_state=42, shuffle=True)\n",
    "train_y = train['target'].values\n",
    "test_y = test['target'].values\n",
    "del train['target'], test['target']\n",
    "gc.collect()\n",
    "\n",
    "train = lgb.Dataset(train[features], label=train_y)\n",
    "test = lgb.Dataset(test[features], label=test_y)"
   ]
  },
  {
   "cell_type": "code",
   "execution_count": 61,
   "metadata": {},
   "outputs": [],
   "source": [
    "# 문제점\n",
    "# 파라미터에 따라서 아래와 결과가 달라짐. \n",
    "params = {'num_leaves': 491,\n",
    "          'min_child_weight': 0.03454472573214212,\n",
    "          'feature_fraction': 0.3797454081646243,\n",
    "          'bagging_fraction': 0.4181193142567742,\n",
    "          'min_data_in_leaf': 106,\n",
    "          'objective': 'binary',\n",
    "          'max_depth': -1,\n",
    "          'learning_rate': 0.006883242363721497,\n",
    "          \"boosting_type\": \"gbdt\",\n",
    "          \"bagging_seed\": 11,\n",
    "          \"metric\": 'auc',\n",
    "          \"verbosity\": -1,\n",
    "          'reg_alpha': 0.3899927210061127,\n",
    "          'reg_lambda': 0.6485237330340494,\n",
    "          'random_state': 47\n",
    "         }"
   ]
  },
  {
   "cell_type": "code",
   "execution_count": 62,
   "metadata": {},
   "outputs": [
    {
     "name": "stdout",
     "output_type": "stream",
     "text": [
      "Training until validation scores don't improve for 25 rounds\n",
      "[10]\ttraining's auc: 0.999982\tvalid_1's auc: 0.999962\n",
      "[20]\ttraining's auc: 0.999986\tvalid_1's auc: 0.999974\n",
      "[30]\ttraining's auc: 0.999976\tvalid_1's auc: 0.999963\n",
      "[40]\ttraining's auc: 0.999988\tvalid_1's auc: 0.99998\n",
      "[50]\ttraining's auc: 0.999988\tvalid_1's auc: 0.99998\n",
      "[60]\ttraining's auc: 0.999991\tvalid_1's auc: 0.999984\n",
      "[70]\ttraining's auc: 0.999993\tvalid_1's auc: 0.999987\n",
      "[80]\ttraining's auc: 0.999994\tvalid_1's auc: 0.999988\n",
      "[90]\ttraining's auc: 0.999995\tvalid_1's auc: 0.999991\n",
      "[100]\ttraining's auc: 0.999996\tvalid_1's auc: 0.999992\n",
      "Did not meet early stopping. Best iteration is:\n",
      "[100]\ttraining's auc: 0.999996\tvalid_1's auc: 0.999992\n"
     ]
    }
   ],
   "source": [
    "callbacks = [lgb.early_stopping(stopping_rounds=25),lgb.log_evaluation(period=10)]\n",
    "clf = lgb.train(params, train,num_boost_round = 100,valid_sets = [train, test],callbacks=callbacks)"
   ]
  },
  {
   "cell_type": "code",
   "execution_count": 63,
   "metadata": {},
   "outputs": [
    {
     "data": {
      "image/png": "[encoded data removed]",
      "text/plain": [
       "<Figure size 2000x1000 with 1 Axes>"
      ]
     },
     "metadata": {},
     "output_type": "display_data"
    },
    {
     "data": {
      "text/plain": [
       "<Figure size 640x480 with 0 Axes>"
      ]
     },
     "metadata": {},
     "output_type": "display_data"
    }
   ],
   "source": [
    "feature_imp = pd.DataFrame(sorted(zip(clf.feature_importance(),features)), columns=['Value','Feature'])\n",
    "\n",
    "plt.figure(figsize=(20, 10))\n",
    "sns.barplot(x=\"Value\", y=\"Feature\", data=feature_imp.sort_values(by=\"Value\", ascending=False).head(20))\n",
    "plt.title('LightGBM Features')\n",
    "plt.tight_layout()\n",
    "plt.show()\n",
    "plt.savefig('lgbm_importances-01.png')"
   ]
  },
  {
   "cell_type": "code",
   "execution_count": 64,
   "metadata": {},
   "outputs": [
    {
     "data": {
      "text/html": [
       "<div>\n",
       "<style scoped>\n",
       "    .dataframe tbody tr th:only-of-type {\n",
       "        vertical-align: middle;\n",
       "    }\n",
       "\n",
       "    .dataframe tbody tr th {\n",
       "        vertical-align: top;\n",
       "    }\n",
       "\n",
       "    .dataframe thead th {\n",
       "        text-align: right;\n",
       "    }\n",
       "</style>\n",
       "<table border=\"1\" class=\"dataframe\">\n",
       "  <thead>\n",
       "    <tr style=\"text-align: right;\">\n",
       "      <th></th>\n",
       "      <th>Value</th>\n",
       "      <th>Feature</th>\n",
       "    </tr>\n",
       "  </thead>\n",
       "  <tbody>\n",
       "    <tr>\n",
       "      <th>519</th>\n",
       "      <td>3565</td>\n",
       "      <td>account_make_date_D1_count_full</td>\n",
       "    </tr>\n",
       "    <tr>\n",
       "      <th>518</th>\n",
       "      <td>3210</td>\n",
       "      <td>D10</td>\n",
       "    </tr>\n",
       "    <tr>\n",
       "      <th>517</th>\n",
       "      <td>2178</td>\n",
       "      <td>account_make_date_D10</td>\n",
       "    </tr>\n",
       "    <tr>\n",
       "      <th>516</th>\n",
       "      <td>2047</td>\n",
       "      <td>D1</td>\n",
       "    </tr>\n",
       "    <tr>\n",
       "      <th>515</th>\n",
       "      <td>2039</td>\n",
       "      <td>ProductCD_D1_Amt_byDate</td>\n",
       "    </tr>\n",
       "    <tr>\n",
       "      <th>...</th>\n",
       "      <td>...</td>\n",
       "      <td>...</td>\n",
       "    </tr>\n",
       "    <tr>\n",
       "      <th>69</th>\n",
       "      <td>0</td>\n",
       "      <td>V328</td>\n",
       "    </tr>\n",
       "    <tr>\n",
       "      <th>70</th>\n",
       "      <td>0</td>\n",
       "      <td>V330</td>\n",
       "    </tr>\n",
       "    <tr>\n",
       "      <th>71</th>\n",
       "      <td>0</td>\n",
       "      <td>V338</td>\n",
       "    </tr>\n",
       "    <tr>\n",
       "      <th>72</th>\n",
       "      <td>0</td>\n",
       "      <td>V42</td>\n",
       "    </tr>\n",
       "    <tr>\n",
       "      <th>0</th>\n",
       "      <td>0</td>\n",
       "      <td>V103</td>\n",
       "    </tr>\n",
       "  </tbody>\n",
       "</table>\n",
       "<p>520 rows × 2 columns</p>\n",
       "</div>"
      ],
      "text/plain": [
       "     Value                          Feature\n",
       "519   3565  account_make_date_D1_count_full\n",
       "518   3210                              D10\n",
       "517   2178            account_make_date_D10\n",
       "516   2047                               D1\n",
       "515   2039          ProductCD_D1_Amt_byDate\n",
       "..     ...                              ...\n",
       "69       0                             V328\n",
       "70       0                             V330\n",
       "71       0                             V338\n",
       "72       0                              V42\n",
       "0        0                             V103\n",
       "\n",
       "[520 rows x 2 columns]"
      ]
     },
     "execution_count": 64,
     "metadata": {},
     "output_type": "execute_result"
    }
   ],
   "source": [
    "feature_imp.sort_values(by='Value',ascending=False)\n"
   ]
  },
  {
   "cell_type": "code",
   "execution_count": 65,
   "metadata": {},
   "outputs": [],
   "source": [
    "feature_imp.sort_values(by='Value',ascending=False).to_csv(\"importance.csv\",index=False)\n"
   ]
  },
  {
   "cell_type": "markdown",
   "metadata": {},
   "source": [
    "RandomForestClassifier - Covariate Shift\n"
   ]
  },
  {
   "cell_type": "markdown",
   "metadata": {},
   "source": [
    "LightGBM - 8 : 2 Split\n"
   ]
  },
  {
   "cell_type": "code",
   "execution_count": 66,
   "metadata": {},
   "outputs": [],
   "source": [
    "from sklearn.model_selection import KFold, StratifiedKFold, TimeSeriesSplit\n",
    "from sklearn.metrics import roc_auc_score\n",
    "import lightgbm as lgb\n"
   ]
  },
  {
   "cell_type": "code",
   "execution_count": 67,
   "metadata": {},
   "outputs": [],
   "source": [
    "params = {'num_leaves': 491,\n",
    "          'min_child_weight': 0.03454472573214212,\n",
    "          'feature_fraction': 0.3797454081646243,\n",
    "          'bagging_fraction': 0.4181193142567742,\n",
    "          'min_data_in_leaf': 106,\n",
    "          'objective': 'binary',\n",
    "          'max_depth': -1,\n",
    "          'learning_rate': 0.006883242363721497,\n",
    "          \"boosting_type\": \"gbdt\",\n",
    "          \"bagging_seed\": 11,\n",
    "          \"metric\": 'auc',\n",
    "          \"verbosity\": -1,\n",
    "          'reg_alpha': 0.3899927210061127,\n",
    "          'reg_lambda': 0.6485237330340494,\n",
    "          'random_state': 47\n",
    "         }"
   ]
  },
  {
   "cell_type": "code",
   "execution_count": 68,
   "metadata": {},
   "outputs": [],
   "source": [
    "train_df['DT_M'] = (train_df['year']-2017)*12 + train_df['month'] \n",
    "test_df['DT_M'] = (test_df['year']-2017)*12 + test_df['month']"
   ]
  },
  {
   "cell_type": "code",
   "execution_count": 69,
   "metadata": {},
   "outputs": [],
   "source": [
    "y = train_df['isFraud']\n",
    "X = train_df[features].reset_index(drop=True)\n",
    "\n",
    "test = test_df[features].reset_index(drop=True)"
   ]
  },
  {
   "cell_type": "markdown",
   "metadata": {},
   "source": [
    "Group K fold\n"
   ]
  },
  {
   "cell_type": "code",
   "execution_count": 70,
   "metadata": {},
   "outputs": [
    {
     "name": "stdout",
     "output_type": "stream",
     "text": [
      "Training on fold 1\n",
      "Training until validation scores don't improve for 100 rounds\n",
      "[100]\ttraining's auc: 0.955848\tvalid_1's auc: 0.87832\n",
      "[200]\ttraining's auc: 0.968291\tvalid_1's auc: 0.885942\n",
      "[300]\ttraining's auc: 0.978652\tvalid_1's auc: 0.894233\n",
      "[400]\ttraining's auc: 0.986389\tvalid_1's auc: 0.899939\n",
      "[500]\ttraining's auc: 0.99124\tvalid_1's auc: 0.904364\n",
      "[600]\ttraining's auc: 0.994561\tvalid_1's auc: 0.907824\n",
      "[700]\ttraining's auc: 0.996755\tvalid_1's auc: 0.910858\n",
      "[800]\ttraining's auc: 0.998145\tvalid_1's auc: 0.913191\n",
      "[900]\ttraining's auc: 0.998975\tvalid_1's auc: 0.914914\n",
      "[1000]\ttraining's auc: 0.999451\tvalid_1's auc: 0.915999\n",
      "[1100]\ttraining's auc: 0.999705\tvalid_1's auc: 0.916889\n",
      "[1200]\ttraining's auc: 0.999849\tvalid_1's auc: 0.917749\n",
      "[1300]\ttraining's auc: 0.999924\tvalid_1's auc: 0.918077\n",
      "[1400]\ttraining's auc: 0.999963\tvalid_1's auc: 0.918649\n",
      "[1500]\ttraining's auc: 0.999983\tvalid_1's auc: 0.918894\n",
      "[1600]\ttraining's auc: 0.999993\tvalid_1's auc: 0.919141\n",
      "[1700]\ttraining's auc: 0.999997\tvalid_1's auc: 0.919349\n",
      "[1800]\ttraining's auc: 0.999999\tvalid_1's auc: 0.919502\n",
      "[1900]\ttraining's auc: 1\tvalid_1's auc: 0.919738\n",
      "[2000]\ttraining's auc: 1\tvalid_1's auc: 0.919946\n",
      "[2100]\ttraining's auc: 1\tvalid_1's auc: 0.920172\n",
      "[2200]\ttraining's auc: 1\tvalid_1's auc: 0.920294\n",
      "Early stopping, best iteration is:\n",
      "[2181]\ttraining's auc: 1\tvalid_1's auc: 0.920335\n",
      "Fold 1 finished in 0:14:18.399467\n",
      "Training on fold 2\n",
      "Training until validation scores don't improve for 100 rounds\n",
      "[100]\ttraining's auc: 0.955022\tvalid_1's auc: 0.915063\n",
      "[200]\ttraining's auc: 0.967801\tvalid_1's auc: 0.924538\n",
      "[300]\ttraining's auc: 0.977668\tvalid_1's auc: 0.93111\n",
      "[400]\ttraining's auc: 0.985622\tvalid_1's auc: 0.936612\n",
      "[500]\ttraining's auc: 0.990812\tvalid_1's auc: 0.940722\n",
      "[600]\ttraining's auc: 0.994292\tvalid_1's auc: 0.94382\n",
      "[700]\ttraining's auc: 0.996581\tvalid_1's auc: 0.945867\n",
      "[800]\ttraining's auc: 0.998066\tvalid_1's auc: 0.947376\n",
      "[900]\ttraining's auc: 0.998946\tvalid_1's auc: 0.948244\n",
      "[1000]\ttraining's auc: 0.999438\tvalid_1's auc: 0.949126\n",
      "[1100]\ttraining's auc: 0.999708\tvalid_1's auc: 0.949678\n",
      "[1200]\ttraining's auc: 0.999852\tvalid_1's auc: 0.95024\n",
      "[1300]\ttraining's auc: 0.999928\tvalid_1's auc: 0.950734\n",
      "[1400]\ttraining's auc: 0.999966\tvalid_1's auc: 0.951056\n",
      "[1500]\ttraining's auc: 0.999985\tvalid_1's auc: 0.951367\n",
      "[1600]\ttraining's auc: 0.999994\tvalid_1's auc: 0.951598\n",
      "[1700]\ttraining's auc: 0.999998\tvalid_1's auc: 0.951796\n",
      "[1800]\ttraining's auc: 0.999999\tvalid_1's auc: 0.951934\n",
      "[1900]\ttraining's auc: 1\tvalid_1's auc: 0.952067\n",
      "[2000]\ttraining's auc: 1\tvalid_1's auc: 0.952105\n",
      "[2100]\ttraining's auc: 1\tvalid_1's auc: 0.952113\n",
      "Early stopping, best iteration is:\n",
      "[2065]\ttraining's auc: 1\tvalid_1's auc: 0.95218\n",
      "Fold 2 finished in 0:16:56.162395\n",
      "Training on fold 3\n",
      "Training until validation scores don't improve for 100 rounds\n",
      "[100]\ttraining's auc: 0.951744\tvalid_1's auc: 0.914871\n",
      "[200]\ttraining's auc: 0.965579\tvalid_1's auc: 0.92428\n",
      "[300]\ttraining's auc: 0.975957\tvalid_1's auc: 0.931211\n",
      "[400]\ttraining's auc: 0.984169\tvalid_1's auc: 0.937374\n",
      "[500]\ttraining's auc: 0.989832\tvalid_1's auc: 0.941578\n",
      "[600]\ttraining's auc: 0.993613\tvalid_1's auc: 0.945354\n",
      "[700]\ttraining's auc: 0.996115\tvalid_1's auc: 0.947615\n",
      "[800]\ttraining's auc: 0.99772\tvalid_1's auc: 0.949336\n",
      "[900]\ttraining's auc: 0.998712\tvalid_1's auc: 0.95032\n",
      "[1000]\ttraining's auc: 0.999288\tvalid_1's auc: 0.951172\n",
      "[1100]\ttraining's auc: 0.999621\tvalid_1's auc: 0.951788\n",
      "[1200]\ttraining's auc: 0.999804\tvalid_1's auc: 0.952291\n",
      "[1300]\ttraining's auc: 0.999901\tvalid_1's auc: 0.952852\n",
      "[1400]\ttraining's auc: 0.999951\tvalid_1's auc: 0.953152\n",
      "[1500]\ttraining's auc: 0.999977\tvalid_1's auc: 0.953415\n",
      "[1600]\ttraining's auc: 0.99999\tvalid_1's auc: 0.953637\n",
      "[1700]\ttraining's auc: 0.999996\tvalid_1's auc: 0.953743\n",
      "[1800]\ttraining's auc: 0.999999\tvalid_1's auc: 0.953936\n",
      "[1900]\ttraining's auc: 1\tvalid_1's auc: 0.954072\n",
      "[2000]\ttraining's auc: 1\tvalid_1's auc: 0.954163\n",
      "[2100]\ttraining's auc: 1\tvalid_1's auc: 0.954262\n",
      "[2200]\ttraining's auc: 1\tvalid_1's auc: 0.954314\n",
      "[2300]\ttraining's auc: 1\tvalid_1's auc: 0.95441\n",
      "[2400]\ttraining's auc: 1\tvalid_1's auc: 0.954454\n",
      "Early stopping, best iteration is:\n",
      "[2372]\ttraining's auc: 1\tvalid_1's auc: 0.954488\n",
      "Fold 3 finished in 0:30:55.793571\n",
      "Training on fold 4\n",
      "Training until validation scores don't improve for 100 rounds\n",
      "[100]\ttraining's auc: 0.953593\tvalid_1's auc: 0.906622\n",
      "[200]\ttraining's auc: 0.966177\tvalid_1's auc: 0.917589\n",
      "[300]\ttraining's auc: 0.976865\tvalid_1's auc: 0.926522\n",
      "[400]\ttraining's auc: 0.985095\tvalid_1's auc: 0.93331\n",
      "[500]\ttraining's auc: 0.99025\tvalid_1's auc: 0.937302\n",
      "[600]\ttraining's auc: 0.993758\tvalid_1's auc: 0.93982\n",
      "[700]\ttraining's auc: 0.996168\tvalid_1's auc: 0.94158\n",
      "[800]\ttraining's auc: 0.997761\tvalid_1's auc: 0.942798\n",
      "[900]\ttraining's auc: 0.998734\tvalid_1's auc: 0.943608\n",
      "[1000]\ttraining's auc: 0.9993\tvalid_1's auc: 0.944216\n",
      "[1100]\ttraining's auc: 0.999627\tvalid_1's auc: 0.944705\n",
      "[1200]\ttraining's auc: 0.999805\tvalid_1's auc: 0.945127\n",
      "[1300]\ttraining's auc: 0.999901\tvalid_1's auc: 0.945567\n",
      "[1400]\ttraining's auc: 0.999952\tvalid_1's auc: 0.94585\n",
      "[1500]\ttraining's auc: 0.999977\tvalid_1's auc: 0.945845\n",
      "[1600]\ttraining's auc: 0.99999\tvalid_1's auc: 0.945951\n",
      "[1700]\ttraining's auc: 0.999996\tvalid_1's auc: 0.946044\n",
      "[1800]\ttraining's auc: 0.999998\tvalid_1's auc: 0.946152\n",
      "[1900]\ttraining's auc: 0.999999\tvalid_1's auc: 0.946143\n",
      "Early stopping, best iteration is:\n",
      "[1834]\ttraining's auc: 0.999999\tvalid_1's auc: 0.946207\n",
      "Fold 4 finished in 0:20:39.869601\n",
      "Training on fold 5\n",
      "Training until validation scores don't improve for 100 rounds\n",
      "[100]\ttraining's auc: 0.956266\tvalid_1's auc: 0.922922\n",
      "[200]\ttraining's auc: 0.968617\tvalid_1's auc: 0.931255\n",
      "[300]\ttraining's auc: 0.978568\tvalid_1's auc: 0.938007\n",
      "[400]\ttraining's auc: 0.986596\tvalid_1's auc: 0.94432\n",
      "[500]\ttraining's auc: 0.991826\tvalid_1's auc: 0.948892\n",
      "[600]\ttraining's auc: 0.995128\tvalid_1's auc: 0.952036\n",
      "[700]\ttraining's auc: 0.997237\tvalid_1's auc: 0.954107\n",
      "[800]\ttraining's auc: 0.998536\tvalid_1's auc: 0.955313\n",
      "[900]\ttraining's auc: 0.999268\tvalid_1's auc: 0.956167\n",
      "[1000]\ttraining's auc: 0.999638\tvalid_1's auc: 0.956871\n",
      "[1100]\ttraining's auc: 0.999827\tvalid_1's auc: 0.957383\n",
      "[1200]\ttraining's auc: 0.999921\tvalid_1's auc: 0.95787\n",
      "[1300]\ttraining's auc: 0.999966\tvalid_1's auc: 0.958277\n",
      "[1400]\ttraining's auc: 0.999986\tvalid_1's auc: 0.958537\n",
      "[1500]\ttraining's auc: 0.999994\tvalid_1's auc: 0.958829\n",
      "[1600]\ttraining's auc: 0.999998\tvalid_1's auc: 0.959042\n",
      "[1700]\ttraining's auc: 0.999999\tvalid_1's auc: 0.959209\n",
      "[1800]\ttraining's auc: 1\tvalid_1's auc: 0.959291\n",
      "[1900]\ttraining's auc: 1\tvalid_1's auc: 0.959401\n",
      "[2000]\ttraining's auc: 1\tvalid_1's auc: 0.959488\n",
      "[2100]\ttraining's auc: 1\tvalid_1's auc: 0.959586\n",
      "[2200]\ttraining's auc: 1\tvalid_1's auc: 0.959704\n",
      "[2300]\ttraining's auc: 1\tvalid_1's auc: 0.959781\n",
      "[2400]\ttraining's auc: 1\tvalid_1's auc: 0.959785\n",
      "[2500]\ttraining's auc: 1\tvalid_1's auc: 0.959817\n",
      "[2600]\ttraining's auc: 1\tvalid_1's auc: 0.95982\n",
      "Early stopping, best iteration is:\n",
      "[2549]\ttraining's auc: 1\tvalid_1's auc: 0.959832\n",
      "Fold 5 finished in 0:33:44.899080\n",
      "------------------------------\n",
      "Training has finished.\n",
      "Total training time is 1:56:35.871601\n",
      "Mean AUC: 0.9466085119852666\n",
      "Total Validation:  0.9476038113314744\n",
      "------------------------------\n"
     ]
    }
   ],
   "source": [
    "from time import time\n",
    "from sklearn.model_selection import KFold, StratifiedKFold, TimeSeriesSplit, GroupKFold\n",
    "\n",
    "NFOLD = 5\n",
    "folds =  GroupKFold(n_splits=NFOLD)\n",
    "split_groups = train_df['DT_M']\n",
    "\n",
    "aucs = list()\n",
    "feature_importances = pd.DataFrame()\n",
    "feature_importances['feature'] = X.columns\n",
    "oofs = np.zeros(len(train_df))\n",
    "preds = np.zeros(len(test_df))\n",
    "\n",
    "training_start_time = time()\n",
    "for fold, (trn_idx, test_idx) in enumerate(folds.split(X, y, groups = split_groups)):\n",
    "    start_time = time()\n",
    "    print('Training on fold {}'.format(fold + 1))\n",
    "    \n",
    "    trn_data = lgb.Dataset(X.iloc[trn_idx], label=y.iloc[trn_idx])\n",
    "    val_data = lgb.Dataset(X.iloc[test_idx], label=y.iloc[test_idx])\n",
    "    callbacks = [lgb.early_stopping(stopping_rounds=100),lgb.log_evaluation(period=100)]\n",
    "    clf = lgb.train(params, trn_data,num_boost_round = 10000,valid_sets = [trn_data, val_data],callbacks=callbacks)\n",
    "    oofs[test_idx] = clf.predict(X.iloc[test_idx])\n",
    "    preds += clf.predict(test)/NFOLD\n",
    "    \n",
    "    feature_importances['fold_{}'.format(fold + 1)] = clf.feature_importance()\n",
    "    aucs.append(clf.best_score['valid_1']['auc'])\n",
    "    \n",
    "    print('Fold {} finished in {}'.format(fold + 1, str(datetime.timedelta(seconds=time() - start_time))))\n",
    "print('-' * 30)\n",
    "print('Training has finished.')\n",
    "print('Total training time is {}'.format(str(datetime.timedelta(seconds=time() - training_start_time))))\n",
    "print('Mean AUC:', np.mean(aucs))\n",
    "print(\"Total Validation: \", roc_auc_score(y, oofs))\n",
    "print('-' * 30)"
   ]
  },
  {
   "cell_type": "code",
   "execution_count": null,
   "metadata": {},
   "outputs": [],
   "source": []
  }
 ],
 "metadata": {
  "kernelspec": {
   "display_name": ".venv",
   "language": "python",
   "name": "python3"
  },
  "language_info": {
   "codemirror_mode": {
    "name": "ipython",
    "version": 3
   },
   "file_extension": ".py",
   "mimetype": "text/x-python",
   "name": "python",
   "nbconvert_exporter": "python",
   "pygments_lexer": "ipython3",
   "version": "3.12.3"
  }
 },
 "nbformat": 4,
 "nbformat_minor": 2
}
