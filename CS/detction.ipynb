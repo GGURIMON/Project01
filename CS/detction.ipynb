{
 "cells": [
  {
   "cell_type": "code",
   "execution_count": 6,
   "metadata": {},
   "outputs": [],
   "source": [
    "import pandas as pd\n",
    "import numpy as np  \n",
    "import matplotlib.pyplot as plt\n",
    "import streamlit as st\n",
    "import seaborn as sns"
   ]
  },
  {
   "cell_type": "code",
   "execution_count": 7,
   "metadata": {},
   "outputs": [],
   "source": [
    "\n",
    "df_train_identity = pd.read_csv('train_identity.csv')\n",
    "df_train_transaction = pd.read_csv('train_transaction.csv')"
   ]
  },
  {
   "cell_type": "code",
   "execution_count": 8,
   "metadata": {},
   "outputs": [],
   "source": [
    "train_merged=pd.merge(df_train_transaction, df_train_identity, on='TransactionID', how='left')"
   ]
  },
  {
   "cell_type": "code",
   "execution_count": 9,
   "metadata": {},
   "outputs": [
    {
     "data": {
      "text/html": [
       "<div>\n",
       "<style scoped>\n",
       "    .dataframe tbody tr th:only-of-type {\n",
       "        vertical-align: middle;\n",
       "    }\n",
       "\n",
       "    .dataframe tbody tr th {\n",
       "        vertical-align: top;\n",
       "    }\n",
       "\n",
       "    .dataframe thead th {\n",
       "        text-align: right;\n",
       "    }\n",
       "</style>\n",
       "<table border=\"1\" class=\"dataframe\">\n",
       "  <thead>\n",
       "    <tr style=\"text-align: right;\">\n",
       "      <th></th>\n",
       "      <th>DeviceType</th>\n",
       "      <th>DeviceInfo</th>\n",
       "      <th>isFraud</th>\n",
       "    </tr>\n",
       "  </thead>\n",
       "  <tbody>\n",
       "    <tr>\n",
       "      <th>0</th>\n",
       "      <td>NaN</td>\n",
       "      <td>NaN</td>\n",
       "      <td>0</td>\n",
       "    </tr>\n",
       "    <tr>\n",
       "      <th>1</th>\n",
       "      <td>NaN</td>\n",
       "      <td>NaN</td>\n",
       "      <td>0</td>\n",
       "    </tr>\n",
       "    <tr>\n",
       "      <th>2</th>\n",
       "      <td>NaN</td>\n",
       "      <td>NaN</td>\n",
       "      <td>0</td>\n",
       "    </tr>\n",
       "    <tr>\n",
       "      <th>3</th>\n",
       "      <td>NaN</td>\n",
       "      <td>NaN</td>\n",
       "      <td>0</td>\n",
       "    </tr>\n",
       "    <tr>\n",
       "      <th>4</th>\n",
       "      <td>mobile</td>\n",
       "      <td>SAMSUNG SM-G892A Build/NRD90M</td>\n",
       "      <td>0</td>\n",
       "    </tr>\n",
       "    <tr>\n",
       "      <th>...</th>\n",
       "      <td>...</td>\n",
       "      <td>...</td>\n",
       "      <td>...</td>\n",
       "    </tr>\n",
       "    <tr>\n",
       "      <th>590535</th>\n",
       "      <td>NaN</td>\n",
       "      <td>NaN</td>\n",
       "      <td>0</td>\n",
       "    </tr>\n",
       "    <tr>\n",
       "      <th>590536</th>\n",
       "      <td>NaN</td>\n",
       "      <td>NaN</td>\n",
       "      <td>0</td>\n",
       "    </tr>\n",
       "    <tr>\n",
       "      <th>590537</th>\n",
       "      <td>NaN</td>\n",
       "      <td>NaN</td>\n",
       "      <td>0</td>\n",
       "    </tr>\n",
       "    <tr>\n",
       "      <th>590538</th>\n",
       "      <td>NaN</td>\n",
       "      <td>NaN</td>\n",
       "      <td>0</td>\n",
       "    </tr>\n",
       "    <tr>\n",
       "      <th>590539</th>\n",
       "      <td>NaN</td>\n",
       "      <td>NaN</td>\n",
       "      <td>0</td>\n",
       "    </tr>\n",
       "  </tbody>\n",
       "</table>\n",
       "<p>590540 rows × 3 columns</p>\n",
       "</div>"
      ],
      "text/plain": [
       "       DeviceType                     DeviceInfo  isFraud\n",
       "0             NaN                            NaN        0\n",
       "1             NaN                            NaN        0\n",
       "2             NaN                            NaN        0\n",
       "3             NaN                            NaN        0\n",
       "4          mobile  SAMSUNG SM-G892A Build/NRD90M        0\n",
       "...           ...                            ...      ...\n",
       "590535        NaN                            NaN        0\n",
       "590536        NaN                            NaN        0\n",
       "590537        NaN                            NaN        0\n",
       "590538        NaN                            NaN        0\n",
       "590539        NaN                            NaN        0\n",
       "\n",
       "[590540 rows x 3 columns]"
      ]
     },
     "execution_count": 9,
     "metadata": {},
     "output_type": "execute_result"
    }
   ],
   "source": [
    "merged_Device = train_merged[['DeviceType', 'DeviceInfo', 'isFraud']]\n",
    "merged_Device\n"
   ]
  },
  {
   "cell_type": "code",
   "execution_count": 10,
   "metadata": {},
   "outputs": [
    {
     "name": "stderr",
     "output_type": "stream",
     "text": [
      "C:\\Users\\USER\\AppData\\Local\\Temp\\ipykernel_700\\277935495.py:4: SettingWithCopyWarning: \n",
      "A value is trying to be set on a copy of a slice from a DataFrame.\n",
      "Try using .loc[row_indexer,col_indexer] = value instead\n",
      "\n",
      "See the caveats in the documentation: https://pandas.pydata.org/pandas-docs/stable/user_guide/indexing.html#returning-a-view-versus-a-copy\n",
      "  df[column] = df[column].replace(others, 'others')\n"
     ]
    },
    {
     "data": {
      "text/html": [
       "<div>\n",
       "<style scoped>\n",
       "    .dataframe tbody tr th:only-of-type {\n",
       "        vertical-align: middle;\n",
       "    }\n",
       "\n",
       "    .dataframe tbody tr th {\n",
       "        vertical-align: top;\n",
       "    }\n",
       "\n",
       "    .dataframe thead th {\n",
       "        text-align: right;\n",
       "    }\n",
       "</style>\n",
       "<table border=\"1\" class=\"dataframe\">\n",
       "  <thead>\n",
       "    <tr style=\"text-align: right;\">\n",
       "      <th></th>\n",
       "      <th>DeviceType</th>\n",
       "      <th>DeviceInfo</th>\n",
       "      <th>isFraud</th>\n",
       "    </tr>\n",
       "  </thead>\n",
       "  <tbody>\n",
       "    <tr>\n",
       "      <th>0</th>\n",
       "      <td>NaN</td>\n",
       "      <td>NaN</td>\n",
       "      <td>0</td>\n",
       "    </tr>\n",
       "    <tr>\n",
       "      <th>1</th>\n",
       "      <td>NaN</td>\n",
       "      <td>NaN</td>\n",
       "      <td>0</td>\n",
       "    </tr>\n",
       "    <tr>\n",
       "      <th>2</th>\n",
       "      <td>NaN</td>\n",
       "      <td>NaN</td>\n",
       "      <td>0</td>\n",
       "    </tr>\n",
       "    <tr>\n",
       "      <th>3</th>\n",
       "      <td>NaN</td>\n",
       "      <td>NaN</td>\n",
       "      <td>0</td>\n",
       "    </tr>\n",
       "    <tr>\n",
       "      <th>4</th>\n",
       "      <td>mobile</td>\n",
       "      <td>others</td>\n",
       "      <td>0</td>\n",
       "    </tr>\n",
       "    <tr>\n",
       "      <th>...</th>\n",
       "      <td>...</td>\n",
       "      <td>...</td>\n",
       "      <td>...</td>\n",
       "    </tr>\n",
       "    <tr>\n",
       "      <th>590535</th>\n",
       "      <td>NaN</td>\n",
       "      <td>NaN</td>\n",
       "      <td>0</td>\n",
       "    </tr>\n",
       "    <tr>\n",
       "      <th>590536</th>\n",
       "      <td>NaN</td>\n",
       "      <td>NaN</td>\n",
       "      <td>0</td>\n",
       "    </tr>\n",
       "    <tr>\n",
       "      <th>590537</th>\n",
       "      <td>NaN</td>\n",
       "      <td>NaN</td>\n",
       "      <td>0</td>\n",
       "    </tr>\n",
       "    <tr>\n",
       "      <th>590538</th>\n",
       "      <td>NaN</td>\n",
       "      <td>NaN</td>\n",
       "      <td>0</td>\n",
       "    </tr>\n",
       "    <tr>\n",
       "      <th>590539</th>\n",
       "      <td>NaN</td>\n",
       "      <td>NaN</td>\n",
       "      <td>0</td>\n",
       "    </tr>\n",
       "  </tbody>\n",
       "</table>\n",
       "<p>590540 rows × 3 columns</p>\n",
       "</div>"
      ],
      "text/plain": [
       "       DeviceType DeviceInfo  isFraud\n",
       "0             NaN        NaN        0\n",
       "1             NaN        NaN        0\n",
       "2             NaN        NaN        0\n",
       "3             NaN        NaN        0\n",
       "4          mobile     others        0\n",
       "...           ...        ...      ...\n",
       "590535        NaN        NaN        0\n",
       "590536        NaN        NaN        0\n",
       "590537        NaN        NaN        0\n",
       "590538        NaN        NaN        0\n",
       "590539        NaN        NaN        0\n",
       "\n",
       "[590540 rows x 3 columns]"
      ]
     },
     "execution_count": 10,
     "metadata": {},
     "output_type": "execute_result"
    }
   ],
   "source": [
    "def move_to_others(df, column, threshold):\n",
    "    value_counts = df[column].value_counts()\n",
    "    others = value_counts[value_counts < threshold].index\n",
    "    df[column] = df[column].replace(others, 'others')\n",
    "    return df\n",
    "move_to_others(merged_Device, 'DeviceInfo', 400)"
   ]
  },
  {
   "cell_type": "code",
   "execution_count": 11,
   "metadata": {},
   "outputs": [
    {
     "data": {
      "image/png": "[encoded data removed]",
      "text/plain": [
       "<Figure size 1000x600 with 1 Axes>"
      ]
     },
     "metadata": {},
     "output_type": "display_data"
    }
   ],
   "source": [
    "plt.figure(figsize=(10, 6))\n",
    "ax = sns.countplot(data=merged_Device, x='isFraud', hue='DeviceInfo')\n",
    "plt.title('Distribution of DeviceType by isFraud')\n",
    "plt.xlabel('isFraud')\n",
    "plt.ylabel('Count')\n",
    "\n",
    "# Calculate the total count for each value of isFraud\n",
    "total_0 = len(merged_Device[merged_Device['isFraud'] == 0])\n",
    "total_1 = len(merged_Device[merged_Device['isFraud'] == 1])\n",
    "\n",
    "# Add percentages on top of the bars for isFraud = 0\n",
    "for p in ax.patches:\n",
    "    if p.get_height() > 0:\n",
    "        if p.get_x() == 0:\n",
    "            height = p.get_height()\n",
    "            ax.text(p.get_x() + p.get_width() / 2, height + 5, f'{height/total_0*100:.2f}%', ha='center')\n",
    "\n",
    "# Add percentages on top of the bars for isFraud = 1\n",
    "for p in ax.patches:\n",
    "    if p.get_height() > 0:\n",
    "        if p.get_x() == 1:\n",
    "            height = p.get_height()\n",
    "            ax.text(p.get_x() + p.get_width() / 2, height + 5, f'{height/total_1*100:.2f}%', ha='center')\n",
    "\n",
    "plt.show()"
   ]
  },
  {
   "cell_type": "code",
   "execution_count": 19,
   "metadata": {},
   "outputs": [
    {
     "name": "stdout",
     "output_type": "stream",
     "text": [
      "DeviceInfo\n",
      "MacOS                     2.21%\n",
      "SM-G531H Build/LMY48B     8.05%\n",
      "SM-G610M Build/MMB29K     8.03%\n",
      "SM-J700M Build/MMB29K    10.93%\n",
      "Trident/7.0               1.29%\n",
      "Windows                   6.54%\n",
      "iOS Device                6.27%\n",
      "others                   13.26%\n",
      "rv:11.0                   4.00%\n",
      "rv:57.0                  10.71%\n",
      "Name: count, dtype: object\n"
     ]
    }
   ],
   "source": [
    "# Calculate the count of DeviceInfo values where isFraud is 0\n",
    "count_0 = merged_Device[merged_Device['isFraud'] == 0]['DeviceInfo'].value_counts()\n",
    "\n",
    "# Calculate the count of DeviceInfo values where isFraud is 1\n",
    "count_1 = merged_Device[merged_Device['isFraud'] == 1]['DeviceInfo'].value_counts()\n",
    "\n",
    "# Calculate the percentage of isFraud = 1 for each DeviceInfo value\n",
    "percentage = (count_1 / (count_0 + count_1)) * 100\n",
    "\n",
    "# Print the result with '%' symbol\n",
    "print(percentage.apply(lambda x: f\"{x:.2f}%\"))"
   ]
  },
  {
   "cell_type": "code",
   "execution_count": 20,
   "metadata": {},
   "outputs": [
    {
     "data": {
      "text/plain": [
       "0          117.000000\n",
       "1            0.000000\n",
       "2            0.000000\n",
       "3         1758.000000\n",
       "4            0.000000\n",
       "             ...     \n",
       "590535      47.950001\n",
       "590536       0.000000\n",
       "590537       0.000000\n",
       "590538    2903.500000\n",
       "590539     279.950012\n",
       "Name: V307, Length: 590540, dtype: float64"
      ]
     },
     "execution_count": 20,
     "metadata": {},
     "output_type": "execute_result"
    }
   ],
   "source": [
    "train_merged['V307']"
   ]
  },
  {
   "cell_type": "code",
   "execution_count": null,
   "metadata": {},
   "outputs": [],
   "source": []
  }
 ],
 "metadata": {
  "kernelspec": {
   "display_name": ".venv",
   "language": "python",
   "name": "python3"
  },
  "language_info": {
   "codemirror_mode": {
    "name": "ipython",
    "version": 3
   },
   "file_extension": ".py",
   "mimetype": "text/x-python",
   "name": "python",
   "nbconvert_exporter": "python",
   "pygments_lexer": "ipython3",
   "version": "3.12.3"
  }
 },
 "nbformat": 4,
 "nbformat_minor": 2
}
