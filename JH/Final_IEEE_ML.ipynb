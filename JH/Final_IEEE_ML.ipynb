{
 "cells": [
  {
   "cell_type": "code",
   "execution_count": 39,
   "metadata": {},
   "outputs": [
    {
     "name": "stdout",
     "output_type": "stream",
     "text": [
      "Requirement already satisfied: numpy in c:\\users\\user\\desktop\\광인사\\2_project\\.venv\\lib\\site-packages (2.0.1)Note: you may need to restart the kernel to use updated packages.\n",
      "\n",
      "Requirement already satisfied: pandas in c:\\users\\user\\desktop\\광인사\\2_project\\.venv\\lib\\site-packages (2.2.2)\n",
      "Requirement already satisfied: tqdm in c:\\users\\user\\desktop\\광인사\\2_project\\.venv\\lib\\site-packages (4.66.4)\n",
      "Requirement already satisfied: lightgbm in c:\\users\\user\\desktop\\광인사\\2_project\\.venv\\lib\\site-packages (4.5.0)\n",
      "Requirement already satisfied: seaborn in c:\\users\\user\\desktop\\광인사\\2_project\\.venv\\lib\\site-packages (0.13.2)\n",
      "Requirement already satisfied: matplotlib in c:\\users\\user\\desktop\\광인사\\2_project\\.venv\\lib\\site-packages (3.9.1)\n",
      "Requirement already satisfied: plotnine in c:\\users\\user\\desktop\\광인사\\2_project\\.venv\\lib\\site-packages (0.13.6)\n",
      "Requirement already satisfied: scikit-learn in c:\\users\\user\\desktop\\광인사\\2_project\\.venv\\lib\\site-packages (1.5.1)\n",
      "Requirement already satisfied: python-dateutil>=2.8.2 in c:\\users\\user\\desktop\\광인사\\2_project\\.venv\\lib\\site-packages (from pandas) (2.9.0.post0)\n",
      "Requirement already satisfied: pytz>=2020.1 in c:\\users\\user\\desktop\\광인사\\2_project\\.venv\\lib\\site-packages (from pandas) (2024.1)\n",
      "Requirement already satisfied: tzdata>=2022.7 in c:\\users\\user\\desktop\\광인사\\2_project\\.venv\\lib\\site-packages (from pandas) (2024.1)\n",
      "Requirement already satisfied: colorama in c:\\users\\user\\desktop\\광인사\\2_project\\.venv\\lib\\site-packages (from tqdm) (0.4.6)\n",
      "Requirement already satisfied: scipy in c:\\users\\user\\desktop\\광인사\\2_project\\.venv\\lib\\site-packages (from lightgbm) (1.14.0)\n",
      "Requirement already satisfied: contourpy>=1.0.1 in c:\\users\\user\\desktop\\광인사\\2_project\\.venv\\lib\\site-packages (from matplotlib) (1.2.1)\n",
      "Requirement already satisfied: cycler>=0.10 in c:\\users\\user\\desktop\\광인사\\2_project\\.venv\\lib\\site-packages (from matplotlib) (0.12.1)\n",
      "Requirement already satisfied: fonttools>=4.22.0 in c:\\users\\user\\desktop\\광인사\\2_project\\.venv\\lib\\site-packages (from matplotlib) (4.53.1)\n",
      "Requirement already satisfied: kiwisolver>=1.3.1 in c:\\users\\user\\desktop\\광인사\\2_project\\.venv\\lib\\site-packages (from matplotlib) (1.4.5)\n",
      "Requirement already satisfied: packaging>=20.0 in c:\\users\\user\\desktop\\광인사\\2_project\\.venv\\lib\\site-packages (from matplotlib) (24.1)\n",
      "Requirement already satisfied: pillow>=8 in c:\\users\\user\\desktop\\광인사\\2_project\\.venv\\lib\\site-packages (from matplotlib) (10.4.0)\n",
      "Requirement already satisfied: pyparsing>=2.3.1 in c:\\users\\user\\desktop\\광인사\\2_project\\.venv\\lib\\site-packages (from matplotlib) (3.1.2)\n",
      "Requirement already satisfied: mizani~=0.11.0 in c:\\users\\user\\desktop\\광인사\\2_project\\.venv\\lib\\site-packages (from plotnine) (0.11.4)\n",
      "Requirement already satisfied: statsmodels>=0.14.0 in c:\\users\\user\\desktop\\광인사\\2_project\\.venv\\lib\\site-packages (from plotnine) (0.14.2)\n",
      "Requirement already satisfied: joblib>=1.2.0 in c:\\users\\user\\desktop\\광인사\\2_project\\.venv\\lib\\site-packages (from scikit-learn) (1.4.2)\n",
      "Requirement already satisfied: threadpoolctl>=3.1.0 in c:\\users\\user\\desktop\\광인사\\2_project\\.venv\\lib\\site-packages (from scikit-learn) (3.5.0)\n",
      "Requirement already satisfied: six>=1.5 in c:\\users\\user\\desktop\\광인사\\2_project\\.venv\\lib\\site-packages (from python-dateutil>=2.8.2->pandas) (1.16.0)\n",
      "Requirement already satisfied: patsy>=0.5.6 in c:\\users\\user\\desktop\\광인사\\2_project\\.venv\\lib\\site-packages (from statsmodels>=0.14.0->plotnine) (0.5.6)\n"
     ]
    }
   ],
   "source": [
    "%pip install numpy pandas tqdm lightgbm seaborn matplotlib plotnine scikit-learn"
   ]
  },
  {
   "cell_type": "code",
   "execution_count": 40,
   "metadata": {},
   "outputs": [],
   "source": [
    "import pandas as pd\n",
    "import numpy as np\n",
    "import matplotlib.pyplot as plt\n",
    "from sklearn.preprocessing import StandardScaler, LabelEncoder\n",
    "from sklearn.model_selection import train_test_split\n",
    "import datetime\n",
    "import hashlib\n",
    "import os\n",
    "import gc\n",
    "pd.options.display.max_rows = 500\n",
    "pd.options.display.max_columns = 200"
   ]
  },
  {
   "cell_type": "code",
   "execution_count": 41,
   "metadata": {},
   "outputs": [
    {
     "data": {
      "text/plain": [
       "2315"
      ]
     },
     "execution_count": 41,
     "metadata": {},
     "output_type": "execute_result"
    }
   ],
   "source": [
    "train_transaction = pd.read_csv('train_transaction.csv', index_col='TransactionID')\n",
    "train_identity = pd.read_csv('train_identity.csv', index_col='TransactionID')\n",
    "train = train_transaction.merge(train_identity, how='left', left_index=True, right_index=True)\n",
    "del train_transaction, train_identity\n",
    "gc.collect()"
   ]
  },
  {
   "cell_type": "code",
   "execution_count": 42,
   "metadata": {},
   "outputs": [
    {
     "data": {
      "text/plain": [
       "0"
      ]
     },
     "execution_count": 42,
     "metadata": {},
     "output_type": "execute_result"
    }
   ],
   "source": [
    "test_transaction = pd.read_csv('test_transaction.csv', index_col='TransactionID')\n",
    "test_identity = pd.read_csv('test_identity.csv', index_col='TransactionID')\n",
    "test = test_transaction.merge(test_identity, how='left', left_index=True, right_index=True)\n",
    "del test_transaction, test_identity\n",
    "gc.collect()"
   ]
  },
  {
   "cell_type": "code",
   "execution_count": 43,
   "metadata": {},
   "outputs": [],
   "source": [
    "test.columns = test.columns.str.replace('-', '_')"
   ]
  },
  {
   "cell_type": "code",
   "execution_count": 44,
   "metadata": {},
   "outputs": [],
   "source": [
    "selected_features = ['TransactionDT',\n",
    " 'TransactionAmt','card1','card2','card3','card5',\n",
    " 'addr1','addr2',\n",
    " 'C1','C2','C3','C4','C5','C6','C7','C8','C9','C10','C11','C12','C13','C14',\n",
    " 'D1','D2','D3','D4','D5','D6','D7','D8', 'D9', 'D10','D11','D12','D13','D14','D15','V307',\n",
    " 'ProductCD',\n",
    " 'card4',\n",
    " 'card6',\n",
    " 'P_emaildomain',\n",
    " 'R_emaildomain', \n",
    " 'dist1','id_30','id_31', 'id_32', 'id_33', 'id_34',\n",
    " 'DeviceType','DeviceInfo',\n",
    "  'V314', 'V310', 'V127', 'V78', 'V62', 'M1', 'M2', 'M3', 'M4', 'M5', 'M6', 'M7', 'M8']\n"
   ]
  },
  {
   "cell_type": "code",
   "execution_count": 45,
   "metadata": {},
   "outputs": [],
   "source": [
    "train = train[selected_features + ['isFraud']]\n",
    "test = test[selected_features ]"
   ]
  },
  {
   "cell_type": "code",
   "execution_count": 46,
   "metadata": {},
   "outputs": [],
   "source": [
    "train = train.fillna(-999)\n",
    "test = test.fillna(-999)"
   ]
  },
  {
   "cell_type": "code",
   "execution_count": 47,
   "metadata": {},
   "outputs": [],
   "source": [
    "train['uid'] = train['card1'].astype(str)+'_'+train['card2'].astype(str)+'_'+train['card3'].astype(str)+'_'+train['card4'].astype(str)\n",
    "test['uid'] = test['card1'].astype(str)+'_'+test['card2'].astype(str)+'_'+test['card3'].astype(str)+'_'+test['card4'].astype(str)\n",
    "\n",
    "train['uid2'] = train['uid'].astype(str)+'_'+train['addr1'].astype(str)+'_'+train['addr2'].astype(str)\n",
    "test['uid2'] = test['uid'].astype(str)+'_'+test['addr1'].astype(str)+'_'+test['addr2'].astype(str)\n",
    "\n",
    "i_cols = ['card1','card2','card3','card5','uid','uid2']\n",
    "\n",
    "for col in i_cols:\n",
    "    for agg_type in ['mean', 'std', 'nunique']:\n",
    "        new_col_name = col+'_TransactionAmt_'+agg_type\n",
    "        temp = pd.concat([train[[col, 'TransactionAmt']], test[[col,'TransactionAmt']]])\n",
    "\n",
    "        temp = temp.groupby([col])['TransactionAmt'].agg([agg_type]).reset_index().rename(\n",
    "                                                columns={agg_type: new_col_name})\n",
    "\n",
    "        temp.index = list(temp[col])\n",
    "\n",
    "        temp = temp[new_col_name].to_dict()   \n",
    "\n",
    "        train[new_col_name] = train[col].map(temp)\n",
    "        test[new_col_name]  = test[col].map(temp)"
   ]
  },
  {
   "cell_type": "code",
   "execution_count": 48,
   "metadata": {},
   "outputs": [
    {
     "name": "stdout",
     "output_type": "stream",
     "text": [
      "1. bank_type 및 address_match 생성\n",
      "                 bank_type     address_match\n",
      "TransactionID                               \n",
      "2987000        150.0_142.0  150.0_142.0_87.0\n",
      "2987001        150.0_102.0  150.0_102.0_87.0\n",
      "2987002        150.0_166.0  150.0_166.0_87.0\n",
      "2987003        150.0_117.0  150.0_117.0_87.0\n",
      "2987004        150.0_102.0  150.0_102.0_87.0\n",
      "                 bank_type     address_match\n",
      "TransactionID                               \n",
      "3663549        150.0_226.0  150.0_226.0_87.0\n",
      "3663550        150.0_226.0  150.0_226.0_87.0\n",
      "3663551        150.0_226.0  150.0_226.0_87.0\n",
      "3663552        150.0_166.0  150.0_166.0_87.0\n",
      "3663553        150.0_117.0  150.0_117.0_87.0\n"
     ]
    }
   ],
   "source": [
    "train['bank_type'] = train['card3'].astype(str)+'_'+train['card5'].astype(str)\n",
    "test['bank_type']  = test['card3'].astype(str)+'_'+test['card5'].astype(str)\n",
    "\n",
    "train['address_match'] = train['bank_type'].astype(str)+'_'+train['addr2'].astype(str)\n",
    "test['address_match']  = test['bank_type'].astype(str)+'_'+test['addr2'].astype(str)\n",
    "print(\"1. bank_type 및 address_match 생성\")\n",
    "print(train[['bank_type', 'address_match']].head())\n",
    "print(test[['bank_type', 'address_match']].head())"
   ]
  },
  {
   "cell_type": "code",
   "execution_count": 49,
   "metadata": {},
   "outputs": [
    {
     "name": "stdout",
     "output_type": "stream",
     "text": [
      "\n",
      "2. 빈도 인코딩 후\n",
      "               bank_type  address_match\n",
      "TransactionID                          \n",
      "2987000              309            309\n",
      "2987001            44082          43735\n",
      "2987002           101292         101179\n",
      "2987003            47059          46950\n",
      "2987004            44082          43735\n",
      "               bank_type  address_match\n",
      "TransactionID                          \n",
      "3663549           531549         526981\n",
      "3663550           531549         526981\n",
      "3663551           531549         526981\n",
      "3663552           101292         101179\n",
      "3663553            47059          46950\n"
     ]
    }
   ],
   "source": [
    "for col in ['address_match','bank_type']:\n",
    "    temp = pd.concat([train[[col]], test[[col]]])\n",
    "    temp[col] = np.where(temp[col].str.contains('nan'), np.nan, temp[col])\n",
    "    temp = temp.dropna()\n",
    "    fq_encode = temp[col].value_counts().to_dict()   \n",
    "    train[col] = train[col].map(fq_encode)\n",
    "    test[col]  = test[col].map(fq_encode)\n",
    "print(\"\\n2. 빈도 인코딩 후\")\n",
    "print(train[['bank_type', 'address_match']].head())\n",
    "print(test[['bank_type', 'address_match']].head())"
   ]
  },
  {
   "cell_type": "code",
   "execution_count": 50,
   "metadata": {},
   "outputs": [
    {
     "name": "stdout",
     "output_type": "stream",
     "text": [
      "\n",
      "3. 상대적 비율 계산 후\n",
      "               bank_type  address_match\n",
      "TransactionID                          \n",
      "2987000              309       1.000000\n",
      "2987001            44082       0.992128\n",
      "2987002           101292       0.998884\n",
      "2987003            47059       0.997684\n",
      "2987004            44082       0.992128\n",
      "               bank_type  address_match\n",
      "TransactionID                          \n",
      "3663549           531549       0.991406\n",
      "3663550           531549       0.991406\n",
      "3663551           531549       0.991406\n",
      "3663552           101292       0.998884\n",
      "3663553            47059       0.997684\n"
     ]
    }
   ],
   "source": [
    "train['address_match'] = train['address_match']/train['bank_type'] \n",
    "test['address_match']  = test['address_match']/test['bank_type']\n",
    "print(\"\\n3. 상대적 비율 계산 후\")\n",
    "print(train[['bank_type', 'address_match']].head())\n",
    "print(test[['bank_type', 'address_match']].head())"
   ]
  },
  {
   "cell_type": "code",
   "execution_count": 51,
   "metadata": {},
   "outputs": [
    {
     "name": "stdout",
     "output_type": "stream",
     "text": [
      "TransactionID\n",
      "2987000   2017-12-01 00:00:00\n",
      "2987001   2017-12-01 00:00:01\n",
      "2987002   2017-12-01 00:01:09\n",
      "2987003   2017-12-01 00:01:39\n",
      "2987004   2017-12-01 00:01:46\n",
      "Name: timeblock, dtype: datetime64[ns]\n",
      "TransactionID\n",
      "3663549   2018-07-01 00:00:24\n",
      "3663550   2018-07-01 00:01:03\n",
      "3663551   2018-07-01 00:01:50\n",
      "3663552   2018-07-01 00:01:50\n",
      "3663553   2018-07-01 00:01:57\n",
      "Name: timeblock, dtype: datetime64[ns]\n"
     ]
    }
   ],
   "source": [
    "start_date = datetime.datetime.strptime('2017.11.30', '%Y.%m.%d')\n",
    "train['timeblock'] = train['TransactionDT'].apply(lambda x: datetime.timedelta(seconds=x) + start_date)\n",
    "test['timeblock'] = test['TransactionDT'].apply(lambda x: datetime.timedelta(seconds=x) + start_date)\n",
    "\n",
    "tb = train['timeblock']\n",
    "print(train.timeblock.head())\n",
    "train.drop('timeblock', axis=1, inplace=True)\n",
    "train.insert(0, 'timeblock', tb)\n",
    "\n",
    "tb = test['timeblock']\n",
    "print(test.timeblock.head())\n",
    "test.drop('timeblock', axis=1, inplace=True)\n",
    "test.insert(0, 'timeblock', tb)"
   ]
  },
  {
   "cell_type": "code",
   "execution_count": 52,
   "metadata": {},
   "outputs": [],
   "source": [
    "def account_start_date(val):\n",
    "    if np.isnan(val):\n",
    "        return np.NaN\n",
    "    else:\n",
    "        days = int(str(val).split('.')[0])\n",
    "        return pd.Timedelta(str(days) + ' days')"
   ]
  },
  {
   "cell_type": "code",
   "execution_count": 53,
   "metadata": {},
   "outputs": [],
   "source": [
    "for i in ['D1', 'D2', 'D4', 'D8', 'D10', 'D15']:\n",
    "    train['account_start_day'] = train[i].apply(account_start_date)\n",
    "    test['account_start_day'] = test[i].apply(account_start_date)\n",
    "\n",
    "    # account_make_date 컴퓨터가 인식할 수 있도록 수치형으로 바꿔 줌. \n",
    "    train['account_make_date'] = (train['timeblock'] - train['account_start_day']).dt.date\n",
    "    test['account_make_date'] = (test['timeblock'] - test['account_start_day']).dt.date\n",
    "\n",
    "    train['account_make_date_{}'.format(i)] = (10000 * pd.to_datetime(train['account_make_date']).dt.year) + (100 * pd.to_datetime(train['account_make_date']).dt.month) + (1 * pd.to_datetime(train['account_make_date']).dt.day)\n",
    "    test['account_make_date_{}'.format(i)] = (10000 * pd.to_datetime(test['account_make_date']).dt.year) + (100 * pd.to_datetime(test['account_make_date']).dt.month) + (1 * pd.to_datetime(test['account_make_date']).dt.day)"
   ]
  },
  {
   "cell_type": "code",
   "execution_count": 54,
   "metadata": {},
   "outputs": [],
   "source": [
    "del train['account_make_date']; del test['account_make_date']\n",
    "del train['account_start_day']; del test['account_start_day']"
   ]
  },
  {
   "cell_type": "code",
   "execution_count": 55,
   "metadata": {},
   "outputs": [],
   "source": [
    "train['date'] = pd.to_datetime(train['timeblock']).dt.date\n",
    "test['date'] = pd.to_datetime(test['timeblock']).dt.date\n",
    "\n",
    "train['year'] = train['timeblock'].dt.year\n",
    "train['month'] = train['timeblock'].dt.month\n",
    "train['day'] = train['timeblock'].dt.day\n",
    "train['dayofweek'] = train['timeblock'].dt.dayofweek\n",
    "train['hour'] = train['timeblock'].dt.hour\n",
    "# train['minute'] = train['timeblock'].dt.minute\n",
    "# train['second'] = train['timeblock'].dt.second\n",
    "\n",
    "test['year'] = test['timeblock'].dt.year\n",
    "test['month'] = test['timeblock'].dt.month\n",
    "test['day'] = test['timeblock'].dt.day\n",
    "test['dayofweek'] = test['timeblock'].dt.dayofweek\n",
    "test['hour'] = test['timeblock'].dt.hour\n",
    "# test['minute'] = test['timeblock'].dt.minute\n",
    "# test['second'] = test['timeblock'].dt.second"
   ]
  },
  {
   "cell_type": "code",
   "execution_count": 56,
   "metadata": {},
   "outputs": [],
   "source": [
    "# 이전 거래와의 시간 차이 계산\n",
    "train['prev_transaction_diff'] = train.groupby('uid')['TransactionDT'].diff().fillna(-1)\n",
    "test['prev_transaction_diff'] = test.groupby('uid')['TransactionDT'].diff().fillna(-1)"
   ]
  },
  {
   "cell_type": "code",
   "execution_count": 57,
   "metadata": {},
   "outputs": [],
   "source": [
    "def card_info_hash(x):\n",
    "    s = (str(int(x['card1']))+\n",
    "         str(int(x['card2']))+\n",
    "         str(int(x['card3']))+\n",
    "         str(x['card4'])+\n",
    "         str(int(x['card5']))+\n",
    "         str(x['card6']))\n",
    "    h = hashlib.sha256(s.encode('utf-8')).hexdigest()[0:15]\n",
    "    return h\n",
    "\n",
    "def device_hash(x):\n",
    "    s =  str(x['id_30'])+str(x['id_31'])+str(x['id_32'])+str(x['id_33'])+str( x['DeviceType'])+ str(x['DeviceInfo'])\n",
    "    h = hashlib.sha256(s.encode('utf-8')).hexdigest()[0:15]\n",
    "    return h\n",
    "\n",
    "train['card_hash'] = train.apply(lambda x: card_info_hash(x), axis=1   )\n",
    "train['device_hash'] = train.apply(lambda x: device_hash(x), axis=1   )\n",
    "\n",
    "test['card_hash'] = test.apply(lambda x: card_info_hash(x), axis=1   )\n",
    "test['device_hash'] = test.apply(lambda x: device_hash(x), axis=1   )"
   ]
  },
  {
   "cell_type": "code",
   "execution_count": 58,
   "metadata": {},
   "outputs": [],
   "source": [
    "train['V307_diff'] = train['V307'].diff().shift(-1)\n",
    "train['difference'] = train['V307_diff'] - train['TransactionAmt']\n",
    "\n",
    "test['V307_diff'] = test['V307'].diff().shift(-1)\n",
    "test['difference'] = test['V307_diff'] - test['TransactionAmt']"
   ]
  },
  {
   "cell_type": "code",
   "execution_count": 59,
   "metadata": {},
   "outputs": [],
   "source": [
    "# # 차이 값을 구간으로 나누기 (예: 10개 구간)\n",
    "# train['difference_bins'] = pd.cut(train['difference'], bins=10)\n",
    "\n",
    "# # 각 구간별 사기 거래 비율 계산\n",
    "# fraud_rate_by_bins = train.groupby('difference_bins')['isFraud'].mean().reset_index()\n",
    "\n",
    "# # 시각화\n",
    "# plt.figure(figsize=(12, 6))\n",
    "# sns.barplot(x='difference_bins', y='isFraud', data=fraud_rate_by_bins, palette='viridis')\n",
    "# plt.xticks(rotation=45)\n",
    "# plt.xlabel('Difference Bins')\n",
    "# plt.ylabel('Fraud Rate')\n",
    "# plt.title('Fraud Rates by Difference Bins')\n",
    "# plt.show()"
   ]
  },
  {
   "cell_type": "code",
   "execution_count": 60,
   "metadata": {},
   "outputs": [],
   "source": [
    "total = pd.concat([train,test],axis=0,sort=False)\n",
    "\n",
    "train['uid2_next_click'] = train['TransactionDT'] - train.groupby(['uid2'])['TransactionDT'].shift(-1)\n",
    "test['uid2_next_click'] = test['TransactionDT'] - test.groupby(['uid2'])['TransactionDT'].shift(-1)\n",
    "\n",
    "train = train.merge(total.groupby(['uid','account_make_date_D1','ProductCD'])['TransactionAmt'].agg({'mean','std'}).reset_index().rename(columns={'mean':'uid_D1_productCD_Amt_mean','std':'uid_D1_productCD_Amt_std'}), how='left', on = ['uid','account_make_date_D1','ProductCD'])\n",
    "test = test.merge(total.groupby(['uid','account_make_date_D1','ProductCD'])['TransactionAmt'].agg({'mean','std'}).reset_index().rename(columns={'mean':'uid_D1_productCD_Amt_mean','std':'uid_D1_productCD_Amt_std'}), how='left', on = ['uid','account_make_date_D1','ProductCD'])\n",
    "train = train.merge(total.groupby(['uid2','ProductCD'])['dayofweek'].agg({'mean','std'}).reset_index().rename(columns={'mean':'uid2_dayofweek_mean','std':'uid2_dayofweek_std'}), how='left', on = ['uid2','ProductCD'])\n",
    "test = test.merge(total.groupby(['uid2','ProductCD'])['dayofweek'].agg({'mean','std'}).reset_index().rename(columns={'mean':'uid2_dayofweek_mean','std':'uid2_dayofweek_std'}), how='left', on = ['uid2','ProductCD'])"
   ]
  },
  {
   "cell_type": "code",
   "execution_count": 61,
   "metadata": {},
   "outputs": [],
   "source": [
    "del train['uid']; del train['uid2']; del train['bank_type']\n",
    "del test['uid']; del test['uid2']; del test['bank_type']"
   ]
  },
  {
   "cell_type": "code",
   "execution_count": 62,
   "metadata": {},
   "outputs": [],
   "source": [
    "# M1부터 M9까지 컬럼 목록\n",
    "m_columns = [f'M{i}' for i in range(1, 9)]\n",
    "\n",
    "# M4를 제외한 나머지 컬럼들에 대해 T/F를 1/0으로 변환\n",
    "mapping = {'T': 1, 'F': 0}\n",
    "for col in m_columns:\n",
    "    if col != 'M4':\n",
    "        train[col] = train[col].map(mapping).fillna(-999)\n",
    "        test[col] = test[col].map(mapping).fillna(-999)\n",
    "\n",
    "# M4에 대해 라벨 인코딩 수행\n",
    "label_encoder = LabelEncoder()\n",
    "train['M4'] = label_encoder.fit_transform(train['M4'].astype(str))\n",
    "test['M4'] = label_encoder.transform(test['M4'].astype(str))"
   ]
  },
  {
   "cell_type": "code",
   "execution_count": 63,
   "metadata": {},
   "outputs": [],
   "source": [
    "\n",
    "def reduce_mem_usage(df):\n",
    "    start_mem = df.memory_usage().sum() / 1024**2\n",
    "    print('Memory usage of dataframe is {:.2f} MB'.format(start_mem))\n",
    "    \n",
    "    for col in df.columns:\n",
    "        col_type = df[col].dtype\n",
    "        \n",
    "        if col_type != object and not np.issubdtype(col_type, np.datetime64):\n",
    "            c_min = df[col].min()\n",
    "            c_max = df[col].max()\n",
    "            \n",
    "            if str(col_type)[:3] == 'int':\n",
    "                if c_min > np.iinfo(np.int8).min and c_max < np.iinfo(np.int8).max:\n",
    "                    df[col] = df[col].astype(np.int8)\n",
    "                elif c_min > np.iinfo(np.int16).min and c_max < np.iinfo(np.int16).max:\n",
    "                    df[col] = df[col].astype(np.int16)\n",
    "                elif c_min > np.iinfo(np.int32).min and c_max < np.iinfo(np.int32).max:\n",
    "                    df[col] = df[col].astype(np.int32)\n",
    "                elif c_min > np.iinfo(np.int64).min and c_max < np.iinfo(np.int64).max:\n",
    "                    df[col] = df[col].astype(np.int64)  \n",
    "            else:\n",
    "                if c_min > np.finfo(np.float16).min and c_max < np.finfo(np.float16).max:\n",
    "                    df[col] = df[col].astype(np.float16)\n",
    "                elif c_min > np.finfo(np.float32).min and c_max < np.finfo(np.float32).max:\n",
    "                    df[col] = df[col].astype(np.float32)\n",
    "                else:\n",
    "                    df[col] = df[col].astype(np.float64)\n",
    "    \n",
    "    end_mem = df.memory_usage().sum() / 1024**2\n",
    "    print('Memory usage after optimization is: {:.2f} MB'.format(end_mem))\n",
    "    print('Decreased by {:.1f}%'.format(100 * (start_mem - end_mem) / start_mem))\n",
    "    \n",
    "    return df"
   ]
  },
  {
   "cell_type": "code",
   "execution_count": 64,
   "metadata": {},
   "outputs": [
    {
     "name": "stdout",
     "output_type": "stream",
     "text": [
      "Memory usage of dataframe is 457.30 MB\n",
      "Memory usage after optimization is: 181.91 MB\n",
      "Decreased by 60.2%\n",
      "Memory usage of dataframe is 388.51 MB\n",
      "Memory usage after optimization is: 157.05 MB\n",
      "Decreased by 59.6%\n"
     ]
    }
   ],
   "source": [
    "# 적용\n",
    "train = reduce_mem_usage(train)\n",
    "test = reduce_mem_usage(test)"
   ]
  },
  {
   "cell_type": "code",
   "execution_count": 65,
   "metadata": {},
   "outputs": [],
   "source": [
    "test = test.drop(['V307','id_30','id_31','id_32','id_33','DeviceType','DeviceInfo'], axis=1)\n",
    "train = train.drop(['V307','id_30','id_31','id_32','id_33','DeviceType','DeviceInfo'], axis=1)"
   ]
  },
  {
   "cell_type": "code",
   "execution_count": 66,
   "metadata": {},
   "outputs": [],
   "source": [
    "# 범주형 열을 숫자형으로 변환\n",
    "def encode_categorical_columns(df):\n",
    "    label_encoders = {}\n",
    "    for column in df.select_dtypes(include=['object']).columns:\n",
    "        le = LabelEncoder()\n",
    "        df[column] = le.fit_transform(df[column].astype(str))\n",
    "        label_encoders[column] = le\n",
    "    return df, label_encoders\n",
    "\n",
    "# train 데이터 인코딩\n",
    "train, _ = encode_categorical_columns(train)\n",
    "\n",
    "# test 데이터 인코딩\n",
    "test_encoded, _ = encode_categorical_columns(test)"
   ]
  },
  {
   "cell_type": "code",
   "execution_count": 67,
   "metadata": {},
   "outputs": [],
   "source": [
    "y = train['isFraud']\n",
    "X = train.drop('isFraud', axis=1)"
   ]
  },
  {
   "cell_type": "code",
   "execution_count": 68,
   "metadata": {},
   "outputs": [],
   "source": [
    "# DateTime64 타입의 열을 숫자 형식으로 변환하는 함수\n",
    "def convert_datetime_columns(df):\n",
    "    for col in df.columns:\n",
    "        if pd.api.types.is_datetime64_any_dtype(df[col]):\n",
    "            df[col] = df[col].astype('int64') // 10**9  # 초 단위로 변환\n",
    "    return df\n",
    "\n",
    "# Assuming X is your feature DataFrame\n",
    "X = convert_datetime_columns(X)"
   ]
  },
  {
   "cell_type": "code",
   "execution_count": 69,
   "metadata": {},
   "outputs": [
    {
     "name": "stdout",
     "output_type": "stream",
     "text": [
      "Training until validation scores don't improve for 100 rounds\n",
      "[100]\ttraining's auc: 0.955967\tvalid_1's auc: 0.934747\n",
      "[200]\ttraining's auc: 0.966744\tvalid_1's auc: 0.943405\n",
      "[300]\ttraining's auc: 0.975745\tvalid_1's auc: 0.950924\n",
      "[400]\ttraining's auc: 0.983435\tvalid_1's auc: 0.958017\n",
      "[500]\ttraining's auc: 0.988798\tvalid_1's auc: 0.96331\n",
      "[600]\ttraining's auc: 0.992497\tvalid_1's auc: 0.967094\n",
      "[700]\ttraining's auc: 0.995156\tvalid_1's auc: 0.969921\n",
      "[800]\ttraining's auc: 0.996957\tvalid_1's auc: 0.971807\n",
      "[900]\ttraining's auc: 0.998139\tvalid_1's auc: 0.973073\n",
      "[1000]\ttraining's auc: 0.998867\tvalid_1's auc: 0.974193\n",
      "[1100]\ttraining's auc: 0.999324\tvalid_1's auc: 0.974991\n",
      "[1200]\ttraining's auc: 0.999597\tvalid_1's auc: 0.975677\n",
      "[1300]\ttraining's auc: 0.999759\tvalid_1's auc: 0.976303\n",
      "[1400]\ttraining's auc: 0.999858\tvalid_1's auc: 0.976793\n",
      "[1500]\ttraining's auc: 0.999917\tvalid_1's auc: 0.977137\n",
      "[1600]\ttraining's auc: 0.999954\tvalid_1's auc: 0.977385\n",
      "[1700]\ttraining's auc: 0.999974\tvalid_1's auc: 0.977689\n",
      "[1800]\ttraining's auc: 0.999986\tvalid_1's auc: 0.977974\n",
      "[1900]\ttraining's auc: 0.999993\tvalid_1's auc: 0.978186\n",
      "[2000]\ttraining's auc: 0.999997\tvalid_1's auc: 0.978375\n",
      "[2100]\ttraining's auc: 0.999998\tvalid_1's auc: 0.978517\n",
      "[2200]\ttraining's auc: 0.999999\tvalid_1's auc: 0.978577\n",
      "[2300]\ttraining's auc: 1\tvalid_1's auc: 0.978632\n",
      "[2400]\ttraining's auc: 1\tvalid_1's auc: 0.978655\n",
      "[2500]\ttraining's auc: 1\tvalid_1's auc: 0.978658\n",
      "[2600]\ttraining's auc: 1\tvalid_1's auc: 0.978686\n",
      "Early stopping, best iteration is:\n",
      "[2576]\ttraining's auc: 1\tvalid_1's auc: 0.9787\n"
     ]
    }
   ],
   "source": [
    "import lightgbm as lgb\n",
    "\n",
    "# train, valid split\n",
    "X_tr, X_v, y_tr, y_v = train_test_split(X, y, test_size=0.25, random_state=2024, stratify=y)\n",
    "\n",
    "# 데이터 셋 생성\n",
    "train_data = lgb.Dataset(X_tr, label=y_tr)\n",
    "valid_data = lgb.Dataset(X_v, label=y_v)\n",
    "\n",
    "params = {\n",
    "    'num_leaves': 491,\n",
    "    'min_child_weight': 0.03454472573214212,\n",
    "    'feature_fraction': 0.3797454081646243,\n",
    "    'bagging_fraction': 0.4181193142567742,\n",
    "    'min_data_in_leaf': 106,\n",
    "    'objective': 'binary',\n",
    "    'max_depth': -1,\n",
    "    'learning_rate': 0.006883242363721497,\n",
    "    'boosting_type': 'gbdt',\n",
    "    'bagging_seed': 11,\n",
    "    'metric': 'auc',\n",
    "    'verbosity': -1,\n",
    "    'reg_alpha': 0.3899927210061127,\n",
    "    'reg_lambda': 0.6485237330340494,\n",
    "    'random_state': 2024\n",
    "}\n",
    "\n",
    "# 모델 학습\n",
    "callbacks = [lgb.early_stopping(stopping_rounds=100), lgb.log_evaluation(period=100)]\n",
    "clf = lgb.train(params, train_data, num_boost_round=10000, valid_sets=[train_data, valid_data], callbacks=callbacks) # 0.978832   0.978616"
   ]
  },
  {
   "cell_type": "code",
   "execution_count": 70,
   "metadata": {},
   "outputs": [
    {
     "data": {
      "image/png": "[encoded data removed]",
      "text/plain": [
       "<Figure size 1000x800 with 1 Axes>"
      ]
     },
     "metadata": {},
     "output_type": "display_data"
    }
   ],
   "source": [
    "# 피처 중요도 추출\n",
    "importance = clf.feature_importance()\n",
    "feature_names = X_tr.columns\n",
    "\n",
    "# 피처 중요도를 데이터프레임으로 변환\n",
    "importance_df = pd.DataFrame({\n",
    "    'feature': feature_names,\n",
    "    'importance': importance\n",
    "})\n",
    "\n",
    "# 중요도 순으로 정렬하고 상위 20개 피처 선택\n",
    "top_20_features = importance_df.sort_values(by='importance', ascending=False).head(30)\n",
    "\n",
    "# 피처 중요도 시각화\n",
    "plt.figure(figsize=(10, 8))\n",
    "plt.barh(top_20_features['feature'], top_20_features['importance'], color='skyblue')\n",
    "plt.xlabel('Feature Importance')\n",
    "plt.ylabel('Feature')\n",
    "plt.title('Top 20 Feature Importances')\n",
    "plt.gca().invert_yaxis()  # 가장 중요한 피처가 위에 오도록 y축을 반전\n",
    "plt.show()"
   ]
  },
  {
   "cell_type": "code",
   "execution_count": 71,
   "metadata": {},
   "outputs": [],
   "source": [
    "# test_encoded 데이터프레임의 DateTime64 타입 열 변환\n",
    "test_encoded = convert_datetime_columns(test_encoded)\n",
    "\n",
    "# 예측 수행\n",
    "preds = clf.predict(test_encoded)\n",
    "\n",
    "# 결과 저장\n",
    "result = pd.read_csv(\"sample_submission.csv\")\n",
    "result['isFraud'] = preds\n",
    "result.to_csv('result.csv', index=False)"
   ]
  },
  {
   "cell_type": "code",
   "execution_count": 72,
   "metadata": {},
   "outputs": [
    {
     "name": "stdout",
     "output_type": "stream",
     "text": [
      "Columns in the DataFrame:\n",
      "timeblock, TransactionDT, TransactionAmt, card1, card2, card3, card5, addr1, addr2, C1, C2, C3, C4, C5, C6, C7, C8, C9, C10, C11, C12, C13, C14, D1, D2, D3, D4, D5, D6, D7, D8, D9, D10, D11, D12, D13, D14, D15, ProductCD, card4, card6, P_emaildomain, R_emaildomain, dist1, id_34, V314, V310, V127, V78, V62, M1, M2, M3, M4, M5, M6, M7, M8, card1_TransactionAmt_mean, card1_TransactionAmt_std, card1_TransactionAmt_nunique, card2_TransactionAmt_mean, card2_TransactionAmt_std, card2_TransactionAmt_nunique, card3_TransactionAmt_mean, card3_TransactionAmt_std, card3_TransactionAmt_nunique, card5_TransactionAmt_mean, card5_TransactionAmt_std, card5_TransactionAmt_nunique, uid_TransactionAmt_mean, uid_TransactionAmt_std, uid_TransactionAmt_nunique, uid2_TransactionAmt_mean, uid2_TransactionAmt_std, uid2_TransactionAmt_nunique, address_match, account_make_date_D1, account_make_date_D2, account_make_date_D4, account_make_date_D8, account_make_date_D10, account_make_date_D15, date, year, month, day, dayofweek, hour, prev_transaction_diff, card_hash, device_hash, V307_diff, difference, uid2_next_click, uid_D1_productCD_Amt_mean, uid_D1_productCD_Amt_std, uid2_dayofweek_mean, uid2_dayofweek_std\n",
      "Columns in the DataFrame:\n",
      "timeblock, TransactionDT, TransactionAmt, card1, card2, card3, card5, addr1, addr2, C1, C2, C3, C4, C5, C6, C7, C8, C9, C10, C11, C12, C13, C14, D1, D2, D3, D4, D5, D6, D7, D8, D9, D10, D11, D12, D13, D14, D15, ProductCD, card4, card6, P_emaildomain, R_emaildomain, dist1, id_34, V314, V310, V127, V78, V62, M1, M2, M3, M4, M5, M6, M7, M8, isFraud, card1_TransactionAmt_mean, card1_TransactionAmt_std, card1_TransactionAmt_nunique, card2_TransactionAmt_mean, card2_TransactionAmt_std, card2_TransactionAmt_nunique, card3_TransactionAmt_mean, card3_TransactionAmt_std, card3_TransactionAmt_nunique, card5_TransactionAmt_mean, card5_TransactionAmt_std, card5_TransactionAmt_nunique, uid_TransactionAmt_mean, uid_TransactionAmt_std, uid_TransactionAmt_nunique, uid2_TransactionAmt_mean, uid2_TransactionAmt_std, uid2_TransactionAmt_nunique, address_match, account_make_date_D1, account_make_date_D2, account_make_date_D4, account_make_date_D8, account_make_date_D10, account_make_date_D15, date, year, month, day, dayofweek, hour, prev_transaction_diff, card_hash, device_hash, V307_diff, difference, uid2_next_click, uid_D1_productCD_Amt_mean, uid_D1_productCD_Amt_std, uid2_dayofweek_mean, uid2_dayofweek_std\n"
     ]
    }
   ],
   "source": [
    "def print_columns(df):\n",
    "    print(\"Columns in the DataFrame:\")\n",
    "    print(\", \".join(df.columns))\n",
    "\n",
    "print_columns(test_encoded)\n",
    "print_columns(train)"
   ]
  },
  {
   "cell_type": "code",
   "execution_count": 73,
   "metadata": {},
   "outputs": [
    {
     "data": {
      "image/png": "[encoded data removed]",
      "text/plain": [
       "<Figure size 1000x800 with 1 Axes>"
      ]
     },
     "metadata": {},
     "output_type": "display_data"
    }
   ],
   "source": [
    "# 피처 중요도 추출\n",
    "importance = clf.feature_importance()\n",
    "feature_names = X_tr.columns\n",
    "\n",
    "# 피처 중요도를 데이터프레임으로 변환\n",
    "importance_df = pd.DataFrame({\n",
    "    'feature': feature_names,\n",
    "    'importance': importance\n",
    "})\n",
    "\n",
    "# 'D'로 시작하는 피처만 필터링\n",
    "d_features = importance_df[importance_df['feature'].str.startswith('D')]\n",
    "\n",
    "# 중요도 순으로 정렬\n",
    "d_features = d_features.sort_values(by='importance', ascending=False)\n",
    "\n",
    "# 피처 중요도 시각화\n",
    "plt.figure(figsize=(10, 8))\n",
    "plt.barh(d_features['feature'], d_features['importance'], color='skyblue')\n",
    "plt.xlabel('Feature Importance')\n",
    "plt.ylabel('Feature')\n",
    "plt.title('Feature Importances of D Columns')\n",
    "plt.gca().invert_yaxis()  # 가장 중요한 피처가 위에 오도록 y축을 반전\n",
    "plt.show()"
   ]
  },
  {
   "cell_type": "code",
   "execution_count": 74,
   "metadata": {},
   "outputs": [
    {
     "name": "stderr",
     "output_type": "stream",
     "text": [
      "c:\\Users\\USER\\Desktop\\광인사\\2_Project\\.venv\\Lib\\site-packages\\pandas\\io\\formats\\format.py:1458: RuntimeWarning: overflow encountered in cast\n",
      "  has_large_values = (abs_vals > 1e6).any()\n"
     ]
    },
    {
     "data": {
      "text/html": [
       "<div>\n",
       "<style scoped>\n",
       "    .dataframe tbody tr th:only-of-type {\n",
       "        vertical-align: middle;\n",
       "    }\n",
       "\n",
       "    .dataframe tbody tr th {\n",
       "        vertical-align: top;\n",
       "    }\n",
       "\n",
       "    .dataframe thead th {\n",
       "        text-align: right;\n",
       "    }\n",
       "</style>\n",
       "<table border=\"1\" class=\"dataframe\">\n",
       "  <thead>\n",
       "    <tr style=\"text-align: right;\">\n",
       "      <th></th>\n",
       "      <th>uid2_TransactionAmt_mean</th>\n",
       "      <th>uid2_TransactionAmt_std</th>\n",
       "      <th>uid2_TransactionAmt_nunique</th>\n",
       "      <th>uid2_next_click</th>\n",
       "      <th>uid2_dayofweek_mean</th>\n",
       "      <th>uid2_dayofweek_std</th>\n",
       "    </tr>\n",
       "  </thead>\n",
       "  <tbody>\n",
       "    <tr>\n",
       "      <th>0</th>\n",
       "      <td>193.0000</td>\n",
       "      <td>176.12500</td>\n",
       "      <td>2</td>\n",
       "      <td>-6286225.0</td>\n",
       "      <td>5.000000</td>\n",
       "      <td>1.414062</td>\n",
       "    </tr>\n",
       "    <tr>\n",
       "      <th>1</th>\n",
       "      <td>240.0000</td>\n",
       "      <td>503.75000</td>\n",
       "      <td>53</td>\n",
       "      <td>-413142.0</td>\n",
       "      <td>3.000000</td>\n",
       "      <td>1.776367</td>\n",
       "    </tr>\n",
       "    <tr>\n",
       "      <th>2</th>\n",
       "      <td>65.6875</td>\n",
       "      <td>55.15625</td>\n",
       "      <td>23</td>\n",
       "      <td>-864538.0</td>\n",
       "      <td>3.244141</td>\n",
       "      <td>1.569336</td>\n",
       "    </tr>\n",
       "    <tr>\n",
       "      <th>3</th>\n",
       "      <td>113.0625</td>\n",
       "      <td>211.75000</td>\n",
       "      <td>109</td>\n",
       "      <td>-8498.0</td>\n",
       "      <td>3.013672</td>\n",
       "      <td>1.973633</td>\n",
       "    </tr>\n",
       "    <tr>\n",
       "      <th>4</th>\n",
       "      <td>50.0000</td>\n",
       "      <td>NaN</td>\n",
       "      <td>1</td>\n",
       "      <td>NaN</td>\n",
       "      <td>4.000000</td>\n",
       "      <td>NaN</td>\n",
       "    </tr>\n",
       "    <tr>\n",
       "      <th>...</th>\n",
       "      <td>...</td>\n",
       "      <td>...</td>\n",
       "      <td>...</td>\n",
       "      <td>...</td>\n",
       "      <td>...</td>\n",
       "      <td>...</td>\n",
       "    </tr>\n",
       "    <tr>\n",
       "      <th>590535</th>\n",
       "      <td>74.6875</td>\n",
       "      <td>49.09375</td>\n",
       "      <td>16</td>\n",
       "      <td>NaN</td>\n",
       "      <td>3.544922</td>\n",
       "      <td>1.787109</td>\n",
       "    </tr>\n",
       "    <tr>\n",
       "      <th>590536</th>\n",
       "      <td>212.1250</td>\n",
       "      <td>105.75000</td>\n",
       "      <td>9</td>\n",
       "      <td>NaN</td>\n",
       "      <td>2.390625</td>\n",
       "      <td>1.900391</td>\n",
       "    </tr>\n",
       "    <tr>\n",
       "      <th>590537</th>\n",
       "      <td>126.0625</td>\n",
       "      <td>162.00000</td>\n",
       "      <td>207</td>\n",
       "      <td>NaN</td>\n",
       "      <td>2.958984</td>\n",
       "      <td>1.946289</td>\n",
       "    </tr>\n",
       "    <tr>\n",
       "      <th>590538</th>\n",
       "      <td>159.6250</td>\n",
       "      <td>416.25000</td>\n",
       "      <td>239</td>\n",
       "      <td>NaN</td>\n",
       "      <td>2.912109</td>\n",
       "      <td>1.958984</td>\n",
       "    </tr>\n",
       "    <tr>\n",
       "      <th>590539</th>\n",
       "      <td>278.5000</td>\n",
       "      <td>370.25000</td>\n",
       "      <td>452</td>\n",
       "      <td>NaN</td>\n",
       "      <td>2.804688</td>\n",
       "      <td>1.850586</td>\n",
       "    </tr>\n",
       "  </tbody>\n",
       "</table>\n",
       "<p>590540 rows × 6 columns</p>\n",
       "</div>"
      ],
      "text/plain": [
       "        uid2_TransactionAmt_mean  uid2_TransactionAmt_std  \\\n",
       "0                       193.0000                176.12500   \n",
       "1                       240.0000                503.75000   \n",
       "2                        65.6875                 55.15625   \n",
       "3                       113.0625                211.75000   \n",
       "4                        50.0000                      NaN   \n",
       "...                          ...                      ...   \n",
       "590535                   74.6875                 49.09375   \n",
       "590536                  212.1250                105.75000   \n",
       "590537                  126.0625                162.00000   \n",
       "590538                  159.6250                416.25000   \n",
       "590539                  278.5000                370.25000   \n",
       "\n",
       "        uid2_TransactionAmt_nunique  uid2_next_click  uid2_dayofweek_mean  \\\n",
       "0                                 2       -6286225.0             5.000000   \n",
       "1                                53        -413142.0             3.000000   \n",
       "2                                23        -864538.0             3.244141   \n",
       "3                               109          -8498.0             3.013672   \n",
       "4                                 1              NaN             4.000000   \n",
       "...                             ...              ...                  ...   \n",
       "590535                           16              NaN             3.544922   \n",
       "590536                            9              NaN             2.390625   \n",
       "590537                          207              NaN             2.958984   \n",
       "590538                          239              NaN             2.912109   \n",
       "590539                          452              NaN             2.804688   \n",
       "\n",
       "        uid2_dayofweek_std  \n",
       "0                 1.414062  \n",
       "1                 1.776367  \n",
       "2                 1.569336  \n",
       "3                 1.973633  \n",
       "4                      NaN  \n",
       "...                    ...  \n",
       "590535            1.787109  \n",
       "590536            1.900391  \n",
       "590537            1.946289  \n",
       "590538            1.958984  \n",
       "590539            1.850586  \n",
       "\n",
       "[590540 rows x 6 columns]"
      ]
     },
     "execution_count": 74,
     "metadata": {},
     "output_type": "execute_result"
    }
   ],
   "source": [
    "uid2_columns = train.filter(like='uid2').copy()\n",
    "uid2_columns"
   ]
  },
  {
   "cell_type": "code",
   "execution_count": null,
   "metadata": {},
   "outputs": [],
   "source": []
  }
 ],
 "metadata": {
  "kernelspec": {
   "display_name": "project",
   "language": "python",
   "name": "python3"
  },
  "language_info": {
   "codemirror_mode": {
    "name": "ipython",
    "version": 3
   },
   "file_extension": ".py",
   "mimetype": "text/x-python",
   "name": "python",
   "nbconvert_exporter": "python",
   "pygments_lexer": "ipython3",
   "version": "3.12.3"
  }
 },
 "nbformat": 4,
 "nbformat_minor": 2
}
