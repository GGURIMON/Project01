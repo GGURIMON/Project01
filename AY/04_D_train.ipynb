{
 "cells": [
  {
   "cell_type": "code",
   "execution_count": 1,
   "id": "0d878a8e-12bd-4bfe-a698-d15647b57051",
   "metadata": {},
   "outputs": [],
   "source": [
    "import pandas as pd\n",
    "import numpy as np\n",
    "import matplotlib.pyplot as plt\n",
    "import seaborn as sns\n",
    "import plotly.express as px\n",
    "import plotly.graph_objects as g\n",
    "from tqdm import tqdm\n",
    "import gc"
   ]
  },
  {
   "cell_type": "code",
   "execution_count": 2,
   "id": "b7f9dc1f-450c-4d5b-86a5-22e68480c5e2",
   "metadata": {},
   "outputs": [],
   "source": [
    "import warnings\n",
    "warnings.filterwarnings(action='ignore')\n",
    "pd.options.display.max_columns = None"
   ]
  },
  {
   "cell_type": "code",
   "execution_count": 3,
   "id": "8364f21e-fb0f-4f9a-abc2-1723ae886f0b",
   "metadata": {},
   "outputs": [],
   "source": [
    "def reduce_mem_usage(df, verbose=True):\n",
    "    numerics = ['int16', 'int32', 'int64', 'float16', 'float32', 'float64']\n",
    "    start_mem = df.memory_usage().sum() / 1024**2    \n",
    "    for col in df.columns:\n",
    "        col_type = df[col].dtypes\n",
    "        if col_type in numerics:\n",
    "            c_min = df[col].min()\n",
    "            c_max = df[col].max()\n",
    "            if str(col_type)[:3] == 'int':\n",
    "                if c_min > np.iinfo(np.int8).min and c_max < np.iinfo(np.int8).max:\n",
    "                    df[col] = df[col].astype(np.int8)\n",
    "                elif c_min > np.iinfo(np.int16).min and c_max < np.iinfo(np.int16).max:\n",
    "                    df[col] = df[col].astype(np.int16)\n",
    "                elif c_min > np.iinfo(np.int32).min and c_max < np.iinfo(np.int32).max:\n",
    "                    df[col] = df[col].astype(np.int32)\n",
    "                elif c_min > np.iinfo(np.int64).min and c_max < np.iinfo(np.int64).max:\n",
    "                    df[col] = df[col].astype(np.int64)  \n",
    "            else:\n",
    "                if c_min > np.finfo(np.float16).min and c_max < np.finfo(np.float16).max:\n",
    "                    df[col] = df[col].astype(np.float16)\n",
    "                elif c_min > np.finfo(np.float32).min and c_max < np.finfo(np.float32).max:\n",
    "                    df[col] = df[col].astype(np.float32)\n",
    "                else:\n",
    "                    df[col] = df[col].astype(np.float64)    \n",
    "    end_mem = df.memory_usage().sum() / 1024**2\n",
    "    if verbose: print('Mem. usage decreased to {:5.2f} Mb ({:.1f}% reduction)'.format(end_mem, 100 * (start_mem - end_mem) / start_mem))\n",
    "    return df\n",
    "\n",
    "trans_cat_cols = [\"ProductCD\",\"card1\",\"card2\",\"card3\",\"card4\",\"card5\",\"card6\",\"addr1\",\"addr2\",\n",
    "                   \"M1\",\"M2\",\"M3\",\"M4\",\"M5\",\"M6\",\"M7\",\"M8\",\"M9\"]\n",
    "\n",
    "iden_cat_cols = [\"DeviceType\",\"DeviceInfo\",\"id_12\",\n",
    "                   \"id_13\",\"id_14\",\"id_15\",\"id_16\",\"id_17\",\"id_18\",\"id_19\",\"id_20\",\"id_21\",\"id_22\",\"id_23\",\"id_24\",\n",
    "                   \"id_25\",\"id_26\",\"id_27\",\"id_28\",\"id_29\",\"id_30\",\"id_31\",\"id_32\",\"id_33\",\"id_34\",\"id_35\",\"id_36\",\n",
    "                   \"id_37\",\"id_38\"]\n",
    "\n",
    "categorical_cols = trans_cat_cols + iden_cat_cols\n",
    "\n",
    "def transform_catcols(df1, df2, cols):\n",
    "    for cat_col in tqdm(cols): \n",
    "        # Get the indices for NaN values\n",
    "        trn_null_ind = [ind for ind, val in enumerate(df1[cols].isnull().values) if val == True]\n",
    "        ts_null_ind = [ind for ind, val in enumerate(df2[cols].isnull().values) if val == True]\n",
    "        \n",
    "        uniq_train_cat_val , uniq_test_cat_val = set(df1[cols].dropna() ), set(df2[cols].dropna() )\n",
    "        common_cat_val = uniq_train_cat_val.intersection(uniq_test_cat_val)\n",
    "        df1.loc[ ~df1[cols].isin( common_cat_val), cat_col ] = -99999\n",
    "        df2.loc[ ~df2[cols].isin( common_cat_val), cat_col ] = -99999\n",
    "        \n",
    "        # Replace the value for orignal NaN values\n",
    "        df1.loc[df1.index.isin(trn_null_ind), cat_col] = np.NaN\n",
    "        df2.loc[df2.index.isin(ts_null_ind), cat_col] = np.NaN\n",
    "        \n",
    "    del uniq_train_cat_val, uniq_test_cat_val, common_cat_val; gc.collect()\n",
    "    \n",
    "    # Reduce the usage of memory\n",
    "    df1 = reduce_mem_usage(df1)\n",
    "    df2 = reduce_mem_usage(df2)\n",
    "    \n",
    "    return df1, df2"
   ]
  },
  {
   "cell_type": "markdown",
   "id": "3ea2cca4-e342-43a7-a9aa-720cf4f2bfc7",
   "metadata": {},
   "source": [
    "### - 데이터로드"
   ]
  },
  {
   "cell_type": "code",
   "execution_count": 8,
   "id": "2f816ce9-e6b1-4f18-bc20-e4a16e11e6d0",
   "metadata": {
    "collapsed": true,
    "jupyter": {
     "outputs_hidden": true
    },
    "scrolled": true
   },
   "outputs": [
    {
     "ename": "KeyError",
     "evalue": "\"['Unnamed: 0'] not found in axis\"",
     "output_type": "error",
     "traceback": [
      "\u001b[1;31m---------------------------------------------------------------------------\u001b[0m",
      "\u001b[1;31mKeyError\u001b[0m                                  Traceback (most recent call last)",
      "Cell \u001b[1;32mIn[8], line 1\u001b[0m\n\u001b[1;32m----> 1\u001b[0m train \u001b[38;5;241m=\u001b[39m pd\u001b[38;5;241m.\u001b[39mread_csv(\u001b[38;5;124m'\u001b[39m\u001b[38;5;124m./data/train_df2.csv\u001b[39m\u001b[38;5;124m'\u001b[39m)\u001b[38;5;241m.\u001b[39mdrop(columns\u001b[38;5;241m=\u001b[39m\u001b[38;5;124m'\u001b[39m\u001b[38;5;124mUnnamed: 0\u001b[39m\u001b[38;5;124m'\u001b[39m)\n\u001b[0;32m      2\u001b[0m test \u001b[38;5;241m=\u001b[39m pd\u001b[38;5;241m.\u001b[39mread_csv(\u001b[38;5;124m'\u001b[39m\u001b[38;5;124m./data/test_df2.csv\u001b[39m\u001b[38;5;124m'\u001b[39m)\u001b[38;5;241m.\u001b[39mdrop(columns\u001b[38;5;241m=\u001b[39m\u001b[38;5;124m'\u001b[39m\u001b[38;5;124mUnnamed: 0\u001b[39m\u001b[38;5;124m'\u001b[39m)\n",
      "File \u001b[1;32m~\\anaconda3\\Lib\\site-packages\\pandas\\core\\frame.py:5581\u001b[0m, in \u001b[0;36mDataFrame.drop\u001b[1;34m(self, labels, axis, index, columns, level, inplace, errors)\u001b[0m\n\u001b[0;32m   5433\u001b[0m \u001b[38;5;28;01mdef\u001b[39;00m \u001b[38;5;21mdrop\u001b[39m(\n\u001b[0;32m   5434\u001b[0m     \u001b[38;5;28mself\u001b[39m,\n\u001b[0;32m   5435\u001b[0m     labels: IndexLabel \u001b[38;5;241m|\u001b[39m \u001b[38;5;28;01mNone\u001b[39;00m \u001b[38;5;241m=\u001b[39m \u001b[38;5;28;01mNone\u001b[39;00m,\n\u001b[1;32m   (...)\u001b[0m\n\u001b[0;32m   5442\u001b[0m     errors: IgnoreRaise \u001b[38;5;241m=\u001b[39m \u001b[38;5;124m\"\u001b[39m\u001b[38;5;124mraise\u001b[39m\u001b[38;5;124m\"\u001b[39m,\n\u001b[0;32m   5443\u001b[0m ) \u001b[38;5;241m-\u001b[39m\u001b[38;5;241m>\u001b[39m DataFrame \u001b[38;5;241m|\u001b[39m \u001b[38;5;28;01mNone\u001b[39;00m:\n\u001b[0;32m   5444\u001b[0m \u001b[38;5;250m    \u001b[39m\u001b[38;5;124;03m\"\"\"\u001b[39;00m\n\u001b[0;32m   5445\u001b[0m \u001b[38;5;124;03m    Drop specified labels from rows or columns.\u001b[39;00m\n\u001b[0;32m   5446\u001b[0m \n\u001b[1;32m   (...)\u001b[0m\n\u001b[0;32m   5579\u001b[0m \u001b[38;5;124;03m            weight  1.0     0.8\u001b[39;00m\n\u001b[0;32m   5580\u001b[0m \u001b[38;5;124;03m    \"\"\"\u001b[39;00m\n\u001b[1;32m-> 5581\u001b[0m     \u001b[38;5;28;01mreturn\u001b[39;00m \u001b[38;5;28msuper\u001b[39m()\u001b[38;5;241m.\u001b[39mdrop(\n\u001b[0;32m   5582\u001b[0m         labels\u001b[38;5;241m=\u001b[39mlabels,\n\u001b[0;32m   5583\u001b[0m         axis\u001b[38;5;241m=\u001b[39maxis,\n\u001b[0;32m   5584\u001b[0m         index\u001b[38;5;241m=\u001b[39mindex,\n\u001b[0;32m   5585\u001b[0m         columns\u001b[38;5;241m=\u001b[39mcolumns,\n\u001b[0;32m   5586\u001b[0m         level\u001b[38;5;241m=\u001b[39mlevel,\n\u001b[0;32m   5587\u001b[0m         inplace\u001b[38;5;241m=\u001b[39minplace,\n\u001b[0;32m   5588\u001b[0m         errors\u001b[38;5;241m=\u001b[39merrors,\n\u001b[0;32m   5589\u001b[0m     )\n",
      "File \u001b[1;32m~\\anaconda3\\Lib\\site-packages\\pandas\\core\\generic.py:4788\u001b[0m, in \u001b[0;36mNDFrame.drop\u001b[1;34m(self, labels, axis, index, columns, level, inplace, errors)\u001b[0m\n\u001b[0;32m   4786\u001b[0m \u001b[38;5;28;01mfor\u001b[39;00m axis, labels \u001b[38;5;129;01min\u001b[39;00m axes\u001b[38;5;241m.\u001b[39mitems():\n\u001b[0;32m   4787\u001b[0m     \u001b[38;5;28;01mif\u001b[39;00m labels \u001b[38;5;129;01mis\u001b[39;00m \u001b[38;5;129;01mnot\u001b[39;00m \u001b[38;5;28;01mNone\u001b[39;00m:\n\u001b[1;32m-> 4788\u001b[0m         obj \u001b[38;5;241m=\u001b[39m obj\u001b[38;5;241m.\u001b[39m_drop_axis(labels, axis, level\u001b[38;5;241m=\u001b[39mlevel, errors\u001b[38;5;241m=\u001b[39merrors)\n\u001b[0;32m   4790\u001b[0m \u001b[38;5;28;01mif\u001b[39;00m inplace:\n\u001b[0;32m   4791\u001b[0m     \u001b[38;5;28mself\u001b[39m\u001b[38;5;241m.\u001b[39m_update_inplace(obj)\n",
      "File \u001b[1;32m~\\anaconda3\\Lib\\site-packages\\pandas\\core\\generic.py:4830\u001b[0m, in \u001b[0;36mNDFrame._drop_axis\u001b[1;34m(self, labels, axis, level, errors, only_slice)\u001b[0m\n\u001b[0;32m   4828\u001b[0m         new_axis \u001b[38;5;241m=\u001b[39m axis\u001b[38;5;241m.\u001b[39mdrop(labels, level\u001b[38;5;241m=\u001b[39mlevel, errors\u001b[38;5;241m=\u001b[39merrors)\n\u001b[0;32m   4829\u001b[0m     \u001b[38;5;28;01melse\u001b[39;00m:\n\u001b[1;32m-> 4830\u001b[0m         new_axis \u001b[38;5;241m=\u001b[39m axis\u001b[38;5;241m.\u001b[39mdrop(labels, errors\u001b[38;5;241m=\u001b[39merrors)\n\u001b[0;32m   4831\u001b[0m     indexer \u001b[38;5;241m=\u001b[39m axis\u001b[38;5;241m.\u001b[39mget_indexer(new_axis)\n\u001b[0;32m   4833\u001b[0m \u001b[38;5;66;03m# Case for non-unique axis\u001b[39;00m\n\u001b[0;32m   4834\u001b[0m \u001b[38;5;28;01melse\u001b[39;00m:\n",
      "File \u001b[1;32m~\\anaconda3\\Lib\\site-packages\\pandas\\core\\indexes\\base.py:7070\u001b[0m, in \u001b[0;36mIndex.drop\u001b[1;34m(self, labels, errors)\u001b[0m\n\u001b[0;32m   7068\u001b[0m \u001b[38;5;28;01mif\u001b[39;00m mask\u001b[38;5;241m.\u001b[39many():\n\u001b[0;32m   7069\u001b[0m     \u001b[38;5;28;01mif\u001b[39;00m errors \u001b[38;5;241m!=\u001b[39m \u001b[38;5;124m\"\u001b[39m\u001b[38;5;124mignore\u001b[39m\u001b[38;5;124m\"\u001b[39m:\n\u001b[1;32m-> 7070\u001b[0m         \u001b[38;5;28;01mraise\u001b[39;00m \u001b[38;5;167;01mKeyError\u001b[39;00m(\u001b[38;5;124mf\u001b[39m\u001b[38;5;124m\"\u001b[39m\u001b[38;5;132;01m{\u001b[39;00mlabels[mask]\u001b[38;5;241m.\u001b[39mtolist()\u001b[38;5;132;01m}\u001b[39;00m\u001b[38;5;124m not found in axis\u001b[39m\u001b[38;5;124m\"\u001b[39m)\n\u001b[0;32m   7071\u001b[0m     indexer \u001b[38;5;241m=\u001b[39m indexer[\u001b[38;5;241m~\u001b[39mmask]\n\u001b[0;32m   7072\u001b[0m \u001b[38;5;28;01mreturn\u001b[39;00m \u001b[38;5;28mself\u001b[39m\u001b[38;5;241m.\u001b[39mdelete(indexer)\n",
      "\u001b[1;31mKeyError\u001b[0m: \"['Unnamed: 0'] not found in axis\""
     ]
    }
   ],
   "source": [
    "# train = pd.read_csv('./data/train_df2.csv').drop(columns='Unnamed: 0')\n",
    "# test = pd.read_csv('./data/test_df2.csv').drop(columns='Unnamed: 0')"
   ]
  },
  {
   "cell_type": "code",
   "execution_count": 7,
   "id": "ed347089-e4cf-4efa-894c-27a6fe678a1d",
   "metadata": {},
   "outputs": [],
   "source": [
    "train = pd.read_csv('./data/train_df2.csv')\n",
    "test = pd.read_csv('./data/test_df2.csv')"
   ]
  },
  {
   "cell_type": "code",
   "execution_count": 11,
   "id": "e7de4a95-ad62-4072-b1fd-53c3752928b6",
   "metadata": {
    "jupyter": {
     "source_hidden": true
    }
   },
   "outputs": [],
   "source": [
    "train_cols = ['isFraud',\n",
    " 'TransactionDT',\n",
    " 'TransactionAmt',\n",
    " 'ProductCD',\n",
    " 'card1',\n",
    " 'card2',\n",
    " 'card3',\n",
    " 'card4',\n",
    " 'card5',\n",
    " 'card6',\n",
    " 'addr1',\n",
    " 'addr2',\n",
    " 'dist1',\n",
    " 'dist2',\n",
    " 'P_emaildomain',\n",
    " 'R_emaildomain',\n",
    " 'C1',\n",
    " 'C2',\n",
    " 'C3',\n",
    " 'C4',\n",
    " 'C5',\n",
    " 'C6',\n",
    " 'C7',\n",
    " 'C8',\n",
    " 'C9',\n",
    " 'C10',\n",
    " 'C11',\n",
    " 'C12',\n",
    " 'C13',\n",
    " 'C14',\n",
    " 'D1',\n",
    " 'D2',\n",
    " 'D3',\n",
    " 'D4',\n",
    " 'D5',\n",
    " 'D6',\n",
    " 'D7',\n",
    " 'D8',\n",
    " 'D9',\n",
    " 'D10',\n",
    " 'D11',\n",
    " 'D12',\n",
    " 'D13',\n",
    " 'D14',\n",
    " 'D15',\n",
    " 'M1',\n",
    " 'M2',\n",
    " 'M3',\n",
    " 'M4',\n",
    " 'M5',\n",
    " 'M6',\n",
    " 'M7',\n",
    " 'M8',\n",
    " 'M9',\n",
    " 'id_01',\n",
    " 'id_02',\n",
    " 'id_03',\n",
    " 'id_04',\n",
    " 'id_05',\n",
    " 'id_06',\n",
    " 'id_07',\n",
    " 'id_08',\n",
    " 'id_09',\n",
    " 'id_10',\n",
    " 'id_11',\n",
    " 'id_12',\n",
    " 'id_13',\n",
    " 'id_14',\n",
    " 'id_15',\n",
    " 'id_16',\n",
    " 'id_17',\n",
    " 'id_18',\n",
    " 'id_19',\n",
    " 'id_20',\n",
    " 'id_21',\n",
    " 'id_22',\n",
    " 'id_23',\n",
    " 'id_24',\n",
    " 'id_25',\n",
    " 'id_26',\n",
    " 'id_27',\n",
    " 'id_28',\n",
    " 'id_29',\n",
    " 'id_30',\n",
    " 'id_31',\n",
    " 'id_32',\n",
    " 'id_33',\n",
    " 'id_34',\n",
    " 'id_35',\n",
    " 'id_36',\n",
    " 'id_37',\n",
    " 'id_38',\n",
    " 'DeviceType',\n",
    " 'DeviceInfo',\n",
    " 'V1',\n",
    " 'V3',\n",
    " 'V4',\n",
    " 'V6',\n",
    " 'V8',\n",
    " 'V11',\n",
    " 'V13',\n",
    " 'V14',\n",
    " 'V17',\n",
    " 'V20',\n",
    " 'V23',\n",
    " 'V26',\n",
    " 'V27',\n",
    " 'V30',\n",
    " 'V36',\n",
    " 'V37',\n",
    " 'V40',\n",
    " 'V41',\n",
    " 'V44',\n",
    " 'V47',\n",
    " 'V48',\n",
    " 'V54',\n",
    " 'V56',\n",
    " 'V59',\n",
    " 'V62',\n",
    " 'V65',\n",
    " 'V67',\n",
    " 'V68',\n",
    " 'V70',\n",
    " 'V76',\n",
    " 'V78',\n",
    " 'V80',\n",
    " 'V82',\n",
    " 'V86',\n",
    " 'V88',\n",
    " 'V89',\n",
    " 'V91',\n",
    " 'V96',\n",
    " 'V98',\n",
    " 'V99',\n",
    " 'V104',\n",
    " 'V107',\n",
    " 'V108',\n",
    " 'V111',\n",
    " 'V115',\n",
    " 'V117',\n",
    " 'V120',\n",
    " 'V121',\n",
    " 'V123',\n",
    " 'V124',\n",
    " 'V127',\n",
    " 'V129',\n",
    " 'V130',\n",
    " 'V136',\n",
    " 'V138',\n",
    " 'V139',\n",
    " 'V142',\n",
    " 'V147',\n",
    " 'V156',\n",
    " 'V162',\n",
    " 'V165',\n",
    " 'V160',\n",
    " 'V166',\n",
    " 'V178',\n",
    " 'V176',\n",
    " 'V173',\n",
    " 'V182',\n",
    " 'V187',\n",
    " 'V203',\n",
    " 'V205',\n",
    " 'V207',\n",
    " 'V215',\n",
    " 'V169',\n",
    " 'V171',\n",
    " 'V175',\n",
    " 'V180',\n",
    " 'V185',\n",
    " 'V188',\n",
    " 'V198',\n",
    " 'V210',\n",
    " 'V209',\n",
    " 'V218',\n",
    " 'V223',\n",
    " 'V224',\n",
    " 'V226',\n",
    " 'V228',\n",
    " 'V229',\n",
    " 'V235',\n",
    " 'V240',\n",
    " 'V258',\n",
    " 'V257',\n",
    " 'V253',\n",
    " 'V252',\n",
    " 'V260',\n",
    " 'V261',\n",
    " 'V264',\n",
    " 'V266',\n",
    " 'V267',\n",
    " 'V274',\n",
    " 'V277',\n",
    " 'V220',\n",
    " 'V221',\n",
    " 'V234',\n",
    " 'V238',\n",
    " 'V250',\n",
    " 'V271',\n",
    " 'V294',\n",
    " 'V284',\n",
    " 'V285',\n",
    " 'V286',\n",
    " 'V291',\n",
    " 'V297',\n",
    " 'V303',\n",
    " 'V305',\n",
    " 'V307',\n",
    " 'V309',\n",
    " 'V310',\n",
    " 'V320',\n",
    " 'V281',\n",
    " 'V283',\n",
    " 'V289',\n",
    " 'V296',\n",
    " 'V301',\n",
    " 'V314',\n",
    " 'V332',\n",
    " 'V325',\n",
    " 'V335',\n",
    " 'V338']"
   ]
  },
  {
   "cell_type": "code",
   "execution_count": 13,
   "id": "af03a1f8-e7a1-43c0-ae3e-15c7600bc791",
   "metadata": {
    "jupyter": {
     "source_hidden": true
    }
   },
   "outputs": [],
   "source": [
    "test_cols = ['TransactionDT',\n",
    " 'TransactionAmt',\n",
    " 'ProductCD',\n",
    " 'card1',\n",
    " 'card2',\n",
    " 'card3',\n",
    " 'card4',\n",
    " 'card5',\n",
    " 'card6',\n",
    " 'addr1',\n",
    " 'addr2',\n",
    " 'dist1',\n",
    " 'dist2',\n",
    " 'P_emaildomain',\n",
    " 'R_emaildomain',\n",
    " 'C1',\n",
    " 'C2',\n",
    " 'C3',\n",
    " 'C4',\n",
    " 'C5',\n",
    " 'C6',\n",
    " 'C7',\n",
    " 'C8',\n",
    " 'C9',\n",
    " 'C10',\n",
    " 'C11',\n",
    " 'C12',\n",
    " 'C13',\n",
    " 'C14',\n",
    " 'D1',\n",
    " 'D2',\n",
    " 'D3',\n",
    " 'D4',\n",
    " 'D5',\n",
    " 'D6',\n",
    " 'D7',\n",
    " 'D8',\n",
    " 'D9',\n",
    " 'D10',\n",
    " 'D11',\n",
    " 'D12',\n",
    " 'D13',\n",
    " 'D14',\n",
    " 'D15',\n",
    " 'M1',\n",
    " 'M2',\n",
    " 'M3',\n",
    " 'M4',\n",
    " 'M5',\n",
    " 'M6',\n",
    " 'M7',\n",
    " 'M8',\n",
    " 'M9',\n",
    " 'id_01',\n",
    " 'id_02',\n",
    " 'id_03',\n",
    " 'id_04',\n",
    " 'id_05',\n",
    " 'id_06',\n",
    " 'id_07',\n",
    " 'id_08',\n",
    " 'id_09',\n",
    " 'id_10',\n",
    " 'id_11',\n",
    " 'id_12',\n",
    " 'id_13',\n",
    " 'id_14',\n",
    " 'id_15',\n",
    " 'id_16',\n",
    " 'id_17',\n",
    " 'id_18',\n",
    " 'id_19',\n",
    " 'id_20',\n",
    " 'id_21',\n",
    " 'id_22',\n",
    " 'id_23',\n",
    " 'id_24',\n",
    " 'id_25',\n",
    " 'id_26',\n",
    " 'id_27',\n",
    " 'id_28',\n",
    " 'id_29',\n",
    " 'id_30',\n",
    " 'id_31',\n",
    " 'id_32',\n",
    " 'id_33',\n",
    " 'id_34',\n",
    " 'id_35',\n",
    " 'id_36',\n",
    " 'id_37',\n",
    " 'id_38',\n",
    " 'DeviceType',\n",
    " 'DeviceInfo',\n",
    " 'V1',\n",
    " 'V3',\n",
    " 'V4',\n",
    " 'V6',\n",
    " 'V8',\n",
    " 'V11',\n",
    " 'V13',\n",
    " 'V14',\n",
    " 'V17',\n",
    " 'V20',\n",
    " 'V23',\n",
    " 'V26',\n",
    " 'V27',\n",
    " 'V30',\n",
    " 'V36',\n",
    " 'V37',\n",
    " 'V40',\n",
    " 'V41',\n",
    " 'V44',\n",
    " 'V47',\n",
    " 'V48',\n",
    " 'V54',\n",
    " 'V56',\n",
    " 'V59',\n",
    " 'V62',\n",
    " 'V65',\n",
    " 'V67',\n",
    " 'V68',\n",
    " 'V70',\n",
    " 'V76',\n",
    " 'V78',\n",
    " 'V80',\n",
    " 'V82',\n",
    " 'V86',\n",
    " 'V88',\n",
    " 'V89',\n",
    " 'V91',\n",
    " 'V96',\n",
    " 'V98',\n",
    " 'V99',\n",
    " 'V104',\n",
    " 'V107',\n",
    " 'V108',\n",
    " 'V111',\n",
    " 'V115',\n",
    " 'V117',\n",
    " 'V120',\n",
    " 'V121',\n",
    " 'V123',\n",
    " 'V124',\n",
    " 'V127',\n",
    " 'V129',\n",
    " 'V130',\n",
    " 'V136',\n",
    " 'V138',\n",
    " 'V139',\n",
    " 'V142',\n",
    " 'V147',\n",
    " 'V156',\n",
    " 'V162',\n",
    " 'V165',\n",
    " 'V160',\n",
    " 'V166',\n",
    " 'V178',\n",
    " 'V176',\n",
    " 'V173',\n",
    " 'V182',\n",
    " 'V187',\n",
    " 'V203',\n",
    " 'V205',\n",
    " 'V207',\n",
    " 'V215',\n",
    " 'V169',\n",
    " 'V171',\n",
    " 'V175',\n",
    " 'V180',\n",
    " 'V185',\n",
    " 'V188',\n",
    " 'V198',\n",
    " 'V210',\n",
    " 'V209',\n",
    " 'V218',\n",
    " 'V223',\n",
    " 'V224',\n",
    " 'V226',\n",
    " 'V228',\n",
    " 'V229',\n",
    " 'V235',\n",
    " 'V240',\n",
    " 'V258',\n",
    " 'V257',\n",
    " 'V253',\n",
    " 'V252',\n",
    " 'V260',\n",
    " 'V261',\n",
    " 'V264',\n",
    " 'V266',\n",
    " 'V267',\n",
    " 'V274',\n",
    " 'V277',\n",
    " 'V220',\n",
    " 'V221',\n",
    " 'V234',\n",
    " 'V238',\n",
    " 'V250',\n",
    " 'V271',\n",
    " 'V294',\n",
    " 'V284',\n",
    " 'V285',\n",
    " 'V286',\n",
    " 'V291',\n",
    " 'V297',\n",
    " 'V303',\n",
    " 'V305',\n",
    " 'V307',\n",
    " 'V309',\n",
    " 'V310',\n",
    " 'V320',\n",
    " 'V281',\n",
    " 'V283',\n",
    " 'V289',\n",
    " 'V296',\n",
    " 'V301',\n",
    " 'V314',\n",
    " 'V332',\n",
    " 'V325',\n",
    " 'V335',\n",
    " 'V338']"
   ]
  },
  {
   "cell_type": "code",
   "execution_count": 15,
   "id": "574ae253-bca0-4f3b-83f5-1275f339624d",
   "metadata": {},
   "outputs": [],
   "source": [
    "train = train[train_cols]\n",
    "test = test[test_cols]"
   ]
  },
  {
   "cell_type": "code",
   "execution_count": 21,
   "id": "8e0af949-258f-41d1-9385-2fc4ff592c36",
   "metadata": {},
   "outputs": [],
   "source": [
    "train['D9'] = (train['TransactionDT'] % (3600*24) / 3600 // 1 )\n",
    "test['D9'] = (test['TransactionDT'] % (3600*24) / 3600 // 1 )"
   ]
  },
  {
   "cell_type": "code",
   "execution_count": 23,
   "id": "df654713-4658-4b7b-9979-4e56d5931ea7",
   "metadata": {},
   "outputs": [
    {
     "data": {
      "text/plain": [
       "0"
      ]
     },
     "execution_count": 23,
     "metadata": {},
     "output_type": "execute_result"
    }
   ],
   "source": [
    "train['D9'].isnull().sum()"
   ]
  },
  {
   "cell_type": "code",
   "execution_count": 17,
   "id": "e5b76468-dc88-483c-8b4f-b83d2d77bfe5",
   "metadata": {},
   "outputs": [
    {
     "data": {
      "text/plain": [
       "(222, 221)"
      ]
     },
     "execution_count": 17,
     "metadata": {},
     "output_type": "execute_result"
    }
   ],
   "source": [
    "len(train_cols), len(test_cols)"
   ]
  },
  {
   "cell_type": "code",
   "execution_count": 19,
   "id": "c5197009-5734-40f3-ba62-b0805e738d86",
   "metadata": {},
   "outputs": [
    {
     "data": {
      "text/plain": [
       "((590540, 222), (506691, 221))"
      ]
     },
     "execution_count": 19,
     "metadata": {},
     "output_type": "execute_result"
    }
   ],
   "source": [
    "train.shape, test.shape"
   ]
  },
  {
   "cell_type": "code",
   "execution_count": 25,
   "id": "f9f3b604-8b7b-46a6-a9eb-1f76206a4459",
   "metadata": {},
   "outputs": [],
   "source": [
    "y = train['isFraud']\n",
    "X = train.drop(columns='isFraud')"
   ]
  },
  {
   "cell_type": "code",
   "execution_count": 27,
   "id": "fe2e7e94-ca70-4913-b8bf-8db6d85ebf67",
   "metadata": {},
   "outputs": [
    {
     "data": {
      "text/plain": [
       "((590540,), (590540, 221), (506691, 221))"
      ]
     },
     "execution_count": 27,
     "metadata": {},
     "output_type": "execute_result"
    }
   ],
   "source": [
    "y.shape, X.shape, test.shape"
   ]
  },
  {
   "cell_type": "code",
   "execution_count": 29,
   "id": "05af04c8-9338-4b9a-ac2c-ab10b7b9db79",
   "metadata": {},
   "outputs": [],
   "source": [
    "from sklearn.preprocessing import LabelEncoder\n",
    "\n",
    "def label_encod(train, test):\n",
    "    for col in tqdm(train.columns):\n",
    "        if train[col].dtype == 'object':\n",
    "            le = LabelEncoder()\n",
    "            le.fit(list(train[col].astype(str).values) + list(test[col].astype(str).values))\n",
    "            train[col] = le.transform(list(train[col].astype(str).values))\n",
    "            test[col] = le.transform(list(test[col].astype(str).values))  \n",
    "\n",
    "    return train, test\n",
    "\n",
    "def preprocessing(train, test, categorical_cols=categorical_cols):\n",
    "    for col in tqdm(train.columns):\n",
    "        if train[col].dtype == 'O':\n",
    "            train[col] = train[col].fillna('unseen_before_label')\n",
    "            test[col]  = test[col].fillna('unseen_before_label')\n",
    "            \n",
    "            train[col] = train[col].astype(str)\n",
    "            test[col] = test[col].astype(str)\n",
    "            \n",
    "        if train[col].dtype == 'object':\n",
    "            train[col] = train[col].astype(float).fillna(-999)\n",
    "            test[col]  = test[col].astype(float).fillna(-999)\n",
    "            \n",
    "            le = LabelEncoder()\n",
    "            le.fit(list(train[col])+list(test[col]))\n",
    "            train[col] = le.transform(train[col])\n",
    "            test[col]  = le.transform(test[col])"
   ]
  },
  {
   "cell_type": "code",
   "execution_count": 31,
   "id": "c8b72f05-8352-439f-b639-f36eb067fdb3",
   "metadata": {},
   "outputs": [
    {
     "name": "stderr",
     "output_type": "stream",
     "text": [
      "100%|█████████████████████████████████████████████████████████████████████████████| 221/221 [00:00<00:00, 31402.57it/s]\n"
     ]
    }
   ],
   "source": [
    "X, test = label_encod(X, test)"
   ]
  },
  {
   "cell_type": "code",
   "execution_count": 33,
   "id": "993c8b38-72fe-4f1e-9fc2-8d26ef5c42c4",
   "metadata": {},
   "outputs": [],
   "source": [
    "from sklearn.model_selection import train_test_split\n",
    "\n",
    "X_tr, X_v, y_tr, y_v = train_test_split(X, y, test_size=0.25,\n",
    "                                       random_state=2024,\n",
    "                                       stratify=y)"
   ]
  },
  {
   "cell_type": "code",
   "execution_count": 34,
   "id": "71d724b7-0a02-4100-b82d-c5f78e9c964e",
   "metadata": {},
   "outputs": [
    {
     "data": {
      "text/plain": [
       "((442905, 221), (147635, 221), (442905,), (147635,))"
      ]
     },
     "execution_count": 34,
     "metadata": {},
     "output_type": "execute_result"
    }
   ],
   "source": [
    "X_tr.shape, X_v.shape, y_tr.shape, y_v.shape"
   ]
  },
  {
   "cell_type": "code",
   "execution_count": 37,
   "id": "af848f3b-7f9c-4a4d-a03f-63f3e242b448",
   "metadata": {},
   "outputs": [],
   "source": [
    "import lightgbm as lgb\n",
    "\n",
    "train_data = lgb.Dataset(X_tr, label=y_tr)\n",
    "valid_data = lgb.Dataset(X_v, label=y_v)"
   ]
  },
  {
   "cell_type": "code",
   "execution_count": 38,
   "id": "c83f6480-dab0-4216-bfb3-b3c89a5a5b38",
   "metadata": {},
   "outputs": [],
   "source": [
    "params = {\n",
    "    'objective': 'binary',\n",
    "    'metric': 'auc'\n",
    "}"
   ]
  },
  {
   "cell_type": "code",
   "execution_count": 39,
   "id": "6e6856e8-ae7a-4206-8f66-08dceffceca4",
   "metadata": {},
   "outputs": [
    {
     "name": "stdout",
     "output_type": "stream",
     "text": [
      "[LightGBM] [Info] Number of positive: 15497, number of negative: 427408\n",
      "[LightGBM] [Info] Auto-choosing row-wise multi-threading, the overhead of testing was 0.696738 seconds.\n",
      "You can set `force_row_wise=true` to remove the overhead.\n",
      "And if memory is not enough, you can set `force_col_wise=true`.\n",
      "[LightGBM] [Info] Total Bins 20376\n",
      "[LightGBM] [Info] Number of data points in the train set: 442905, number of used features: 220\n",
      "[LightGBM] [Info] [binary:BoostFromScore]: pavg=0.034989 -> initscore=-3.317093\n",
      "[LightGBM] [Info] Start training from score -3.317093\n",
      "Training until validation scores don't improve for 100 rounds\n",
      "[100]\ttraining's auc: 0.942449\tvalid_1's auc: 0.92781\n",
      "[200]\ttraining's auc: 0.962221\tvalid_1's auc: 0.941014\n",
      "[300]\ttraining's auc: 0.972776\tvalid_1's auc: 0.946875\n",
      "[400]\ttraining's auc: 0.980642\tvalid_1's auc: 0.952262\n",
      "[500]\ttraining's auc: 0.984971\tvalid_1's auc: 0.954758\n",
      "[600]\ttraining's auc: 0.98825\tvalid_1's auc: 0.957358\n",
      "[700]\ttraining's auc: 0.991045\tvalid_1's auc: 0.959468\n",
      "[800]\ttraining's auc: 0.992931\tvalid_1's auc: 0.960898\n",
      "[900]\ttraining's auc: 0.994349\tvalid_1's auc: 0.962237\n",
      "[1000]\ttraining's auc: 0.995465\tvalid_1's auc: 0.963538\n",
      "[1100]\ttraining's auc: 0.996379\tvalid_1's auc: 0.964867\n",
      "[1200]\ttraining's auc: 0.997204\tvalid_1's auc: 0.965691\n",
      "[1300]\ttraining's auc: 0.997663\tvalid_1's auc: 0.966442\n",
      "[1400]\ttraining's auc: 0.998067\tvalid_1's auc: 0.966819\n",
      "[1500]\ttraining's auc: 0.99853\tvalid_1's auc: 0.967258\n",
      "[1600]\ttraining's auc: 0.998833\tvalid_1's auc: 0.967887\n",
      "[1700]\ttraining's auc: 0.999081\tvalid_1's auc: 0.968179\n",
      "[1800]\ttraining's auc: 0.999267\tvalid_1's auc: 0.968546\n",
      "[1900]\ttraining's auc: 0.999478\tvalid_1's auc: 0.969006\n",
      "[2000]\ttraining's auc: 0.999561\tvalid_1's auc: 0.969274\n",
      "[2100]\ttraining's auc: 0.999688\tvalid_1's auc: 0.969637\n",
      "[2200]\ttraining's auc: 0.999763\tvalid_1's auc: 0.969895\n",
      "[2300]\ttraining's auc: 0.999804\tvalid_1's auc: 0.969784\n",
      "Early stopping, best iteration is:\n",
      "[2221]\ttraining's auc: 0.999772\tvalid_1's auc: 0.969927\n"
     ]
    }
   ],
   "source": [
    "callbacks = [lgb.early_stopping(stopping_rounds=100), \n",
    "             lgb.log_evaluation(period=100)]\n",
    "clf = lgb.train(params, train_data, \n",
    "                num_boost_round = 10000, \n",
    "                valid_sets = [train_data, valid_data],\n",
    "                callbacks=callbacks)"
   ]
  },
  {
   "cell_type": "code",
   "execution_count": 42,
   "id": "184ca583-1039-4425-a6d1-f1c81f15d639",
   "metadata": {},
   "outputs": [],
   "source": [
    "preds = clf.predict(test)"
   ]
  },
  {
   "cell_type": "code",
   "execution_count": 43,
   "id": "9b200196-954e-47d9-ad7a-dc3c8f43e665",
   "metadata": {},
   "outputs": [],
   "source": [
    "sub1 = pd.read_csv(\"./data/sample_submission.csv\")\n",
    "sub1['isFraud'] = preds\n",
    "sub1.to_csv('result_D.csv', index=False)"
   ]
  },
  {
   "cell_type": "code",
   "execution_count": 46,
   "id": "837f0146-c4fa-4f57-8925-5aa6a36bc695",
   "metadata": {},
   "outputs": [
    {
     "data": {
      "image/png": "[encoded data removed]",
      "text/plain": [
       "<Figure size 1400x600 with 1 Axes>"
      ]
     },
     "metadata": {},
     "output_type": "display_data"
    }
   ],
   "source": [
    "importance = clf.feature_importance()[:40]\n",
    "feature_names = X.columns[:40]\n",
    "\n",
    "feature_importance_df = pd.DataFrame({'feature': feature_names, 'importance': importance})\n",
    "feature_importance_df = feature_importance_df.sort_values(by='importance', ascending=False)\n",
    "\n",
    "# print(feature_importance_df)\n",
    "\n",
    "# 피처 임포턴스 시각화\n",
    "plt.figure(figsize=(14, 6))\n",
    "plt.barh(feature_importance_df['feature'], feature_importance_df['importance'])\n",
    "plt.xlabel('Feature Importance')\n",
    "plt.ylabel('Feature')\n",
    "plt.title('LightGBM Feature Importance')\n",
    "plt.gca().invert_yaxis()\n",
    "plt.show()"
   ]
  },
  {
   "cell_type": "code",
   "execution_count": 63,
   "id": "9ad77f31-8959-4b48-add7-2e9afbffe709",
   "metadata": {},
   "outputs": [
    {
     "name": "stdout",
     "output_type": "stream",
     "text": [
      "           feature  importance\n",
      "3            card1        4738\n",
      "0    TransactionDT        4525\n",
      "1   TransactionAmt        4232\n",
      "4            card2        4062\n",
      "9            addr1        3699\n",
      "38             D10        1790\n",
      "32              D4        1790\n",
      "11           dist1        1658\n",
      "13   P_emaildomain        1612\n",
      "7            card5        1507\n",
      "27             C13        1434\n",
      "39             D11        1321\n",
      "30              D2        1166\n",
      "15              C1         955\n",
      "36              D8         946\n",
      "33              D5         941\n",
      "29              D1         892\n",
      "31              D3         858\n",
      "16              C2         784\n",
      "12           dist2         745\n"
     ]
    }
   ],
   "source": [
    "print(feature_importance_df[:20]) # 1번째"
   ]
  },
  {
   "cell_type": "code",
   "execution_count": 124,
   "id": "ecd63878-f62a-457e-aee8-637b7733fb06",
   "metadata": {},
   "outputs": [
    {
     "name": "stdout",
     "output_type": "stream",
     "text": [
      "           feature  importance\n",
      "4            card1        5376\n",
      "0    TransactionID        5159\n",
      "2   TransactionAmt        4877\n",
      "5            card2        4705\n",
      "10           addr1        4299\n",
      "44             D15        2674\n",
      "33              D4        2062\n",
      "39             D10        1931\n",
      "12           dist1        1930\n",
      "8            card5        1849\n",
      "14   P_emaildomain        1793\n",
      "28             C13        1790\n",
      "40             D11        1583\n",
      "31              D2        1354\n",
      "16              C1        1158\n",
      "37              D8        1077\n",
      "34              D5        1021\n",
      "32              D3         972\n",
      "30              D1         969\n",
      "17              C2         871\n"
     ]
    }
   ],
   "source": [
    "print(feature_importance_df[:20]) # 0번쨰"
   ]
  },
  {
   "cell_type": "markdown",
   "id": "facbb047-e7e8-452f-bb14-31ba52c7f312",
   "metadata": {},
   "source": [
    "#### preprocessing(X,test)"
   ]
  },
  {
   "cell_type": "code",
   "execution_count": 104,
   "id": "6b24db56-825c-4870-8ed8-0efc6baf90cb",
   "metadata": {},
   "outputs": [
    {
     "data": {
      "text/plain": [
       "TransactionID          0\n",
       "TransactionDT          0\n",
       "TransactionAmt         0\n",
       "ProductCD              0\n",
       "card1                  0\n",
       "                   ...  \n",
       "V314                1269\n",
       "V332              508189\n",
       "V325              508189\n",
       "V335              508189\n",
       "V338              508189\n",
       "Length: 222, dtype: int64"
      ]
     },
     "execution_count": 104,
     "metadata": {},
     "output_type": "execute_result"
    }
   ],
   "source": [
    "X.isnull().sum()"
   ]
  },
  {
   "cell_type": "code",
   "execution_count": null,
   "id": "2067e308-e1e8-4dc3-9036-36131f3ec357",
   "metadata": {},
   "outputs": [],
   "source": []
  }
 ],
 "metadata": {
  "kernelspec": {
   "display_name": "Python 3 (ipykernel)",
   "language": "python",
   "name": "python3"
  },
  "language_info": {
   "codemirror_mode": {
    "name": "ipython",
    "version": 3
   },
   "file_extension": ".py",
   "mimetype": "text/x-python",
   "name": "python",
   "nbconvert_exporter": "python",
   "pygments_lexer": "ipython3",
   "version": "3.12.4"
  }
 },
 "nbformat": 4,
 "nbformat_minor": 5
}
