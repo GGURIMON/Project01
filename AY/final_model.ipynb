{
 "cells": [
  {
   "cell_type": "code",
   "execution_count": 1,
   "metadata": {},
   "outputs": [],
   "source": [
    "import pandas as pd\n",
    "import numpy as np\n",
    "import matplotlib.pyplot as plt\n",
    "from sklearn.preprocessing import StandardScaler, LabelEncoder\n",
    "from sklearn.model_selection import train_test_split\n",
    "import datetime\n",
    "import hashlib\n",
    "import os\n",
    "import gc\n",
    "pd.options.display.max_rows = 500\n",
    "pd.options.display.max_columns = 200"
   ]
  },
  {
   "cell_type": "code",
   "execution_count": 2,
   "metadata": {},
   "outputs": [
    {
     "data": {
      "text/plain": [
       "0"
      ]
     },
     "execution_count": 2,
     "metadata": {},
     "output_type": "execute_result"
    }
   ],
   "source": [
    "train_transaction = pd.read_csv('./data/train_transaction.csv', index_col='TransactionID')\n",
    "train_identity = pd.read_csv('./data/train_identity.csv', index_col='TransactionID')\n",
    "train = train_transaction.merge(train_identity, how='left', left_index=True, right_index=True)\n",
    "del train_transaction, train_identity\n",
    "gc.collect()"
   ]
  },
  {
   "cell_type": "code",
   "execution_count": 3,
   "metadata": {},
   "outputs": [
    {
     "data": {
      "text/plain": [
       "0"
      ]
     },
     "execution_count": 3,
     "metadata": {},
     "output_type": "execute_result"
    }
   ],
   "source": [
    "test_transaction = pd.read_csv('./data/test_transaction.csv', index_col='TransactionID')\n",
    "test_identity = pd.read_csv('./data/test_identity.csv', index_col='TransactionID')\n",
    "test = test_transaction.merge(test_identity, how='left', left_index=True, right_index=True)\n",
    "del test_transaction, test_identity\n",
    "gc.collect()"
   ]
  },
  {
   "cell_type": "code",
   "execution_count": 4,
   "metadata": {},
   "outputs": [],
   "source": [
    "test.columns = test.columns.str.replace('-', '_')"
   ]
  },
  {
   "cell_type": "code",
   "execution_count": 1,
   "metadata": {},
   "outputs": [],
   "source": [
    "selected_features = ['TransactionDT',\n",
    " 'TransactionAmt','card1','card2','card3','card5',\n",
    " 'addr1','addr2',\n",
    " 'C1','C2','C3','C4','C5','C6','C7','C8','C9','C10','C11','C12','C13','C14',\n",
    " 'D1','D2','D3','D4','D5','D6','D7','D8', 'D9', 'D10','D11','D12','D13','D14','D15','V307',\n",
    " 'ProductCD',\n",
    " 'card4',\n",
    " 'card6',\n",
    " 'P_emaildomain',\n",
    " 'R_emaildomain', \n",
    " 'dist1','id_30','id_31', 'id_32', 'id_33', 'id_34',\n",
    " 'DeviceType','DeviceInfo',\n",
    "  'V314', 'V310', 'V127', 'V78', 'V62', 'M1', 'M2', 'M3', 'M4', 'M5', 'M6', 'M7', 'M8']\n"
   ]
  },
  {
   "cell_type": "code",
   "execution_count": 2,
   "metadata": {},
   "outputs": [
    {
     "data": {
      "text/plain": [
       "64"
      ]
     },
     "execution_count": 2,
     "metadata": {},
     "output_type": "execute_result"
    }
   ],
   "source": [
    "len(selected_features) # -7"
   ]
  },
  {
   "cell_type": "code",
   "execution_count": 8,
   "metadata": {},
   "outputs": [],
   "source": [
    "train = train[selected_features+['isFraud']]\n",
    "test = test[selected_features]"
   ]
  },
  {
   "cell_type": "code",
   "execution_count": 9,
   "metadata": {},
   "outputs": [
    {
     "data": {
      "text/plain": [
       "((590540, 65), (506691, 64))"
      ]
     },
     "execution_count": 9,
     "metadata": {},
     "output_type": "execute_result"
    }
   ],
   "source": [
    "train.shape, test.shape"
   ]
  },
  {
   "cell_type": "code",
   "execution_count": 10,
   "metadata": {},
   "outputs": [],
   "source": [
    "# train = train[selected_features + ['isFraud']]\n",
    "# test = test[selected_features]"
   ]
  },
  {
   "cell_type": "code",
   "execution_count": 11,
   "metadata": {},
   "outputs": [],
   "source": [
    "# train = train.fillna(-999)\n",
    "# test = test.fillna(-999)"
   ]
  },
  {
   "cell_type": "code",
   "execution_count": 12,
   "metadata": {},
   "outputs": [],
   "source": [
    "train['D9'] = (train['TransactionDT'] % (3600*24) / 3600 // 1 )\n",
    "test['D9'] = (test['TransactionDT'] % (3600*24) / 3600 // 1 )"
   ]
  },
  {
   "cell_type": "code",
   "execution_count": 13,
   "metadata": {},
   "outputs": [],
   "source": [
    "train['uid'] = train['card1'].astype(str)+'_'+train['card2'].astype(str)+'_'+train['card3'].astype(str)+'_'+train['card4'].astype(str)\n",
    "test['uid'] = test['card1'].astype(str)+'_'+test['card2'].astype(str)+'_'+test['card3'].astype(str)+'_'+test['card4'].astype(str)\n",
    "\n",
    "train['uid2'] = train['uid'].astype(str)+'_'+train['addr1'].astype(str)+'_'+train['addr2'].astype(str)\n",
    "test['uid2'] = test['uid'].astype(str)+'_'+test['addr1'].astype(str)+'_'+test['addr2'].astype(str)\n",
    "\n",
    "i_cols = ['card1','card2','card3','card5','uid','uid2']\n",
    "\n",
    "for col in i_cols:\n",
    "    for agg_type in ['mean', 'std', 'nunique']:\n",
    "        new_col_name = col+'_TransactionAmt_'+agg_type\n",
    "        temp = pd.concat([train[[col, 'TransactionAmt']], test[[col,'TransactionAmt']]])\n",
    "\n",
    "        temp = temp.groupby([col])['TransactionAmt'].agg([agg_type]).reset_index().rename(\n",
    "                                                columns={agg_type: new_col_name})\n",
    "\n",
    "        temp.index = list(temp[col])\n",
    "\n",
    "        temp = temp[new_col_name].to_dict()   \n",
    "\n",
    "        train[new_col_name] = train[col].map(temp)\n",
    "        test[new_col_name]  = test[col].map(temp)"
   ]
  },
  {
   "cell_type": "code",
   "execution_count": 14,
   "metadata": {},
   "outputs": [
    {
     "name": "stdout",
     "output_type": "stream",
     "text": [
      "1. bank_type 및 address_match 생성\n",
      "                 bank_type     address_match\n",
      "TransactionID                               \n",
      "2987000        150.0_142.0  150.0_142.0_87.0\n",
      "2987001        150.0_102.0  150.0_102.0_87.0\n",
      "2987002        150.0_166.0  150.0_166.0_87.0\n",
      "2987003        150.0_117.0  150.0_117.0_87.0\n",
      "2987004        150.0_102.0  150.0_102.0_87.0\n",
      "                 bank_type     address_match\n",
      "TransactionID                               \n",
      "3663549        150.0_226.0  150.0_226.0_87.0\n",
      "3663550        150.0_226.0  150.0_226.0_87.0\n",
      "3663551        150.0_226.0  150.0_226.0_87.0\n",
      "3663552        150.0_166.0  150.0_166.0_87.0\n",
      "3663553        150.0_117.0  150.0_117.0_87.0\n"
     ]
    }
   ],
   "source": [
    "train['bank_type'] = train['card3'].astype(str)+'_'+train['card5'].astype(str)\n",
    "test['bank_type']  = test['card3'].astype(str)+'_'+test['card5'].astype(str)\n",
    "\n",
    "train['address_match'] = train['bank_type'].astype(str)+'_'+train['addr2'].astype(str)\n",
    "test['address_match']  = test['bank_type'].astype(str)+'_'+test['addr2'].astype(str)\n",
    "print(\"1. bank_type 및 address_match 생성\")\n",
    "print(train[['bank_type', 'address_match']].head())\n",
    "print(test[['bank_type', 'address_match']].head())"
   ]
  },
  {
   "cell_type": "code",
   "execution_count": 15,
   "metadata": {},
   "outputs": [
    {
     "name": "stdout",
     "output_type": "stream",
     "text": [
      "\n",
      "2. 빈도 인코딩 후\n",
      "               bank_type  address_match\n",
      "TransactionID                          \n",
      "2987000            309.0          309.0\n",
      "2987001          44082.0        43735.0\n",
      "2987002         101292.0       101179.0\n",
      "2987003          47059.0        46950.0\n",
      "2987004          44082.0        43735.0\n",
      "               bank_type  address_match\n",
      "TransactionID                          \n",
      "3663549         531549.0       526981.0\n",
      "3663550         531549.0       526981.0\n",
      "3663551         531549.0       526981.0\n",
      "3663552         101292.0       101179.0\n",
      "3663553          47059.0        46950.0\n"
     ]
    }
   ],
   "source": [
    "for col in ['address_match','bank_type']:\n",
    "    temp = pd.concat([train[[col]], test[[col]]])\n",
    "    temp[col] = np.where(temp[col].str.contains('nan'), np.nan, temp[col])\n",
    "    temp = temp.dropna()\n",
    "    fq_encode = temp[col].value_counts().to_dict()   \n",
    "    train[col] = train[col].map(fq_encode)\n",
    "    test[col]  = test[col].map(fq_encode)\n",
    "print(\"\\n2. 빈도 인코딩 후\")\n",
    "print(train[['bank_type', 'address_match']].head())\n",
    "print(test[['bank_type', 'address_match']].head())"
   ]
  },
  {
   "cell_type": "code",
   "execution_count": 16,
   "metadata": {},
   "outputs": [
    {
     "name": "stdout",
     "output_type": "stream",
     "text": [
      "\n",
      "3. 상대적 비율 계산 후\n",
      "               bank_type  address_match\n",
      "TransactionID                          \n",
      "2987000            309.0       1.000000\n",
      "2987001          44082.0       0.992128\n",
      "2987002         101292.0       0.998884\n",
      "2987003          47059.0       0.997684\n",
      "2987004          44082.0       0.992128\n",
      "               bank_type  address_match\n",
      "TransactionID                          \n",
      "3663549         531549.0       0.991406\n",
      "3663550         531549.0       0.991406\n",
      "3663551         531549.0       0.991406\n",
      "3663552         101292.0       0.998884\n",
      "3663553          47059.0       0.997684\n"
     ]
    }
   ],
   "source": [
    "train['address_match'] = train['address_match']/train['bank_type'] \n",
    "test['address_match']  = test['address_match']/test['bank_type']\n",
    "print(\"\\n3. 상대적 비율 계산 후\")\n",
    "print(train[['bank_type', 'address_match']].head())\n",
    "print(test[['bank_type', 'address_match']].head())"
   ]
  },
  {
   "cell_type": "code",
   "execution_count": 17,
   "metadata": {},
   "outputs": [
    {
     "name": "stdout",
     "output_type": "stream",
     "text": [
      "TransactionID\n",
      "2987000   2017-12-01 00:00:00\n",
      "2987001   2017-12-01 00:00:01\n",
      "2987002   2017-12-01 00:01:09\n",
      "2987003   2017-12-01 00:01:39\n",
      "2987004   2017-12-01 00:01:46\n",
      "Name: timeblock, dtype: datetime64[ns]\n",
      "TransactionID\n",
      "3663549   2018-07-01 00:00:24\n",
      "3663550   2018-07-01 00:01:03\n",
      "3663551   2018-07-01 00:01:50\n",
      "3663552   2018-07-01 00:01:50\n",
      "3663553   2018-07-01 00:01:57\n",
      "Name: timeblock, dtype: datetime64[ns]\n"
     ]
    }
   ],
   "source": [
    "start_date = datetime.datetime.strptime('2017.11.30', '%Y.%m.%d')\n",
    "train['timeblock'] = train['TransactionDT'].apply(lambda x: datetime.timedelta(seconds=x) + start_date)\n",
    "test['timeblock'] = test['TransactionDT'].apply(lambda x: datetime.timedelta(seconds=x) + start_date)\n",
    "\n",
    "tb = train['timeblock']\n",
    "print(train.timeblock.head())\n",
    "train.drop('timeblock', axis=1, inplace=True)\n",
    "train.insert(0, 'timeblock', tb)\n",
    "\n",
    "tb = test['timeblock']\n",
    "print(test.timeblock.head())\n",
    "test.drop('timeblock', axis=1, inplace=True)\n",
    "test.insert(0, 'timeblock', tb)"
   ]
  },
  {
   "cell_type": "code",
   "execution_count": 18,
   "metadata": {},
   "outputs": [],
   "source": [
    "def account_start_date(val):\n",
    "    if np.isnan(val):\n",
    "        return np.NaN\n",
    "    else:\n",
    "        days = int(str(val).split('.')[0])\n",
    "        return pd.Timedelta(str(days) + ' days')"
   ]
  },
  {
   "cell_type": "code",
   "execution_count": 19,
   "metadata": {},
   "outputs": [],
   "source": [
    "for i in ['D1', 'D2', 'D4', 'D8', 'D10', 'D15']:\n",
    "    train['account_start_day'] = train[i].apply(account_start_date)\n",
    "    test['account_start_day'] = test[i].apply(account_start_date)\n",
    "\n",
    "    # account_make_date 컴퓨터가 인식할 수 있도록 수치형으로 바꿔 줌. \n",
    "    train['account_make_date'] = (train['timeblock'] - train['account_start_day']).dt.date\n",
    "    test['account_make_date'] = (test['timeblock'] - test['account_start_day']).dt.date\n",
    "\n",
    "    train['account_make_date_{}'.format(i)] = (10000 * pd.to_datetime(train['account_make_date']).dt.year) + (100 * pd.to_datetime(train['account_make_date']).dt.month) + (1 * pd.to_datetime(train['account_make_date']).dt.day)\n",
    "    test['account_make_date_{}'.format(i)] = (10000 * pd.to_datetime(test['account_make_date']).dt.year) + (100 * pd.to_datetime(test['account_make_date']).dt.month) + (1 * pd.to_datetime(test['account_make_date']).dt.day)"
   ]
  },
  {
   "cell_type": "code",
   "execution_count": 20,
   "metadata": {},
   "outputs": [],
   "source": [
    "del train['account_make_date']; del test['account_make_date']\n",
    "del train['account_start_day']; del test['account_start_day']"
   ]
  },
  {
   "cell_type": "code",
   "execution_count": 21,
   "metadata": {},
   "outputs": [],
   "source": [
    "train['date'] = pd.to_datetime(train['timeblock']).dt.date\n",
    "test['date'] = pd.to_datetime(test['timeblock']).dt.date\n",
    "\n",
    "train['year'] = train['timeblock'].dt.year\n",
    "train['month'] = train['timeblock'].dt.month\n",
    "train['day'] = train['timeblock'].dt.day\n",
    "train['dayofweek'] = train['timeblock'].dt.dayofweek\n",
    "train['hour'] = train['timeblock'].dt.hour\n",
    "# train['minute'] = train['timeblock'].dt.minute\n",
    "# train['second'] = train['timeblock'].dt.second\n",
    "\n",
    "test['year'] = test['timeblock'].dt.year\n",
    "test['month'] = test['timeblock'].dt.month\n",
    "test['day'] = test['timeblock'].dt.day\n",
    "test['dayofweek'] = test['timeblock'].dt.dayofweek\n",
    "test['hour'] = test['timeblock'].dt.hour\n",
    "# test['minute'] = test['timeblock'].dt.minute\n",
    "# test['second'] = test['timeblock'].dt.second"
   ]
  },
  {
   "cell_type": "code",
   "execution_count": 22,
   "metadata": {},
   "outputs": [],
   "source": [
    "# 이전 거래와의 시간 차이 계산\n",
    "train['prev_transaction_diff'] = train.groupby('uid')['TransactionDT'].diff().fillna(-1)\n",
    "test['prev_transaction_diff'] = test.groupby('uid')['TransactionDT'].diff().fillna(-1)"
   ]
  },
  {
   "cell_type": "code",
   "execution_count": 23,
   "metadata": {},
   "outputs": [],
   "source": [
    "def card_info_hash(x):\n",
    "    s = (str(x['card1'])+\n",
    "         str(x['card2'])+\n",
    "         str(x['card3'])+\n",
    "         str(x['card4'])+\n",
    "         str(x['card5'])+\n",
    "         str(x['card6']))\n",
    "    h = hashlib.sha256(s.encode('utf-8')).hexdigest()[0:15]\n",
    "    return h\n",
    "\n",
    "def device_hash(x):\n",
    "    s =  str(x['id_30'])+str(x['id_31'])+str(x['id_32'])+str(x['id_33'])+str( x['DeviceType'])+ str(x['DeviceInfo'])\n",
    "    h = hashlib.sha256(s.encode('utf-8')).hexdigest()[0:15]\n",
    "    return h\n",
    "\n",
    "train['card_hash'] = train.apply(lambda x: card_info_hash(x), axis=1   )\n",
    "train['device_hash'] = train.apply(lambda x: device_hash(x), axis=1   )\n",
    "\n",
    "test['card_hash'] = test.apply(lambda x: card_info_hash(x), axis=1   )\n",
    "test['device_hash'] = test.apply(lambda x: device_hash(x), axis=1   )"
   ]
  },
  {
   "cell_type": "code",
   "execution_count": 24,
   "metadata": {},
   "outputs": [],
   "source": [
    "train['V307_diff'] = train['V307'].diff().shift(-1)\n",
    "train['difference'] = train['V307_diff'] - train['TransactionAmt']\n",
    "\n",
    "test['V307_diff'] = test['V307'].diff().shift(-1)\n",
    "test['difference'] = test['V307_diff'] - test['TransactionAmt']"
   ]
  },
  {
   "cell_type": "code",
   "execution_count": 25,
   "metadata": {},
   "outputs": [],
   "source": [
    "total = pd.concat([train,test],axis=0,sort=False)\n",
    "\n",
    "train['uid2_next_click'] = train['TransactionDT'] - train.groupby(['uid2'])['TransactionDT'].shift(-1)\n",
    "test['uid2_next_click'] = test['TransactionDT'] - test.groupby(['uid2'])['TransactionDT'].shift(-1)\n",
    "\n",
    "train = train.merge(total.groupby(['uid','account_make_date_D1','ProductCD'])['TransactionAmt'].agg({'mean','std'}).reset_index().rename(columns={'mean':'uid_D1_productCD_Amt_mean','std':'uid_D1_productCD_Amt_std'}), how='left', on = ['uid','account_make_date_D1','ProductCD'])\n",
    "test = test.merge(total.groupby(['uid','account_make_date_D1','ProductCD'])['TransactionAmt'].agg({'mean','std'}).reset_index().rename(columns={'mean':'uid_D1_productCD_Amt_mean','std':'uid_D1_productCD_Amt_std'}), how='left', on = ['uid','account_make_date_D1','ProductCD'])\n",
    "train = train.merge(total.groupby(['uid2','ProductCD'])['dayofweek'].agg({'mean','std'}).reset_index().rename(columns={'mean':'uid2_dayofweek_mean','std':'uid2_dayofweek_std'}), how='left', on = ['uid2','ProductCD'])\n",
    "test = test.merge(total.groupby(['uid2','ProductCD'])['dayofweek'].agg({'mean','std'}).reset_index().rename(columns={'mean':'uid2_dayofweek_mean','std':'uid2_dayofweek_std'}), how='left', on = ['uid2','ProductCD'])"
   ]
  },
  {
   "cell_type": "code",
   "execution_count": 26,
   "metadata": {},
   "outputs": [],
   "source": [
    "del train['uid']; del train['uid2']; del train['bank_type']\n",
    "del test['uid']; del test['uid2']; del test['bank_type']"
   ]
  },
  {
   "cell_type": "code",
   "execution_count": 27,
   "metadata": {},
   "outputs": [],
   "source": [
    "# M1부터 M9까지 컬럼 목록\n",
    "m_columns = [f'M{i}' for i in range(1, 9)]\n",
    "\n",
    "# M4를 제외한 나머지 컬럼들에 대해 T/F를 1/0으로 변환\n",
    "mapping = {'T': 1, 'F': 0}\n",
    "for col in m_columns:\n",
    "    if col != 'M4':\n",
    "        # train[col] = train[col].map(mapping).fillna(-999)\n",
    "        # test[col] = test[col].map(mapping).fillna(-999)\n",
    "        train[col] = train[col].map(mapping)\n",
    "        test[col] = test[col].map(mapping)\n",
    "\n",
    "# M4에 대해 라벨 인코딩 수행\n",
    "label_encoder = LabelEncoder()\n",
    "train['M4'] = label_encoder.fit_transform(train['M4'].astype(str))\n",
    "test['M4'] = label_encoder.transform(test['M4'].astype(str))"
   ]
  },
  {
   "cell_type": "code",
   "execution_count": 28,
   "metadata": {},
   "outputs": [],
   "source": [
    "def reduce_mem_usage(df):\n",
    "    start_mem = df.memory_usage().sum() / 1024**2\n",
    "    print('Memory usage of dataframe is {:.2f} MB'.format(start_mem))\n",
    "    \n",
    "    for col in df.columns:\n",
    "        col_type = df[col].dtype\n",
    "        \n",
    "        if col_type != object and not np.issubdtype(col_type, np.datetime64):\n",
    "            c_min = df[col].min()\n",
    "            c_max = df[col].max()\n",
    "            \n",
    "            if str(col_type)[:3] == 'int':\n",
    "                if c_min > np.iinfo(np.int8).min and c_max < np.iinfo(np.int8).max:\n",
    "                    df[col] = df[col].astype(np.int8)\n",
    "                elif c_min > np.iinfo(np.int16).min and c_max < np.iinfo(np.int16).max:\n",
    "                    df[col] = df[col].astype(np.int16)\n",
    "                elif c_min > np.iinfo(np.int32).min and c_max < np.iinfo(np.int32).max:\n",
    "                    df[col] = df[col].astype(np.int32)\n",
    "                elif c_min > np.iinfo(np.int64).min and c_max < np.iinfo(np.int64).max:\n",
    "                    df[col] = df[col].astype(np.int64)  \n",
    "            else:\n",
    "                if c_min > np.finfo(np.float16).min and c_max < np.finfo(np.float16).max:\n",
    "                    df[col] = df[col].astype(np.float16)\n",
    "                elif c_min > np.finfo(np.float32).min and c_max < np.finfo(np.float32).max:\n",
    "                    df[col] = df[col].astype(np.float32)\n",
    "                else:\n",
    "                    df[col] = df[col].astype(np.float64)\n",
    "    \n",
    "    end_mem = df.memory_usage().sum() / 1024**2\n",
    "    print('Memory usage after optimization is: {:.2f} MB'.format(end_mem))\n",
    "    print('Decreased by {:.1f}%'.format(100 * (start_mem - end_mem) / start_mem))\n",
    "    \n",
    "    return df"
   ]
  },
  {
   "cell_type": "code",
   "execution_count": 29,
   "metadata": {},
   "outputs": [
    {
     "name": "stdout",
     "output_type": "stream",
     "text": [
      "Memory usage of dataframe is 468.57 MB\n",
      "Memory usage after optimization is: 182.47 MB\n",
      "Decreased by 61.1%\n",
      "Memory usage of dataframe is 398.17 MB\n",
      "Memory usage after optimization is: 157.05 MB\n",
      "Decreased by 60.6%\n"
     ]
    }
   ],
   "source": [
    "# 적용\n",
    "train = reduce_mem_usage(train)\n",
    "test = reduce_mem_usage(test)"
   ]
  },
  {
   "cell_type": "code",
   "execution_count": 30,
   "metadata": {},
   "outputs": [],
   "source": [
    "test = test.drop(['V307','id_30','id_31','id_32','id_33','DeviceType','DeviceInfo'], axis=1)\n",
    "train = train.drop(['V307','id_30','id_31','id_32','id_33','DeviceType','DeviceInfo'], axis=1)"
   ]
  },
  {
   "cell_type": "code",
   "execution_count": 31,
   "metadata": {},
   "outputs": [],
   "source": [
    "# 범주형 열을 숫자형으로 변환\n",
    "def encode_categorical_columns(df):\n",
    "    for column in df.select_dtypes(include=['object']).columns:\n",
    "        le = LabelEncoder()\n",
    "        df[column] = le.fit_transform(df[column])\n",
    "    return df"
   ]
  },
  {
   "cell_type": "code",
   "execution_count": 33,
   "metadata": {},
   "outputs": [],
   "source": [
    "# train 데이터 인코딩\n",
    "train = encode_categorical_columns(train)\n",
    "\n",
    "# test 데이터 인코딩\n",
    "test_encoded = encode_categorical_columns(test)"
   ]
  },
  {
   "cell_type": "code",
   "execution_count": 34,
   "metadata": {},
   "outputs": [
    {
     "data": {
      "text/plain": [
       "((590540, 99), (590540,), (506691, 99))"
      ]
     },
     "execution_count": 34,
     "metadata": {},
     "output_type": "execute_result"
    }
   ],
   "source": [
    "y = train['isFraud']\n",
    "X = train.drop('isFraud', axis=1)\n",
    "X.shape, y.shape, test_encoded.shape"
   ]
  },
  {
   "cell_type": "code",
   "execution_count": 35,
   "metadata": {},
   "outputs": [],
   "source": [
    "# DateTime64 타입의 열을 숫자 형식으로 변환하는 함수\n",
    "def convert_datetime_columns(df):\n",
    "    for col in df.columns:\n",
    "        if pd.api.types.is_datetime64_any_dtype(df[col]):\n",
    "            df[col] = df[col].astype('int64') // 10**9  # 초 단위로 변환\n",
    "    return df\n",
    "\n",
    "# Assuming X is your feature DataFrame\n",
    "X = convert_datetime_columns(X)\n",
    "test_encoded = convert_datetime_columns(test_encoded)"
   ]
  },
  {
   "cell_type": "code",
   "execution_count": 36,
   "metadata": {},
   "outputs": [],
   "source": [
    "X['DT_M'] = (X['year']-2017)*12 + X['month'] \n",
    "test_encoded['DT_M'] = (test_encoded['year']-2017)*12 + test_encoded['month']"
   ]
  },
  {
   "cell_type": "code",
   "execution_count": 37,
   "metadata": {},
   "outputs": [
    {
     "data": {
      "text/plain": [
       "((590540, 100), (590540,), (506691, 100))"
      ]
     },
     "execution_count": 37,
     "metadata": {},
     "output_type": "execute_result"
    }
   ],
   "source": [
    "X.shape, y.shape, test_encoded.shape"
   ]
  },
  {
   "cell_type": "code",
   "execution_count": 38,
   "metadata": {},
   "outputs": [],
   "source": [
    "params = {\n",
    "    'objective': 'binary',\n",
    "    \"metric\": 'auc',\n",
    "    'num_leaves': 491,\n",
    "    'feature_fraction': 0.3797454081646243,\n",
    "    'bagging_fraction': 0.4181193142567742,\n",
    "    'min_data_in_leaf': 106,\n",
    "    'max_depth': -1,\n",
    "    'learning_rate': 0.006883242363721497,\n",
    "    'reg_alpha': 0.3899927210061127,\n",
    "    'reg_lambda': 0.6485237330340494,\n",
    "    'random_state': 2024\n",
    "         }\n",
    "\n"
   ]
  },
  {
   "cell_type": "code",
   "execution_count": 73,
   "metadata": {},
   "outputs": [
    {
     "data": {
      "text/plain": [
       "0         12\n",
       "1         12\n",
       "2         12\n",
       "3         12\n",
       "4         12\n",
       "          ..\n",
       "590535    17\n",
       "590536    17\n",
       "590537    17\n",
       "590538    17\n",
       "590539    17\n",
       "Name: DT_M, Length: 590540, dtype: int16"
      ]
     },
     "execution_count": 73,
     "metadata": {},
     "output_type": "execute_result"
    }
   ],
   "source": [
    "X['DT_M']"
   ]
  },
  {
   "cell_type": "code",
   "execution_count": 81,
   "metadata": {
    "scrolled": true
   },
   "outputs": [
    {
     "name": "stdout",
     "output_type": "stream",
     "text": [
      "Training on fold 1\n",
      "[LightGBM] [Info] Number of positive: 17113, number of negative: 436106\n",
      "[LightGBM] [Info] Auto-choosing row-wise multi-threading, the overhead of testing was 0.060799 seconds.\n",
      "You can set `force_row_wise=true` to remove the overhead.\n",
      "And if memory is not enough, you can set `force_col_wise=true`.\n",
      "[LightGBM] [Info] Total Bins 16391\n",
      "[LightGBM] [Info] Number of data points in the train set: 453219, number of used features: 99\n",
      "[LightGBM] [Info] [binary:BoostFromScore]: pavg=0.037759 -> initscore=-3.238047\n",
      "[LightGBM] [Info] Start training from score -3.238047\n",
      "Training until validation scores don't improve for 100 rounds\n",
      "[500]\ttraining's auc: 0.989946\tvalid_1's auc: 0.894298\n",
      "[1000]\ttraining's auc: 0.998922\tvalid_1's auc: 0.90336\n",
      "[1500]\ttraining's auc: 0.999909\tvalid_1's auc: 0.905877\n",
      "[2000]\ttraining's auc: 0.999995\tvalid_1's auc: 0.907827\n",
      "[2500]\ttraining's auc: 1\tvalid_1's auc: 0.909087\n",
      "[3000]\ttraining's auc: 1\tvalid_1's auc: 0.909531\n",
      "[3500]\ttraining's auc: 1\tvalid_1's auc: 0.910028\n",
      "Early stopping, best iteration is:\n",
      "[3546]\ttraining's auc: 1\tvalid_1's auc: 0.910067\n",
      "Fold 1 finished in 0:22:40.065200\n",
      "Training on fold 2\n",
      "[LightGBM] [Info] Number of positive: 16644, number of negative: 472264\n",
      "[LightGBM] [Info] Auto-choosing row-wise multi-threading, the overhead of testing was 0.064199 seconds.\n",
      "You can set `force_row_wise=true` to remove the overhead.\n",
      "And if memory is not enough, you can set `force_col_wise=true`.\n",
      "[LightGBM] [Info] Total Bins 17172\n",
      "[LightGBM] [Info] Number of data points in the train set: 488908, number of used features: 100\n",
      "[LightGBM] [Info] [binary:BoostFromScore]: pavg=0.034043 -> initscore=-3.345488\n",
      "[LightGBM] [Info] Start training from score -3.345488\n",
      "Training until validation scores don't improve for 100 rounds\n",
      "[500]\ttraining's auc: 0.989179\tvalid_1's auc: 0.939639\n",
      "[1000]\ttraining's auc: 0.998882\tvalid_1's auc: 0.947473\n",
      "[1500]\ttraining's auc: 0.999913\tvalid_1's auc: 0.949696\n",
      "[2000]\ttraining's auc: 0.999996\tvalid_1's auc: 0.950433\n",
      "Early stopping, best iteration is:\n",
      "[1994]\ttraining's auc: 0.999995\tvalid_1's auc: 0.950437\n",
      "Fold 2 finished in 0:12:18.905746\n",
      "Training on fold 3\n",
      "[LightGBM] [Info] Number of positive: 14130, number of negative: 400170\n",
      "[LightGBM] [Info] Auto-choosing row-wise multi-threading, the overhead of testing was 0.054489 seconds.\n",
      "You can set `force_row_wise=true` to remove the overhead.\n",
      "And if memory is not enough, you can set `force_col_wise=true`.\n",
      "[LightGBM] [Info] Total Bins 17142\n",
      "[LightGBM] [Info] Number of data points in the train set: 414300, number of used features: 100\n",
      "[LightGBM] [Info] [binary:BoostFromScore]: pavg=0.034106 -> initscore=-3.343589\n",
      "[LightGBM] [Info] Start training from score -3.343589\n",
      "Training until validation scores don't improve for 100 rounds\n",
      "[500]\ttraining's auc: 0.990359\tvalid_1's auc: 0.945803\n",
      "[1000]\ttraining's auc: 0.999281\tvalid_1's auc: 0.953511\n",
      "[1500]\ttraining's auc: 0.999963\tvalid_1's auc: 0.954864\n",
      "Early stopping, best iteration is:\n",
      "[1541]\ttraining's auc: 0.999971\tvalid_1's auc: 0.9549\n",
      "Fold 3 finished in 0:09:16.640807\n",
      "Training on fold 4\n",
      "[LightGBM] [Info] Number of positive: 14102, number of negative: 401091\n",
      "[LightGBM] [Info] Auto-choosing row-wise multi-threading, the overhead of testing was 0.053480 seconds.\n",
      "You can set `force_row_wise=true` to remove the overhead.\n",
      "And if memory is not enough, you can set `force_col_wise=true`.\n",
      "[LightGBM] [Info] Total Bins 17113\n",
      "[LightGBM] [Info] Number of data points in the train set: 415193, number of used features: 100\n",
      "[LightGBM] [Info] [binary:BoostFromScore]: pavg=0.033965 -> initscore=-3.347872\n",
      "[LightGBM] [Info] Start training from score -3.347872\n",
      "Training until validation scores don't improve for 100 rounds\n",
      "[500]\ttraining's auc: 0.99093\tvalid_1's auc: 0.942164\n",
      "[1000]\ttraining's auc: 0.999305\tvalid_1's auc: 0.948341\n",
      "Early stopping, best iteration is:\n",
      "[1188]\ttraining's auc: 0.999763\tvalid_1's auc: 0.948805\n",
      "Fold 4 finished in 0:06:58.786545\n",
      "------------------------------\n",
      "Training has finished.\n",
      "Total training time is 0:51:14.435690\n",
      "Mean AUC: 0.9410520069342314\n",
      "Total Validation:  0.9393784733810705\n",
      "------------------------------\n"
     ]
    }
   ],
   "source": [
    "from time import time\n",
    "import datetime \n",
    "\n",
    "from sklearn.model_selection import KFold, StratifiedKFold, TimeSeriesSplit, GroupKFold\n",
    "\n",
    "NFOLD = 4\n",
    "folds =  GroupKFold(n_splits=NFOLD)\n",
    "split_groups = X['DT_M']\n",
    "\n",
    "aucs = list()\n",
    "feature_importances = pd.DataFrame()\n",
    "feature_importances['feature'] = X.columns\n",
    "oofs = np.zeros(len(X))\n",
    "preds = np.zeros(len(test_encoded))\n",
    "\n",
    "training_start_time = time()\n",
    "for fold, (trn_idx, test_idx) in enumerate(folds.split(X, y, groups = split_groups)):\n",
    "    start_time = time()\n",
    "    print('Training on fold {}'.format(fold + 1))\n",
    "    \n",
    "    trn_data = lgb.Dataset(X.iloc[trn_idx], label=y.iloc[trn_idx])\n",
    "    val_data = lgb.Dataset(X.iloc[test_idx], label=y.iloc[test_idx])\n",
    "\n",
    "    callbacks = [lgb.early_stopping(stopping_rounds=100), \n",
    "                 lgb.log_evaluation(period=500)]\n",
    "    clf = lgb.train(params, trn_data, \n",
    "                    num_boost_round = 10000, \n",
    "                    valid_sets = [trn_data, val_data],\n",
    "                    callbacks=callbacks)\n",
    "    \n",
    "    oofs[test_idx] = clf.predict(X.iloc[test_idx])\n",
    "    preds += clf.predict(test)/NFOLD\n",
    "    \n",
    "    feature_importances['fold_{}'.format(fold + 1)] = clf.feature_importance()\n",
    "    aucs.append(clf.best_score['valid_1']['auc'])\n",
    "    \n",
    "    print('Fold {} finished in {}'.format(fold + 1, str(datetime.timedelta(seconds=time() - start_time))))\n",
    "print('-' * 30)\n",
    "print('Training has finished.')\n",
    "print('Total training time is {}'.format(str(datetime.timedelta(seconds=time() - training_start_time))))\n",
    "print('Mean AUC:', np.mean(aucs))\n",
    "print(\"Total Validation: \", roc_auc_score(y, oofs))\n",
    "print('-' * 30)"
   ]
  },
  {
   "cell_type": "code",
   "execution_count": null,
   "metadata": {},
   "outputs": [],
   "source": [
    "    params = {\n",
    "    'objective': 'binary',\n",
    "    \"metric\": 'auc',\n",
    "    'num_leaves': 491,\n",
    "    'min_child_weight' : 0.0354423456321421,\n",
    "    'feature_fraction': 0.3797454081646243,\n",
    "    'bagging_fraction': 0.4181193142567742,\n",
    "    'min_data_in_leaf': 106,\n",
    "    'max_depth': -1,\n",
    "    'learning_rate': 0.006883242363721497,\n",
    "    'reg_alpha': 0.3899927210061127,\n",
    "    'reg_lambda': 0.6485237330340494,\n",
    "    'random_state': 2024\n",
    "         }"
   ]
  },
  {
   "cell_type": "code",
   "execution_count": 103,
   "metadata": {},
   "outputs": [
    {
     "data": {
      "text/plain": [
       "Text(0.5, 1.0, '25 TOP feature importance over 4 folds average')"
      ]
     },
     "execution_count": 103,
     "metadata": {},
     "output_type": "execute_result"
    },
    {
     "data": {
      "image/png": "[encoded data removed]",
      "text/plain": [
       "<Figure size 1000x700 with 1 Axes>"
      ]
     },
     "metadata": {},
     "output_type": "display_data"
    }
   ],
   "source": [
    "import seaborn as sns\n",
    "feature_importances['average'] = feature_importances[['fold_{}'.format(fold + 1) for fold in range(folds.n_splits)]].mean(axis=1)\n",
    "feature_importances.to_csv('feature_importances.csv')\n",
    "\n",
    "plt.figure(figsize=(10, 7))\n",
    "sns.barplot(data=feature_importances.sort_values(by='average', ascending=False).head(25), x='average', y='feature');\n",
    "plt.title('25 TOP feature importance over {} folds average'.format(folds.n_splits))"
   ]
  },
  {
   "cell_type": "code",
   "execution_count": 83,
   "metadata": {},
   "outputs": [
    {
     "name": "stdout",
     "output_type": "stream",
     "text": [
      "        TransactionID   isFraud\n",
      "0             3663549  0.000727\n",
      "1             3663550  0.001886\n",
      "2             3663551  0.002130\n",
      "3             3663552  0.001302\n",
      "4             3663553  0.002818\n",
      "...               ...       ...\n",
      "506686        4170235  0.005382\n",
      "506687        4170236  0.003911\n",
      "506688        4170237  0.002982\n",
      "506689        4170238  0.002953\n",
      "506690        4170239  0.003782\n",
      "\n",
      "[506691 rows x 2 columns]\n"
     ]
    }
   ],
   "source": [
    "result = pd.read_csv('./data/sample_submission.csv')\n",
    "result['isFraud'] = preds\n",
    "result.to_csv('final_result.csv',index=False)\n",
    "print(result)"
   ]
  },
  {
   "cell_type": "code",
   "execution_count": 79,
   "metadata": {},
   "outputs": [],
   "source": [
    "import optuna\n",
    "import lightgbm as lgb\n",
    "from sklearn.metrics import roc_auc_score\n",
    "from sklearn.model_selection import train_test_split"
   ]
  },
  {
   "cell_type": "code",
   "execution_count": null,
   "metadata": {},
   "outputs": [],
   "source": [
    "def objective_lgbm(trial):\n",
    "    param_suggest = {\n",
    "        'objective': 'binary',\n",
    "        'metric': 'auc',\n",
    "        'num_leaves': trial.suggest_int('num_leaves', 200, 600),\n",
    "        'min_child_weight': trial.suggest_float('min_child_weight', 0.01, 0.1),\n",
    "        'feature_fraction': trial.suggest_float('feature_fraction', 0.3, 0.8),\n",
    "        'bagging_fraction': trial.suggest_float('bagging_fraction', 0.5, 1.0),\n",
    "        'min_data_in_leaf': trial.suggest_int('min_data_in_leaf', 100, 110),\n",
    "        'learning_rate': trial.suggest_float('learning_rate', 0.005, 0.1),\n",
    "        'reg_alpha': trial.suggest_float('reg_alpha', 0.0, 1.0),\n",
    "        'reg_lambda': trial.suggest_float('reg_lambda', 0.0, 1.0),\n",
    "        'random_state': 2024\n",
    "    }\n",
    "\n",
    "    train_data = lgb.Dataset(X_train, label=y_train)\n",
    "    valid_data = lgb.Dataset(X_valid, label=y_valid, reference=train_data)\n",
    "    \n",
    "    model = lgb.train(param_suggest, train_data, num_boost_round=2500, \n",
    "                      valid_sets=[train_data, valid_data], \n",
    "                      early_stopping_rounds=100, \n",
    "                      verbose_eval=False)\n",
    "    \n",
    "    y_pred = model.predict(X_valid, num_iteration=model.best_iteration)\n",
    "    auc = roc_auc_score(y_valid, y_pred)\n",
    "    \n",
    "    return auc\n",
    "\n",
    "study = optuna.create_study(direction='maximize')\n",
    "study.optimize(objective_lgbm, n_trials=100)\n",
    "\n",
    "best_params = study.best_params\n",
    "print('Best Parameters:', best_params)"
   ]
  },
  {
   "cell_type": "code",
   "execution_count": null,
   "metadata": {},
   "outputs": [
    {
     "name": "stdout",
     "output_type": "stream",
     "text": [
      "Columns in the DataFrame:\n",
      "timeblock, TransactionDT, TransactionAmt, card1, card2, card3, card5, addr1, addr2, C1, C2, C3, C4, C5, C6, C7, C8, C9, C10, C11, C12, C13, C14, D1, D2, D3, D4, D5, D6, D7, D8, D9, D10, D11, D12, D13, D14, D15, ProductCD, card4, card6, P_emaildomain, R_emaildomain, dist1, id_34, V314, V310, V127, V78, V62, M1, M2, M3, M4, M5, M6, M7, M8, card1_TransactionAmt_mean, card1_TransactionAmt_std, card1_TransactionAmt_nunique, card2_TransactionAmt_mean, card2_TransactionAmt_std, card2_TransactionAmt_nunique, card3_TransactionAmt_mean, card3_TransactionAmt_std, card3_TransactionAmt_nunique, card5_TransactionAmt_mean, card5_TransactionAmt_std, card5_TransactionAmt_nunique, uid_TransactionAmt_mean, uid_TransactionAmt_std, uid_TransactionAmt_nunique, uid2_TransactionAmt_mean, uid2_TransactionAmt_std, uid2_TransactionAmt_nunique, address_match, account_make_date_D1, account_make_date_D2, account_make_date_D4, account_make_date_D8, account_make_date_D10, account_make_date_D15, date, year, month, day, dayofweek, hour, prev_transaction_diff, card_hash, device_hash, V307_diff, difference, uid2_next_click, uid_D1_productCD_Amt_std, uid_D1_productCD_Amt_mean, uid2_dayofweek_std, uid2_dayofweek_mean\n",
      "Columns in the DataFrame:\n",
      "timeblock, TransactionDT, TransactionAmt, card1, card2, card3, card5, addr1, addr2, C1, C2, C3, C4, C5, C6, C7, C8, C9, C10, C11, C12, C13, C14, D1, D2, D3, D4, D5, D6, D7, D8, D9, D10, D11, D12, D13, D14, D15, ProductCD, card4, card6, P_emaildomain, R_emaildomain, dist1, id_34, V314, V310, V127, V78, V62, M1, M2, M3, M4, M5, M6, M7, M8, isFraud, card1_TransactionAmt_mean, card1_TransactionAmt_std, card1_TransactionAmt_nunique, card2_TransactionAmt_mean, card2_TransactionAmt_std, card2_TransactionAmt_nunique, card3_TransactionAmt_mean, card3_TransactionAmt_std, card3_TransactionAmt_nunique, card5_TransactionAmt_mean, card5_TransactionAmt_std, card5_TransactionAmt_nunique, uid_TransactionAmt_mean, uid_TransactionAmt_std, uid_TransactionAmt_nunique, uid2_TransactionAmt_mean, uid2_TransactionAmt_std, uid2_TransactionAmt_nunique, address_match, account_make_date_D1, account_make_date_D2, account_make_date_D4, account_make_date_D8, account_make_date_D10, account_make_date_D15, date, year, month, day, dayofweek, hour, prev_transaction_diff, card_hash, device_hash, V307_diff, difference, uid2_next_click, uid_D1_productCD_Amt_std, uid_D1_productCD_Amt_mean, uid2_dayofweek_std, uid2_dayofweek_mean\n"
     ]
    }
   ],
   "source": [
    "def print_columns(df):\n",
    "    print(\"Columns in the DataFrame:\")\n",
    "    print(\", \".join(df.columns))\n",
    "\n",
    "print_columns(test_encoded)\n",
    "print_columns(train)"
   ]
  },
  {
   "cell_type": "code",
   "execution_count": null,
   "metadata": {},
   "outputs": [
    {
     "data": {
      "image/png": "[encoded data removed]",
      "text/plain": [
       "<Figure size 1000x800 with 1 Axes>"
      ]
     },
     "metadata": {},
     "output_type": "display_data"
    }
   ],
   "source": [
    "# 피처 중요도 추출\n",
    "importance = clf.feature_importance()\n",
    "feature_names = X_tr.columns\n",
    "\n",
    "# 피처 중요도를 데이터프레임으로 변환\n",
    "importance_df = pd.DataFrame({\n",
    "    'feature': feature_names,\n",
    "    'importance': importance\n",
    "})\n",
    "\n",
    "# 'D'로 시작하는 피처만 필터링\n",
    "d_features = importance_df[importance_df['feature'].str.startswith('D')]\n",
    "\n",
    "# 중요도 순으로 정렬\n",
    "d_features = d_features.sort_values(by='importance', ascending=False)\n",
    "\n",
    "# 피처 중요도 시각화\n",
    "plt.figure(figsize=(10, 8))\n",
    "plt.barh(d_features['feature'], d_features['importance'], color='skyblue')\n",
    "plt.xlabel('Feature Importance')\n",
    "plt.ylabel('Feature')\n",
    "plt.title('Feature Importances of D Columns')\n",
    "plt.gca().invert_yaxis()  # 가장 중요한 피처가 위에 오도록 y축을 반전\n",
    "plt.show()"
   ]
  }
 ],
 "metadata": {
  "kernelspec": {
   "display_name": "base",
   "language": "python",
   "name": "python3"
  },
  "language_info": {
   "codemirror_mode": {
    "name": "ipython",
    "version": 3
   },
   "file_extension": ".py",
   "mimetype": "text/x-python",
   "name": "python",
   "nbconvert_exporter": "python",
   "pygments_lexer": "ipython3",
   "version": "3.9.13"
  }
 },
 "nbformat": 4,
 "nbformat_minor": 4
}
